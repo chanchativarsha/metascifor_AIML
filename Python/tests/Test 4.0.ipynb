{
 "cells": [
  {
   "cell_type": "raw",
   "id": "30b211db",
   "metadata": {},
   "source": [
    "Note: All mathematics and calculations must be done using Python code. Do not solve using pen and paper."
   ]
  },
  {
   "cell_type": "markdown",
   "id": "cda4d873",
   "metadata": {},
   "source": [
    "## Section A: Descriptive Statistics (30 Marks)\n",
    "#### Answer any 6 questions. Each question carries 5 marks."
   ]
  },
  {
   "cell_type": "markdown",
   "id": "16ee1374",
   "metadata": {},
   "source": [
    "1- Define the following terms with examples:\n",
    "\n",
    "    a) Mean\n",
    "    Mean means average, the sum of all elements present in the data by number of elements in data.\n",
    "    b) Median\n",
    "    Meadian is used for finding the middle value, the sum of elements devide by 2.\n",
    "    c) Mode\n",
    "    Mode is used to find the most repeated element in the data\n",
    "2- Explain the difference between standard deviation and variance. How do they measure data dispersion?\n",
    "\n",
    "3- What are the different types of variables in statistics? Give one example each.\n",
    "   i: Descriptive Statistics: we will apply statistics on whole data to get some result like mean, median and mode\n",
    "      example: Finding the average height of class. Then we check the height of every student in the class and we will find the result of mean which is                average.\n",
    "   ii: Inferential statistics: we will apply statistics on some sample data from whole data and then we will get some result, we assume that result to         the whole data.\n",
    "       example: finding the height of every student in the class is time consuming instead of that we will get some sample of students from the class                   and find the average height of student and considered as average height of whole class. \n",
    "\n",
    "4- What is the Central Limit Theorem? Why is it important in statistics?\n",
    "Normal Distribution:\n",
    "The data follows a bell-shaped curve naturally, and this shape remains consistent regardless of the sample size.\n",
    "Non-Normal Distribution:\n",
    "For data that does not follow a normal distribution, the distribution of the sample mean tends to become approximately normal if the sample size is sufficiently large (typically greater than 30). This is a consequence of the Central Limit Theorem.\n",
    "To convert the Right skewed data and left skewed data into normal distribution we use Central Limit Theorem which means converting non-normal distributions into normal distribution we use CLT.\n",
    "\n",
    "5- Explain the difference between dependent and independent variables using a real-world example.\n",
    "Dependent variable: a variable which is dependent on something else. \n",
    " For example: A student will get good marks only when student study well. So, marks variable is dependent.\n",
    "Independent variable: A varaible which is not dependent on something else.\n",
    "  For example:  A student will get good marks only when student study well.So, student varaible is independent. \n",
    "  \n",
    "6- What are the measures of dispersion in descriptive statistics? Define each briefly.\n",
    "i) Measure of Central Tendency\n",
    "A single figure that represents or summarizes a whole set of data is called a measure of central tendency. It gives an idea about the center or typical value of the dataset.\n",
    "\n",
    "       Mean: The average of all data points.\n",
    "       Median: The middle value when data is arranged in order.\n",
    "       Mode: The most frequently occurring value in the dataset.\n",
    "\n",
    "        Example:\n",
    "          For data [5, 7, 8, 7, 10]\n",
    "          Mean = (5+7+8+7+10)/5 = 7.4\n",
    "          Median = 7\n",
    "          Mode = 7\n",
    "\n",
    "ii) Measure of Dispersion (Spread)\n",
    "Measures of dispersion describe how spread out or scattered the data values are around the central tendency (mean or median). It helps to understand the variability in the dataset.\n",
    "\n",
    "        Variance:\n",
    "         The average of the squared differences between each data point and the mean. \n",
    "\n",
    "        Standard Deviation:\n",
    "         The square root of the variance, representing the average distance of data points from the mean in the same units as the original data.\n",
    "\n",
    "        Range:\n",
    "        The difference between the maximum and minimum values in the dataset. \n",
    "\n",
    "        Interquartile Range (IQR):\n",
    "        The difference between the 75th percentile (Q3) and the 25th percentile (Q1).\n",
    "\n",
    "      Example:\n",
    "      For data [5, 7, 8, 7, 10]:\n",
    "      Variance ≈ 3.3\n",
    "      Standard Deviation ≈ 1.82\n",
    "      Range = 10 - 5 = 5\n",
    "      IQR = Q3 (8) - Q1 (6) = 2\n",
    "\n",
    "7- Using the following data, calculate:\n",
    "\n",
    "    Mean\n",
    "\n",
    "    Median\n",
    "\n",
    "    Variance\n",
    "\n",
    "    Standard Deviation\n",
    "\n",
    "    \n",
    "Data: [12, 15, 14, 10, 8, 9, 10, 15, 18, 20]\n",
    "\n"
   ]
  },
  {
   "cell_type": "markdown",
   "id": "4f383b62",
   "metadata": {},
   "source": [
    "## Section B: Data Visualization using Seaborn & Matplotlib (40 Marks)\n",
    "\n",
    "#### Answer any 8 questions. Each question carries 5 marks."
   ]
  },
  {
   "cell_type": "markdown",
   "id": "7bb35b56",
   "metadata": {},
   "source": [
    "- Use Python with Seaborn/Matplotlib to answer the following. You may use the tips, iris, or penguins dataset from Seaborn.\n",
    "\n",
    "\n"
   ]
  },
  {
   "cell_type": "raw",
   "id": "6298e017",
   "metadata": {},
   "source": [
    "import seaborn as sns\n",
    "import matplotlib.pyplot as plt\n",
    "\n",
    "tips = sns.load_dataset(\"tips\")\n",
    "iris = sns.load_dataset(\"iris\")\n",
    "penguins = sns.load_dataset(\"penguins\")\n"
   ]
  },
  {
   "cell_type": "markdown",
   "id": "2c4eb38a",
   "metadata": {},
   "source": [
    "1- Plot a histogram of the total_bill column from the tips dataset.\n",
    "\n",
    "2- Create a scatterplot of total_bill vs tip and add hue for the sex column.\n",
    "\n",
    "3- Draw a boxplot of total_bill for each day of the week using the tips dataset .\n",
    "\n",
    "4- Create a countplot showing the frequency of each day in the tips dataset.\n",
    "\n",
    "5- Plot a barplot showing the average tip per day.\n",
    "\n",
    "6- Create a KDE plot of petal_length from the iris dataset.\n",
    "\n",
    "7- Use a pairplot on the iris dataset to visualize relationships between all features.\n",
    "\n",
    "8- Plot a violinplot showing the distribution of tip amounts by smoker status.\n",
    "\n",
    "9- Detect outliers in the total_bill column using the IQR method. Display the outliers.\n",
    "\n",
    "10- Create a heatmap of the correlation matrix of the penguins dataset.\n",
    "\n"
   ]
  },
  {
   "cell_type": "markdown",
   "id": "d6625431",
   "metadata": {},
   "source": [
    "# Additional Question (10 Marks)"
   ]
  },
  {
   "cell_type": "markdown",
   "id": "9ed68824",
   "metadata": {},
   "source": [
    "###### Q. Given the following dataset of daily sales (in thousands), identify any outliers using the Interquartile Range (IQR) method. Also, print the lower and upper bounds.\n",
    "\n"
   ]
  },
  {
   "cell_type": "raw",
   "id": "49affa84",
   "metadata": {},
   "source": [
    "Data= [25, 28, 30, 29, 27, 45, 26, 31, 120, 32, 30, 29, 28, 27, 26, 25, 90]"
   ]
  },
  {
   "cell_type": "markdown",
   "id": "edf0ce24",
   "metadata": {},
   "source": [
    "###### Instructions:\n",
    "\n",
    "1- Calculate Q1 (25th percentile) and Q3 (75th percentile)\n",
    "\n",
    "2- Calculate IQR = Q3 - Q1\n",
    "\n",
    "3- Find lower bound = Q1 - 1.5 × IQR\n",
    "\n",
    "4- Find upper bound = Q3 + 1.5 × IQR\n",
    "\n",
    "5 -Identify and list all outliers"
   ]
  },
  {
   "cell_type": "code",
   "execution_count": 1,
   "id": "2102f108",
   "metadata": {},
   "outputs": [],
   "source": [
    "#Section B: Data Visualization using Seaborn & Matplotlib (40 Marks)\n",
    "\n",
    "import seaborn as sns\n",
    "import matplotlib.pyplot as plt\n",
    "\n",
    "tips = sns.load_dataset(\"tips\")\n",
    "iris = sns.load_dataset(\"iris\")\n",
    "penguins = sns.load_dataset(\"penguins\")"
   ]
  },
  {
   "cell_type": "code",
   "execution_count": 5,
   "id": "14a488a7-3c90-416e-a988-591454904656",
   "metadata": {},
   "outputs": [
    {
     "data": {
      "text/html": [
       "<div>\n",
       "<style scoped>\n",
       "    .dataframe tbody tr th:only-of-type {\n",
       "        vertical-align: middle;\n",
       "    }\n",
       "\n",
       "    .dataframe tbody tr th {\n",
       "        vertical-align: top;\n",
       "    }\n",
       "\n",
       "    .dataframe thead th {\n",
       "        text-align: right;\n",
       "    }\n",
       "</style>\n",
       "<table border=\"1\" class=\"dataframe\">\n",
       "  <thead>\n",
       "    <tr style=\"text-align: right;\">\n",
       "      <th></th>\n",
       "      <th>total_bill</th>\n",
       "      <th>tip</th>\n",
       "      <th>sex</th>\n",
       "      <th>smoker</th>\n",
       "      <th>day</th>\n",
       "      <th>time</th>\n",
       "      <th>size</th>\n",
       "    </tr>\n",
       "  </thead>\n",
       "  <tbody>\n",
       "    <tr>\n",
       "      <th>0</th>\n",
       "      <td>16.99</td>\n",
       "      <td>1.01</td>\n",
       "      <td>Female</td>\n",
       "      <td>No</td>\n",
       "      <td>Sun</td>\n",
       "      <td>Dinner</td>\n",
       "      <td>2</td>\n",
       "    </tr>\n",
       "    <tr>\n",
       "      <th>1</th>\n",
       "      <td>10.34</td>\n",
       "      <td>1.66</td>\n",
       "      <td>Male</td>\n",
       "      <td>No</td>\n",
       "      <td>Sun</td>\n",
       "      <td>Dinner</td>\n",
       "      <td>3</td>\n",
       "    </tr>\n",
       "    <tr>\n",
       "      <th>2</th>\n",
       "      <td>21.01</td>\n",
       "      <td>3.50</td>\n",
       "      <td>Male</td>\n",
       "      <td>No</td>\n",
       "      <td>Sun</td>\n",
       "      <td>Dinner</td>\n",
       "      <td>3</td>\n",
       "    </tr>\n",
       "    <tr>\n",
       "      <th>3</th>\n",
       "      <td>23.68</td>\n",
       "      <td>3.31</td>\n",
       "      <td>Male</td>\n",
       "      <td>No</td>\n",
       "      <td>Sun</td>\n",
       "      <td>Dinner</td>\n",
       "      <td>2</td>\n",
       "    </tr>\n",
       "    <tr>\n",
       "      <th>4</th>\n",
       "      <td>24.59</td>\n",
       "      <td>3.61</td>\n",
       "      <td>Female</td>\n",
       "      <td>No</td>\n",
       "      <td>Sun</td>\n",
       "      <td>Dinner</td>\n",
       "      <td>4</td>\n",
       "    </tr>\n",
       "  </tbody>\n",
       "</table>\n",
       "</div>"
      ],
      "text/plain": [
       "   total_bill   tip     sex smoker  day    time  size\n",
       "0       16.99  1.01  Female     No  Sun  Dinner     2\n",
       "1       10.34  1.66    Male     No  Sun  Dinner     3\n",
       "2       21.01  3.50    Male     No  Sun  Dinner     3\n",
       "3       23.68  3.31    Male     No  Sun  Dinner     2\n",
       "4       24.59  3.61  Female     No  Sun  Dinner     4"
      ]
     },
     "execution_count": 5,
     "metadata": {},
     "output_type": "execute_result"
    }
   ],
   "source": [
    "tips.head()"
   ]
  },
  {
   "cell_type": "code",
   "execution_count": 6,
   "id": "5cf3304b-ee6e-486e-8191-03e8e48228f8",
   "metadata": {},
   "outputs": [
    {
     "data": {
      "text/html": [
       "<div>\n",
       "<style scoped>\n",
       "    .dataframe tbody tr th:only-of-type {\n",
       "        vertical-align: middle;\n",
       "    }\n",
       "\n",
       "    .dataframe tbody tr th {\n",
       "        vertical-align: top;\n",
       "    }\n",
       "\n",
       "    .dataframe thead th {\n",
       "        text-align: right;\n",
       "    }\n",
       "</style>\n",
       "<table border=\"1\" class=\"dataframe\">\n",
       "  <thead>\n",
       "    <tr style=\"text-align: right;\">\n",
       "      <th></th>\n",
       "      <th>sepal_length</th>\n",
       "      <th>sepal_width</th>\n",
       "      <th>petal_length</th>\n",
       "      <th>petal_width</th>\n",
       "      <th>species</th>\n",
       "    </tr>\n",
       "  </thead>\n",
       "  <tbody>\n",
       "    <tr>\n",
       "      <th>0</th>\n",
       "      <td>5.1</td>\n",
       "      <td>3.5</td>\n",
       "      <td>1.4</td>\n",
       "      <td>0.2</td>\n",
       "      <td>setosa</td>\n",
       "    </tr>\n",
       "    <tr>\n",
       "      <th>1</th>\n",
       "      <td>4.9</td>\n",
       "      <td>3.0</td>\n",
       "      <td>1.4</td>\n",
       "      <td>0.2</td>\n",
       "      <td>setosa</td>\n",
       "    </tr>\n",
       "    <tr>\n",
       "      <th>2</th>\n",
       "      <td>4.7</td>\n",
       "      <td>3.2</td>\n",
       "      <td>1.3</td>\n",
       "      <td>0.2</td>\n",
       "      <td>setosa</td>\n",
       "    </tr>\n",
       "    <tr>\n",
       "      <th>3</th>\n",
       "      <td>4.6</td>\n",
       "      <td>3.1</td>\n",
       "      <td>1.5</td>\n",
       "      <td>0.2</td>\n",
       "      <td>setosa</td>\n",
       "    </tr>\n",
       "    <tr>\n",
       "      <th>4</th>\n",
       "      <td>5.0</td>\n",
       "      <td>3.6</td>\n",
       "      <td>1.4</td>\n",
       "      <td>0.2</td>\n",
       "      <td>setosa</td>\n",
       "    </tr>\n",
       "  </tbody>\n",
       "</table>\n",
       "</div>"
      ],
      "text/plain": [
       "   sepal_length  sepal_width  petal_length  petal_width species\n",
       "0           5.1          3.5           1.4          0.2  setosa\n",
       "1           4.9          3.0           1.4          0.2  setosa\n",
       "2           4.7          3.2           1.3          0.2  setosa\n",
       "3           4.6          3.1           1.5          0.2  setosa\n",
       "4           5.0          3.6           1.4          0.2  setosa"
      ]
     },
     "execution_count": 6,
     "metadata": {},
     "output_type": "execute_result"
    }
   ],
   "source": [
    "iris.head()"
   ]
  },
  {
   "cell_type": "code",
   "execution_count": 7,
   "id": "b12079ae-a413-43de-90d3-c81275f4e83f",
   "metadata": {},
   "outputs": [
    {
     "data": {
      "text/html": [
       "<div>\n",
       "<style scoped>\n",
       "    .dataframe tbody tr th:only-of-type {\n",
       "        vertical-align: middle;\n",
       "    }\n",
       "\n",
       "    .dataframe tbody tr th {\n",
       "        vertical-align: top;\n",
       "    }\n",
       "\n",
       "    .dataframe thead th {\n",
       "        text-align: right;\n",
       "    }\n",
       "</style>\n",
       "<table border=\"1\" class=\"dataframe\">\n",
       "  <thead>\n",
       "    <tr style=\"text-align: right;\">\n",
       "      <th></th>\n",
       "      <th>species</th>\n",
       "      <th>island</th>\n",
       "      <th>bill_length_mm</th>\n",
       "      <th>bill_depth_mm</th>\n",
       "      <th>flipper_length_mm</th>\n",
       "      <th>body_mass_g</th>\n",
       "      <th>sex</th>\n",
       "    </tr>\n",
       "  </thead>\n",
       "  <tbody>\n",
       "    <tr>\n",
       "      <th>0</th>\n",
       "      <td>Adelie</td>\n",
       "      <td>Torgersen</td>\n",
       "      <td>39.1</td>\n",
       "      <td>18.7</td>\n",
       "      <td>181.0</td>\n",
       "      <td>3750.0</td>\n",
       "      <td>Male</td>\n",
       "    </tr>\n",
       "    <tr>\n",
       "      <th>1</th>\n",
       "      <td>Adelie</td>\n",
       "      <td>Torgersen</td>\n",
       "      <td>39.5</td>\n",
       "      <td>17.4</td>\n",
       "      <td>186.0</td>\n",
       "      <td>3800.0</td>\n",
       "      <td>Female</td>\n",
       "    </tr>\n",
       "    <tr>\n",
       "      <th>2</th>\n",
       "      <td>Adelie</td>\n",
       "      <td>Torgersen</td>\n",
       "      <td>40.3</td>\n",
       "      <td>18.0</td>\n",
       "      <td>195.0</td>\n",
       "      <td>3250.0</td>\n",
       "      <td>Female</td>\n",
       "    </tr>\n",
       "    <tr>\n",
       "      <th>3</th>\n",
       "      <td>Adelie</td>\n",
       "      <td>Torgersen</td>\n",
       "      <td>NaN</td>\n",
       "      <td>NaN</td>\n",
       "      <td>NaN</td>\n",
       "      <td>NaN</td>\n",
       "      <td>NaN</td>\n",
       "    </tr>\n",
       "    <tr>\n",
       "      <th>4</th>\n",
       "      <td>Adelie</td>\n",
       "      <td>Torgersen</td>\n",
       "      <td>36.7</td>\n",
       "      <td>19.3</td>\n",
       "      <td>193.0</td>\n",
       "      <td>3450.0</td>\n",
       "      <td>Female</td>\n",
       "    </tr>\n",
       "  </tbody>\n",
       "</table>\n",
       "</div>"
      ],
      "text/plain": [
       "  species     island  bill_length_mm  bill_depth_mm  flipper_length_mm   \n",
       "0  Adelie  Torgersen            39.1           18.7              181.0  \\\n",
       "1  Adelie  Torgersen            39.5           17.4              186.0   \n",
       "2  Adelie  Torgersen            40.3           18.0              195.0   \n",
       "3  Adelie  Torgersen             NaN            NaN                NaN   \n",
       "4  Adelie  Torgersen            36.7           19.3              193.0   \n",
       "\n",
       "   body_mass_g     sex  \n",
       "0       3750.0    Male  \n",
       "1       3800.0  Female  \n",
       "2       3250.0  Female  \n",
       "3          NaN     NaN  \n",
       "4       3450.0  Female  "
      ]
     },
     "execution_count": 7,
     "metadata": {},
     "output_type": "execute_result"
    }
   ],
   "source": [
    "penguins.head()"
   ]
  },
  {
   "cell_type": "code",
   "execution_count": 10,
   "id": "edb1c5a4-2f08-4f73-ac49-225f4a02c3c4",
   "metadata": {},
   "outputs": [
    {
     "data": {
      "text/plain": [
       "<Axes: ylabel='Frequency'>"
      ]
     },
     "execution_count": 10,
     "metadata": {},
     "output_type": "execute_result"
    },
    {
     "data": {
      "image/png": "[encoded data removed]",
      "text/plain": [
       "<Figure size 640x480 with 1 Axes>"
      ]
     },
     "metadata": {},
     "output_type": "display_data"
    }
   ],
   "source": [
    "#1\n",
    "tips.total_bill.plot(kind='hist')"
   ]
  },
  {
   "cell_type": "code",
   "execution_count": 11,
   "id": "3879818e-0651-412f-8542-7707f07bfa55",
   "metadata": {},
   "outputs": [
    {
     "data": {
      "text/plain": [
       "<Axes: xlabel='total_bill', ylabel='tip'>"
      ]
     },
     "execution_count": 11,
     "metadata": {},
     "output_type": "execute_result"
    },
    {
     "data": {
      "image/png": "[encoded data removed]",
      "text/plain": [
       "<Figure size 640x480 with 1 Axes>"
      ]
     },
     "metadata": {},
     "output_type": "display_data"
    }
   ],
   "source": [
    "#2- Create a scatterplot of total_bill vs tip and add hue for the sex column.\n",
    "sns.scatterplot(x='total_bill',y='tip',data=tips,hue='sex')"
   ]
  },
  {
   "cell_type": "code",
   "execution_count": 14,
   "id": "21447fda-a357-4689-9af2-551ddf6d09f1",
   "metadata": {},
   "outputs": [
    {
     "data": {
      "image/png": "[encoded data removed]",
      "text/plain": [
       "<Figure size 800x600 with 1 Axes>"
      ]
     },
     "metadata": {},
     "output_type": "display_data"
    }
   ],
   "source": [
    "# 3:Draw a boxplot of total_bill for each day of the week using the tips dataset .\n",
    "plt.figure(figsize=(8, 6))\n",
    "sns.boxplot(x=\"day\", y=\"total_bill\", data=tips)\n",
    "plt.show()"
   ]
  },
  {
   "cell_type": "code",
   "execution_count": 15,
   "id": "97816206-6558-4cf0-8a5a-c0bca4da12f6",
   "metadata": {},
   "outputs": [
    {
     "data": {
      "text/html": [
       "<div>\n",
       "<style scoped>\n",
       "    .dataframe tbody tr th:only-of-type {\n",
       "        vertical-align: middle;\n",
       "    }\n",
       "\n",
       "    .dataframe tbody tr th {\n",
       "        vertical-align: top;\n",
       "    }\n",
       "\n",
       "    .dataframe thead th {\n",
       "        text-align: right;\n",
       "    }\n",
       "</style>\n",
       "<table border=\"1\" class=\"dataframe\">\n",
       "  <thead>\n",
       "    <tr style=\"text-align: right;\">\n",
       "      <th></th>\n",
       "      <th>sepal_length</th>\n",
       "      <th>sepal_width</th>\n",
       "      <th>petal_length</th>\n",
       "      <th>petal_width</th>\n",
       "      <th>species</th>\n",
       "    </tr>\n",
       "  </thead>\n",
       "  <tbody>\n",
       "    <tr>\n",
       "      <th>0</th>\n",
       "      <td>5.1</td>\n",
       "      <td>3.5</td>\n",
       "      <td>1.4</td>\n",
       "      <td>0.2</td>\n",
       "      <td>setosa</td>\n",
       "    </tr>\n",
       "    <tr>\n",
       "      <th>1</th>\n",
       "      <td>4.9</td>\n",
       "      <td>3.0</td>\n",
       "      <td>1.4</td>\n",
       "      <td>0.2</td>\n",
       "      <td>setosa</td>\n",
       "    </tr>\n",
       "    <tr>\n",
       "      <th>2</th>\n",
       "      <td>4.7</td>\n",
       "      <td>3.2</td>\n",
       "      <td>1.3</td>\n",
       "      <td>0.2</td>\n",
       "      <td>setosa</td>\n",
       "    </tr>\n",
       "    <tr>\n",
       "      <th>3</th>\n",
       "      <td>4.6</td>\n",
       "      <td>3.1</td>\n",
       "      <td>1.5</td>\n",
       "      <td>0.2</td>\n",
       "      <td>setosa</td>\n",
       "    </tr>\n",
       "    <tr>\n",
       "      <th>4</th>\n",
       "      <td>5.0</td>\n",
       "      <td>3.6</td>\n",
       "      <td>1.4</td>\n",
       "      <td>0.2</td>\n",
       "      <td>setosa</td>\n",
       "    </tr>\n",
       "    <tr>\n",
       "      <th>...</th>\n",
       "      <td>...</td>\n",
       "      <td>...</td>\n",
       "      <td>...</td>\n",
       "      <td>...</td>\n",
       "      <td>...</td>\n",
       "    </tr>\n",
       "    <tr>\n",
       "      <th>145</th>\n",
       "      <td>6.7</td>\n",
       "      <td>3.0</td>\n",
       "      <td>5.2</td>\n",
       "      <td>2.3</td>\n",
       "      <td>virginica</td>\n",
       "    </tr>\n",
       "    <tr>\n",
       "      <th>146</th>\n",
       "      <td>6.3</td>\n",
       "      <td>2.5</td>\n",
       "      <td>5.0</td>\n",
       "      <td>1.9</td>\n",
       "      <td>virginica</td>\n",
       "    </tr>\n",
       "    <tr>\n",
       "      <th>147</th>\n",
       "      <td>6.5</td>\n",
       "      <td>3.0</td>\n",
       "      <td>5.2</td>\n",
       "      <td>2.0</td>\n",
       "      <td>virginica</td>\n",
       "    </tr>\n",
       "    <tr>\n",
       "      <th>148</th>\n",
       "      <td>6.2</td>\n",
       "      <td>3.4</td>\n",
       "      <td>5.4</td>\n",
       "      <td>2.3</td>\n",
       "      <td>virginica</td>\n",
       "    </tr>\n",
       "    <tr>\n",
       "      <th>149</th>\n",
       "      <td>5.9</td>\n",
       "      <td>3.0</td>\n",
       "      <td>5.1</td>\n",
       "      <td>1.8</td>\n",
       "      <td>virginica</td>\n",
       "    </tr>\n",
       "  </tbody>\n",
       "</table>\n",
       "<p>150 rows × 5 columns</p>\n",
       "</div>"
      ],
      "text/plain": [
       "     sepal_length  sepal_width  petal_length  petal_width    species\n",
       "0             5.1          3.5           1.4          0.2     setosa\n",
       "1             4.9          3.0           1.4          0.2     setosa\n",
       "2             4.7          3.2           1.3          0.2     setosa\n",
       "3             4.6          3.1           1.5          0.2     setosa\n",
       "4             5.0          3.6           1.4          0.2     setosa\n",
       "..            ...          ...           ...          ...        ...\n",
       "145           6.7          3.0           5.2          2.3  virginica\n",
       "146           6.3          2.5           5.0          1.9  virginica\n",
       "147           6.5          3.0           5.2          2.0  virginica\n",
       "148           6.2          3.4           5.4          2.3  virginica\n",
       "149           5.9          3.0           5.1          1.8  virginica\n",
       "\n",
       "[150 rows x 5 columns]"
      ]
     },
     "execution_count": 15,
     "metadata": {},
     "output_type": "execute_result"
    }
   ],
   "source": [
    "#6- Create a KDE plot of petal_length from the iris dataset.\n",
    "iris"
   ]
  },
  {
   "cell_type": "code",
   "execution_count": 26,
   "id": "d64fc7d8-0c3e-4367-9a57-81c2eefa86fa",
   "metadata": {},
   "outputs": [
    {
     "data": {
      "text/plain": [
       "<Axes: xlabel='petal_length', ylabel='Count'>"
      ]
     },
     "execution_count": 26,
     "metadata": {},
     "output_type": "execute_result"
    },
    {
     "data": {
      "image/png": "[encoded data removed]",
      "text/plain": [
       "<Figure size 640x480 with 1 Axes>"
      ]
     },
     "metadata": {},
     "output_type": "display_data"
    }
   ],
   "source": [
    "sns.histplot(data=iris['petal_length'],kde=True)"
   ]
  },
  {
   "cell_type": "code",
   "execution_count": 28,
   "id": "097f11e1-bd3e-4aa1-9ecf-f79d6fee64fd",
   "metadata": {},
   "outputs": [
    {
     "data": {
      "text/html": [
       "<div>\n",
       "<style scoped>\n",
       "    .dataframe tbody tr th:only-of-type {\n",
       "        vertical-align: middle;\n",
       "    }\n",
       "\n",
       "    .dataframe tbody tr th {\n",
       "        vertical-align: top;\n",
       "    }\n",
       "\n",
       "    .dataframe thead th {\n",
       "        text-align: right;\n",
       "    }\n",
       "</style>\n",
       "<table border=\"1\" class=\"dataframe\">\n",
       "  <thead>\n",
       "    <tr style=\"text-align: right;\">\n",
       "      <th></th>\n",
       "      <th>total_bill</th>\n",
       "      <th>tip</th>\n",
       "      <th>sex</th>\n",
       "      <th>smoker</th>\n",
       "      <th>day</th>\n",
       "      <th>time</th>\n",
       "      <th>size</th>\n",
       "    </tr>\n",
       "  </thead>\n",
       "  <tbody>\n",
       "    <tr>\n",
       "      <th>0</th>\n",
       "      <td>16.99</td>\n",
       "      <td>1.01</td>\n",
       "      <td>Female</td>\n",
       "      <td>No</td>\n",
       "      <td>Sun</td>\n",
       "      <td>Dinner</td>\n",
       "      <td>2</td>\n",
       "    </tr>\n",
       "    <tr>\n",
       "      <th>1</th>\n",
       "      <td>10.34</td>\n",
       "      <td>1.66</td>\n",
       "      <td>Male</td>\n",
       "      <td>No</td>\n",
       "      <td>Sun</td>\n",
       "      <td>Dinner</td>\n",
       "      <td>3</td>\n",
       "    </tr>\n",
       "    <tr>\n",
       "      <th>2</th>\n",
       "      <td>21.01</td>\n",
       "      <td>3.50</td>\n",
       "      <td>Male</td>\n",
       "      <td>No</td>\n",
       "      <td>Sun</td>\n",
       "      <td>Dinner</td>\n",
       "      <td>3</td>\n",
       "    </tr>\n",
       "    <tr>\n",
       "      <th>3</th>\n",
       "      <td>23.68</td>\n",
       "      <td>3.31</td>\n",
       "      <td>Male</td>\n",
       "      <td>No</td>\n",
       "      <td>Sun</td>\n",
       "      <td>Dinner</td>\n",
       "      <td>2</td>\n",
       "    </tr>\n",
       "    <tr>\n",
       "      <th>4</th>\n",
       "      <td>24.59</td>\n",
       "      <td>3.61</td>\n",
       "      <td>Female</td>\n",
       "      <td>No</td>\n",
       "      <td>Sun</td>\n",
       "      <td>Dinner</td>\n",
       "      <td>4</td>\n",
       "    </tr>\n",
       "  </tbody>\n",
       "</table>\n",
       "</div>"
      ],
      "text/plain": [
       "   total_bill   tip     sex smoker  day    time  size\n",
       "0       16.99  1.01  Female     No  Sun  Dinner     2\n",
       "1       10.34  1.66    Male     No  Sun  Dinner     3\n",
       "2       21.01  3.50    Male     No  Sun  Dinner     3\n",
       "3       23.68  3.31    Male     No  Sun  Dinner     2\n",
       "4       24.59  3.61  Female     No  Sun  Dinner     4"
      ]
     },
     "execution_count": 28,
     "metadata": {},
     "output_type": "execute_result"
    }
   ],
   "source": [
    "tips.head()"
   ]
  },
  {
   "cell_type": "code",
   "execution_count": 30,
   "id": "69d19219-c77e-46df-b393-c15f3cbaa481",
   "metadata": {},
   "outputs": [
    {
     "data": {
      "image/png": "[encoded data removed]",
      "text/plain": [
       "<Figure size 640x480 with 1 Axes>"
      ]
     },
     "metadata": {},
     "output_type": "display_data"
    }
   ],
   "source": [
    "#4:Create a countplot showing the frequency of each day in the tips dataset.\n",
    "tips = sns.load_dataset(\"tips\")\n",
    "sns.countplot(x='day',data=tips)\n",
    "plt.show()"
   ]
  },
  {
   "cell_type": "code",
   "execution_count": 31,
   "id": "7f4bb046-68c6-43d3-bb9d-383ac6317355",
   "metadata": {},
   "outputs": [
    {
     "data": {
      "text/plain": [
       "<Axes: xlabel='day', ylabel='tip'>"
      ]
     },
     "execution_count": 31,
     "metadata": {},
     "output_type": "execute_result"
    },
    {
     "data": {
      "image/png": "[encoded data removed]",
      "text/plain": [
       "<Figure size 640x480 with 1 Axes>"
      ]
     },
     "metadata": {},
     "output_type": "display_data"
    }
   ],
   "source": [
    "#5- Plot a barplot showing the average tip per day.\n",
    "sns.barplot(x='day', y='tip', data=tips)"
   ]
  },
  {
   "cell_type": "code",
   "execution_count": 33,
   "id": "7e20564a-0508-4acb-9339-59d648d4adb1",
   "metadata": {},
   "outputs": [
    {
     "data": {
      "text/plain": [
       "<Axes: xlabel='tip'>"
      ]
     },
     "execution_count": 33,
     "metadata": {},
     "output_type": "execute_result"
    },
    {
     "data": {
      "image/png": "[encoded data removed]",
      "text/plain": [
       "<Figure size 640x480 with 1 Axes>"
      ]
     },
     "metadata": {},
     "output_type": "display_data"
    }
   ],
   "source": [
    "#8- Plot a violinplot showing the distribution of tip amounts by smoker status.\n",
    "sns.violinplot(x='tip',hue='smoker',data=tips)"
   ]
  },
  {
   "cell_type": "code",
   "execution_count": 34,
   "id": "e402c07a-9977-4365-bd81-ad5f8c844aed",
   "metadata": {},
   "outputs": [],
   "source": [
    "#Section A: Descriptive Statistics (30 Marks)\n",
    "#Answer any 6 questions. Each question carries 5 marks"
   ]
  },
  {
   "cell_type": "code",
   "execution_count": null,
   "id": "11aaab7f-4279-4fb9-b11d-9d608f2e3c07",
   "metadata": {},
   "outputs": [],
   "source": [
    "1- Define the following terms with examples:\n",
    "\n",
    "a) Mean\n",
    "\n",
    "b) Median\n",
    "\n",
    "c) Mode"
   ]
  },
  {
   "cell_type": "code",
   "execution_count": 45,
   "id": "dc1099c0-43f0-41c4-b76a-4adcd56eec8e",
   "metadata": {},
   "outputs": [],
   "source": [
    "#7- Using the following data, calculate:\n",
    "#Mean\n",
    "#Median\n",
    "#Variance\n",
    "#Standard Deviation\n",
    "import pandas as pd\n",
    "import statistics as st\n",
    "Data=[12, 15, 14, 10, 8, 9, 10, 15, 18, 20]"
   ]
  },
  {
   "cell_type": "code",
   "execution_count": 41,
   "id": "ef4361ea-92e8-4744-9e59-75885fd1b51d",
   "metadata": {},
   "outputs": [],
   "source": [
    "Data=pd.DataFrame(Data)"
   ]
  },
  {
   "cell_type": "code",
   "execution_count": 55,
   "id": "52a0ebee-d278-4d43-9abc-8beac9bce14b",
   "metadata": {},
   "outputs": [
    {
     "name": "stdout",
     "output_type": "stream",
     "text": [
      "13.1\n",
      "13.0\n",
      "15.877777777777778\n",
      "3.984692933938295\n"
     ]
    }
   ],
   "source": [
    "print(st.mean(Data))\n",
    "print(st.median(Data))\n",
    "print(st.variance(Data))\n",
    "print(st.stdev(Data))"
   ]
  },
  {
   "cell_type": "code",
   "execution_count": 56,
   "id": "e704c0f8-91b4-4c60-99a1-457212776d5d",
   "metadata": {},
   "outputs": [],
   "source": [
    "#Additional Question (10 Marks)\n",
    "#Q. Given the following dataset of daily sales (in thousands), identify any outliers using the Interquartile Range (IQR) method. Also, print the lower and upper bounds.\n",
    "Data= [25, 28, 30, 29, 27, 45, 26, 31, 120, 32, 30, 29, 28, 27, 26, 25, 90]"
   ]
  },
  {
   "cell_type": "code",
   "execution_count": 62,
   "id": "021166e1-0f37-49bd-9235-ffe45b9f53be",
   "metadata": {},
   "outputs": [],
   "source": [
    "#1- Calculate Q1 (25th percentile) and Q3 (75th percentile)\n",
    "#2- Calculate IQR = Q3 - Q1\n",
    "#3- Find lower bound = Q1 - 1.5 × IQR\n",
    "#4- Find upper bound = Q3 + 1.5 × IQR\n",
    "#5 -Identify and list all outliers\n",
    "import pandas as pd\n",
    "import numpy as np\n",
    "Data = pd.Series(Data)"
   ]
  },
  {
   "cell_type": "code",
   "execution_count": 63,
   "id": "274ddebd-f61c-4360-afed-04b8264f3170",
   "metadata": {},
   "outputs": [
    {
     "name": "stdout",
     "output_type": "stream",
     "text": [
      "Q1 26.2\n",
      "Q3 31.0\n",
      "IQR 4.800000000000001\n"
     ]
    }
   ],
   "source": [
    "q1=Data.quantile(0.2)\n",
    "print('Q1',q1)\n",
    "q3=Data.quantile(0.75)\n",
    "print('Q3',q3)\n",
    "iqr=q3-q1\n",
    "print('IQR',iqr)"
   ]
  },
  {
   "cell_type": "code",
   "execution_count": 68,
   "id": "be144755-2632-4039-bf66-a2254741e211",
   "metadata": {},
   "outputs": [
    {
     "data": {
      "text/plain": [
       "19.0"
      ]
     },
     "execution_count": 68,
     "metadata": {},
     "output_type": "execute_result"
    }
   ],
   "source": [
    "lower_bound = q1 - 1.5 * iqr #lower bound\n",
    "lower_bound\n"
   ]
  },
  {
   "cell_type": "code",
   "execution_count": 69,
   "id": "e463f7db-5c0d-4e4e-ad72-285d456afaab",
   "metadata": {},
   "outputs": [
    {
     "data": {
      "text/plain": [
       "38.2"
      ]
     },
     "execution_count": 69,
     "metadata": {},
     "output_type": "execute_result"
    }
   ],
   "source": [
    "upper_bound = q3 + 1.5 * iqr #upper bound\n",
    "upper_bound"
   ]
  },
  {
   "cell_type": "code",
   "execution_count": 72,
   "id": "fee17cdb-4e30-4074-92c2-751d000fb078",
   "metadata": {},
   "outputs": [
    {
     "data": {
      "text/plain": [
       "[45, 120, 90]"
      ]
     },
     "execution_count": 72,
     "metadata": {},
     "output_type": "execute_result"
    }
   ],
   "source": [
    "outliers = [x for x in Data if x < lower_bound or x > upper_bound] #to find the outliers\n",
    "outliers"
   ]
  },
  {
   "cell_type": "code",
   "execution_count": null,
   "id": "6b752936-819c-40b6-8c36-26fe46225c24",
   "metadata": {},
   "outputs": [],
   "source": []
  }
 ],
 "metadata": {
  "kernelspec": {
   "display_name": "Python 3 (ipykernel)",
   "language": "python",
   "name": "python3"
  },
  "language_info": {
   "codemirror_mode": {
    "name": "ipython",
    "version": 3
   },
   "file_extension": ".py",
   "mimetype": "text/x-python",
   "name": "python",
   "nbconvert_exporter": "python",
   "pygments_lexer": "ipython3",
   "version": "3.11.9"
  }
 },
 "nbformat": 4,
 "nbformat_minor": 5
}
