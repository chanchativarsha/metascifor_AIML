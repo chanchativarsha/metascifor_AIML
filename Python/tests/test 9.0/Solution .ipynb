{
 "cells": [
  {
   "cell_type": "code",
   "execution_count": 22,
   "id": "b9d6cb0b-1450-4bdb-8553-3a9953c3e90b",
   "metadata": {},
   "outputs": [],
   "source": [
    "# Step 1: Imports & Load Data\n",
    "import pandas as pd\n",
    "import numpy as np\n",
    "import seaborn as sns\n",
    "import matplotlib.pyplot as plt\n",
    "\n",
    "from sklearn import preprocessing\n",
    "\n",
    "from sklearn.model_selection import train_test_split, cross_val_score, KFold, GridSearchCV\n",
    "from sklearn.preprocessing import LabelEncoder, StandardScaler, OneHotEncoder\n",
    "from sklearn.compose import ColumnTransformer\n",
    "from sklearn.pipeline import Pipeline\n",
    "from sklearn.impute import SimpleImputer\n",
    "from sklearn.linear_model import LinearRegression\n",
    "from sklearn.tree import DecisionTreeRegressor\n",
    "from sklearn.metrics import r2_score, mean_absolute_error, mean_squared_error\n",
    "from sklearn.feature_selection import SelectKBest, f_regression"
   ]
  },
  {
   "cell_type": "code",
   "execution_count": 13,
   "id": "35e1328b-471c-4a18-848a-b3efc6cd6810",
   "metadata": {},
   "outputs": [
    {
     "data": {
      "text/html": [
       "<div>\n",
       "<style scoped>\n",
       "    .dataframe tbody tr th:only-of-type {\n",
       "        vertical-align: middle;\n",
       "    }\n",
       "\n",
       "    .dataframe tbody tr th {\n",
       "        vertical-align: top;\n",
       "    }\n",
       "\n",
       "    .dataframe thead th {\n",
       "        text-align: right;\n",
       "    }\n",
       "</style>\n",
       "<table border=\"1\" class=\"dataframe\">\n",
       "  <thead>\n",
       "    <tr style=\"text-align: right;\">\n",
       "      <th></th>\n",
       "      <th>Gender</th>\n",
       "      <th>HoursStudied/Week</th>\n",
       "      <th>Tutoring</th>\n",
       "      <th>Region</th>\n",
       "      <th>Attendance(%)</th>\n",
       "      <th>Parent Education</th>\n",
       "      <th>Exam_Score</th>\n",
       "    </tr>\n",
       "  </thead>\n",
       "  <tbody>\n",
       "    <tr>\n",
       "      <th>0</th>\n",
       "      <td>Male</td>\n",
       "      <td>5.5</td>\n",
       "      <td>No</td>\n",
       "      <td>Urban</td>\n",
       "      <td>72.7</td>\n",
       "      <td>Tertiary</td>\n",
       "      <td>43.5</td>\n",
       "    </tr>\n",
       "    <tr>\n",
       "      <th>1</th>\n",
       "      <td>Female</td>\n",
       "      <td>6.8</td>\n",
       "      <td>No</td>\n",
       "      <td>Urban</td>\n",
       "      <td>62.0</td>\n",
       "      <td>Primary</td>\n",
       "      <td>51.7</td>\n",
       "    </tr>\n",
       "    <tr>\n",
       "      <th>2</th>\n",
       "      <td>Female</td>\n",
       "      <td>9.7</td>\n",
       "      <td>No</td>\n",
       "      <td>Rural</td>\n",
       "      <td>95.0</td>\n",
       "      <td>Secondary</td>\n",
       "      <td>70.1</td>\n",
       "    </tr>\n",
       "    <tr>\n",
       "      <th>3</th>\n",
       "      <td>Male</td>\n",
       "      <td>13.3</td>\n",
       "      <td>Yes</td>\n",
       "      <td>Rural</td>\n",
       "      <td>52.9</td>\n",
       "      <td>NaN</td>\n",
       "      <td>79.5</td>\n",
       "    </tr>\n",
       "    <tr>\n",
       "      <th>4</th>\n",
       "      <td>Female</td>\n",
       "      <td>8.9</td>\n",
       "      <td>No</td>\n",
       "      <td>Urban</td>\n",
       "      <td>50.8</td>\n",
       "      <td>NaN</td>\n",
       "      <td>52.2</td>\n",
       "    </tr>\n",
       "  </tbody>\n",
       "</table>\n",
       "</div>"
      ],
      "text/plain": [
       "   Gender  HoursStudied/Week Tutoring Region  Attendance(%) Parent Education   \n",
       "0    Male                5.5       No  Urban           72.7         Tertiary  \\\n",
       "1  Female                6.8       No  Urban           62.0          Primary   \n",
       "2  Female                9.7       No  Rural           95.0        Secondary   \n",
       "3    Male               13.3      Yes  Rural           52.9              NaN   \n",
       "4  Female                8.9       No  Urban           50.8              NaN   \n",
       "\n",
       "   Exam_Score  \n",
       "0        43.5  \n",
       "1        51.7  \n",
       "2        70.1  \n",
       "3        79.5  \n",
       "4        52.2  "
      ]
     },
     "execution_count": 13,
     "metadata": {},
     "output_type": "execute_result"
    }
   ],
   "source": [
    "data=pd.read_csv(\"C:/Users/cmgou/Documents/Meta scifor/Test 9.0/Test 9.0/SAP-4000.csv\")\n",
    "data.head()"
   ]
  },
  {
   "cell_type": "code",
   "execution_count": 14,
   "id": "ba11868f-d730-4641-8eb2-7c84465041dc",
   "metadata": {},
   "outputs": [
    {
     "data": {
      "text/plain": [
       "(4000, 7)"
      ]
     },
     "execution_count": 14,
     "metadata": {},
     "output_type": "execute_result"
    }
   ],
   "source": [
    "data.shape"
   ]
  },
  {
   "cell_type": "code",
   "execution_count": 15,
   "id": "faa4fdda-024e-41aa-a80a-dffd7c60d38b",
   "metadata": {},
   "outputs": [
    {
     "name": "stdout",
     "output_type": "stream",
     "text": [
      "<class 'pandas.core.frame.DataFrame'>\n",
      "RangeIndex: 4000 entries, 0 to 3999\n",
      "Data columns (total 7 columns):\n",
      " #   Column             Non-Null Count  Dtype  \n",
      "---  ------             --------------  -----  \n",
      " 0   Gender             4000 non-null   object \n",
      " 1   HoursStudied/Week  4000 non-null   float64\n",
      " 2   Tutoring           4000 non-null   object \n",
      " 3   Region             4000 non-null   object \n",
      " 4   Attendance(%)      4000 non-null   float64\n",
      " 5   Parent Education   3578 non-null   object \n",
      " 6   Exam_Score         4000 non-null   float64\n",
      "dtypes: float64(3), object(4)\n",
      "memory usage: 218.9+ KB\n"
     ]
    }
   ],
   "source": [
    "data.info()"
   ]
  },
  {
   "cell_type": "code",
   "execution_count": 16,
   "id": "30980f6e-7aef-46de-b12b-7a4f7a3e5547",
   "metadata": {},
   "outputs": [
    {
     "data": {
      "text/plain": [
       "Gender                 0\n",
       "HoursStudied/Week      0\n",
       "Tutoring               0\n",
       "Region                 0\n",
       "Attendance(%)          0\n",
       "Parent Education     422\n",
       "Exam_Score             0\n",
       "dtype: int64"
      ]
     },
     "execution_count": 16,
     "metadata": {},
     "output_type": "execute_result"
    }
   ],
   "source": [
    "data.isna().sum()"
   ]
  },
  {
   "cell_type": "code",
   "execution_count": 17,
   "id": "fc5c11ac-b1f2-42ca-95c1-44c23447a013",
   "metadata": {},
   "outputs": [
    {
     "data": {
      "text/plain": [
       "Parent Education\n",
       "Secondary    1590\n",
       "Tertiary     1175\n",
       "Primary       813\n",
       "Name: count, dtype: int64"
      ]
     },
     "execution_count": 17,
     "metadata": {},
     "output_type": "execute_result"
    }
   ],
   "source": [
    "data['Parent Education'].value_counts()\n"
   ]
  },
  {
   "cell_type": "code",
   "execution_count": 18,
   "id": "879e6a75-b15a-43a1-a979-25543da086ab",
   "metadata": {},
   "outputs": [
    {
     "data": {
      "text/plain": [
       "array(['Tertiary', 'Primary', 'Secondary', nan], dtype=object)"
      ]
     },
     "execution_count": 18,
     "metadata": {},
     "output_type": "execute_result"
    }
   ],
   "source": [
    "data['Parent Education'].unique()\n"
   ]
  },
  {
   "cell_type": "code",
   "execution_count": 23,
   "id": "2ad47681-5a8b-4b4f-bb84-9dce89a05b0d",
   "metadata": {},
   "outputs": [
    {
     "data": {
      "text/plain": [
       "array([2, 0, 1, 3])"
      ]
     },
     "execution_count": 23,
     "metadata": {},
     "output_type": "execute_result"
    }
   ],
   "source": [
    "label_encoder = preprocessing.LabelEncoder()\n",
    "data['Parent Education']= label_encoder.fit_transform(data['Parent Education'])\n",
    "\n",
    "data['Parent Education'].unique()"
   ]
  },
  {
   "cell_type": "code",
   "execution_count": 24,
   "id": "ec0bfce6-bbb2-4f06-8777-b8aa3198ff92",
   "metadata": {},
   "outputs": [],
   "source": [
    "# One-hot encoding for nominal categorical features\n",
    "data = pd.get_dummies(data, columns=['Gender', 'Region', 'Tutoring'], drop_first=True)"
   ]
  },
  {
   "cell_type": "code",
   "execution_count": 25,
   "id": "6fc32a0c-de60-4a41-8159-bf4ccd04fb52",
   "metadata": {},
   "outputs": [],
   "source": [
    " scaler = StandardScaler()\n",
    "data[['HoursStudied/Week', 'Attendance(%)']] = scaler.fit_transform(data[['HoursStudied/Week', 'Attendance(%)']])"
   ]
  },
  {
   "cell_type": "code",
   "execution_count": 26,
   "id": "78e0ed25-8463-49e0-9305-2190fd7d3a05",
   "metadata": {},
   "outputs": [
    {
     "data": {
      "text/html": [
       "<style>#sk-container-id-1 {color: black;}#sk-container-id-1 pre{padding: 0;}#sk-container-id-1 div.sk-toggleable {background-color: white;}#sk-container-id-1 label.sk-toggleable__label {cursor: pointer;display: block;width: 100%;margin-bottom: 0;padding: 0.3em;box-sizing: border-box;text-align: center;}#sk-container-id-1 label.sk-toggleable__label-arrow:before {content: \"▸\";float: left;margin-right: 0.25em;color: #696969;}#sk-container-id-1 label.sk-toggleable__label-arrow:hover:before {color: black;}#sk-container-id-1 div.sk-estimator:hover label.sk-toggleable__label-arrow:before {color: black;}#sk-container-id-1 div.sk-toggleable__content {max-height: 0;max-width: 0;overflow: hidden;text-align: left;background-color: #f0f8ff;}#sk-container-id-1 div.sk-toggleable__content pre {margin: 0.2em;color: black;border-radius: 0.25em;background-color: #f0f8ff;}#sk-container-id-1 input.sk-toggleable__control:checked~div.sk-toggleable__content {max-height: 200px;max-width: 100%;overflow: auto;}#sk-container-id-1 input.sk-toggleable__control:checked~label.sk-toggleable__label-arrow:before {content: \"▾\";}#sk-container-id-1 div.sk-estimator input.sk-toggleable__control:checked~label.sk-toggleable__label {background-color: #d4ebff;}#sk-container-id-1 div.sk-label input.sk-toggleable__control:checked~label.sk-toggleable__label {background-color: #d4ebff;}#sk-container-id-1 input.sk-hidden--visually {border: 0;clip: rect(1px 1px 1px 1px);clip: rect(1px, 1px, 1px, 1px);height: 1px;margin: -1px;overflow: hidden;padding: 0;position: absolute;width: 1px;}#sk-container-id-1 div.sk-estimator {font-family: monospace;background-color: #f0f8ff;border: 1px dotted black;border-radius: 0.25em;box-sizing: border-box;margin-bottom: 0.5em;}#sk-container-id-1 div.sk-estimator:hover {background-color: #d4ebff;}#sk-container-id-1 div.sk-parallel-item::after {content: \"\";width: 100%;border-bottom: 1px solid gray;flex-grow: 1;}#sk-container-id-1 div.sk-label:hover label.sk-toggleable__label {background-color: #d4ebff;}#sk-container-id-1 div.sk-serial::before {content: \"\";position: absolute;border-left: 1px solid gray;box-sizing: border-box;top: 0;bottom: 0;left: 50%;z-index: 0;}#sk-container-id-1 div.sk-serial {display: flex;flex-direction: column;align-items: center;background-color: white;padding-right: 0.2em;padding-left: 0.2em;position: relative;}#sk-container-id-1 div.sk-item {position: relative;z-index: 1;}#sk-container-id-1 div.sk-parallel {display: flex;align-items: stretch;justify-content: center;background-color: white;position: relative;}#sk-container-id-1 div.sk-item::before, #sk-container-id-1 div.sk-parallel-item::before {content: \"\";position: absolute;border-left: 1px solid gray;box-sizing: border-box;top: 0;bottom: 0;left: 50%;z-index: -1;}#sk-container-id-1 div.sk-parallel-item {display: flex;flex-direction: column;z-index: 1;position: relative;background-color: white;}#sk-container-id-1 div.sk-parallel-item:first-child::after {align-self: flex-end;width: 50%;}#sk-container-id-1 div.sk-parallel-item:last-child::after {align-self: flex-start;width: 50%;}#sk-container-id-1 div.sk-parallel-item:only-child::after {width: 0;}#sk-container-id-1 div.sk-dashed-wrapped {border: 1px dashed gray;margin: 0 0.4em 0.5em 0.4em;box-sizing: border-box;padding-bottom: 0.4em;background-color: white;}#sk-container-id-1 div.sk-label label {font-family: monospace;font-weight: bold;display: inline-block;line-height: 1.2em;}#sk-container-id-1 div.sk-label-container {text-align: center;}#sk-container-id-1 div.sk-container {/* jupyter's `normalize.less` sets `[hidden] { display: none; }` but bootstrap.min.css set `[hidden] { display: none !important; }` so we also need the `!important` here to be able to override the default hidden behavior on the sphinx rendered scikit-learn.org. See: https://github.com/scikit-learn/scikit-learn/issues/21755 */display: inline-block !important;position: relative;}#sk-container-id-1 div.sk-text-repr-fallback {display: none;}</style><div id=\"sk-container-id-1\" class=\"sk-top-container\"><div class=\"sk-text-repr-fallback\"><pre>StandardScaler()</pre><b>In a Jupyter environment, please rerun this cell to show the HTML representation or trust the notebook. <br />On GitHub, the HTML representation is unable to render, please try loading this page with nbviewer.org.</b></div><div class=\"sk-container\" hidden><div class=\"sk-item\"><div class=\"sk-estimator sk-toggleable\"><input class=\"sk-toggleable__control sk-hidden--visually\" id=\"sk-estimator-id-1\" type=\"checkbox\" checked><label for=\"sk-estimator-id-1\" class=\"sk-toggleable__label sk-toggleable__label-arrow\">StandardScaler</label><div class=\"sk-toggleable__content\"><pre>StandardScaler()</pre></div></div></div></div></div>"
      ],
      "text/plain": [
       "StandardScaler()"
      ]
     },
     "execution_count": 26,
     "metadata": {},
     "output_type": "execute_result"
    }
   ],
   "source": [
    "scaler"
   ]
  },
  {
   "cell_type": "code",
   "execution_count": 27,
   "id": "7d176fcd-ae9a-4bd3-8275-2b1310b5d147",
   "metadata": {},
   "outputs": [],
   "source": [
    "# Step 3: Feature Selection\n",
    "x = data.drop('Exam_Score', axis=1)\n",
    "y = data['Exam_Score']\n"
   ]
  },
  {
   "cell_type": "code",
   "execution_count": 28,
   "id": "ccda07a8-af53-4860-8a1d-6a1dcb7d184a",
   "metadata": {},
   "outputs": [
    {
     "data": {
      "image/png": "[encoded data removed]",
      "text/plain": [
       "<Figure size 1000x600 with 2 Axes>"
      ]
     },
     "metadata": {},
     "output_type": "display_data"
    }
   ],
   "source": [
    "# Correlation heatmap\n",
    "plt.figure(figsize=(10, 6))\n",
    "sns.heatmap(data.corr(), annot=True, cmap='coolwarm')\n",
    "plt.title(\"Correlation Heatmap\")\n",
    "plt.show()"
   ]
  },
  {
   "cell_type": "code",
   "execution_count": 29,
   "id": "c9228ce5-c211-4dc5-9bee-4fd6b76901eb",
   "metadata": {},
   "outputs": [
    {
     "data": {
      "text/html": [
       "<style>#sk-container-id-2 {color: black;}#sk-container-id-2 pre{padding: 0;}#sk-container-id-2 div.sk-toggleable {background-color: white;}#sk-container-id-2 label.sk-toggleable__label {cursor: pointer;display: block;width: 100%;margin-bottom: 0;padding: 0.3em;box-sizing: border-box;text-align: center;}#sk-container-id-2 label.sk-toggleable__label-arrow:before {content: \"▸\";float: left;margin-right: 0.25em;color: #696969;}#sk-container-id-2 label.sk-toggleable__label-arrow:hover:before {color: black;}#sk-container-id-2 div.sk-estimator:hover label.sk-toggleable__label-arrow:before {color: black;}#sk-container-id-2 div.sk-toggleable__content {max-height: 0;max-width: 0;overflow: hidden;text-align: left;background-color: #f0f8ff;}#sk-container-id-2 div.sk-toggleable__content pre {margin: 0.2em;color: black;border-radius: 0.25em;background-color: #f0f8ff;}#sk-container-id-2 input.sk-toggleable__control:checked~div.sk-toggleable__content {max-height: 200px;max-width: 100%;overflow: auto;}#sk-container-id-2 input.sk-toggleable__control:checked~label.sk-toggleable__label-arrow:before {content: \"▾\";}#sk-container-id-2 div.sk-estimator input.sk-toggleable__control:checked~label.sk-toggleable__label {background-color: #d4ebff;}#sk-container-id-2 div.sk-label input.sk-toggleable__control:checked~label.sk-toggleable__label {background-color: #d4ebff;}#sk-container-id-2 input.sk-hidden--visually {border: 0;clip: rect(1px 1px 1px 1px);clip: rect(1px, 1px, 1px, 1px);height: 1px;margin: -1px;overflow: hidden;padding: 0;position: absolute;width: 1px;}#sk-container-id-2 div.sk-estimator {font-family: monospace;background-color: #f0f8ff;border: 1px dotted black;border-radius: 0.25em;box-sizing: border-box;margin-bottom: 0.5em;}#sk-container-id-2 div.sk-estimator:hover {background-color: #d4ebff;}#sk-container-id-2 div.sk-parallel-item::after {content: \"\";width: 100%;border-bottom: 1px solid gray;flex-grow: 1;}#sk-container-id-2 div.sk-label:hover label.sk-toggleable__label {background-color: #d4ebff;}#sk-container-id-2 div.sk-serial::before {content: \"\";position: absolute;border-left: 1px solid gray;box-sizing: border-box;top: 0;bottom: 0;left: 50%;z-index: 0;}#sk-container-id-2 div.sk-serial {display: flex;flex-direction: column;align-items: center;background-color: white;padding-right: 0.2em;padding-left: 0.2em;position: relative;}#sk-container-id-2 div.sk-item {position: relative;z-index: 1;}#sk-container-id-2 div.sk-parallel {display: flex;align-items: stretch;justify-content: center;background-color: white;position: relative;}#sk-container-id-2 div.sk-item::before, #sk-container-id-2 div.sk-parallel-item::before {content: \"\";position: absolute;border-left: 1px solid gray;box-sizing: border-box;top: 0;bottom: 0;left: 50%;z-index: -1;}#sk-container-id-2 div.sk-parallel-item {display: flex;flex-direction: column;z-index: 1;position: relative;background-color: white;}#sk-container-id-2 div.sk-parallel-item:first-child::after {align-self: flex-end;width: 50%;}#sk-container-id-2 div.sk-parallel-item:last-child::after {align-self: flex-start;width: 50%;}#sk-container-id-2 div.sk-parallel-item:only-child::after {width: 0;}#sk-container-id-2 div.sk-dashed-wrapped {border: 1px dashed gray;margin: 0 0.4em 0.5em 0.4em;box-sizing: border-box;padding-bottom: 0.4em;background-color: white;}#sk-container-id-2 div.sk-label label {font-family: monospace;font-weight: bold;display: inline-block;line-height: 1.2em;}#sk-container-id-2 div.sk-label-container {text-align: center;}#sk-container-id-2 div.sk-container {/* jupyter's `normalize.less` sets `[hidden] { display: none; }` but bootstrap.min.css set `[hidden] { display: none !important; }` so we also need the `!important` here to be able to override the default hidden behavior on the sphinx rendered scikit-learn.org. See: https://github.com/scikit-learn/scikit-learn/issues/21755 */display: inline-block !important;position: relative;}#sk-container-id-2 div.sk-text-repr-fallback {display: none;}</style><div id=\"sk-container-id-2\" class=\"sk-top-container\"><div class=\"sk-text-repr-fallback\"><pre>SelectKBest(k=&#x27;all&#x27;, score_func=&lt;function f_regression at 0x00000251FC8AF4C0&gt;)</pre><b>In a Jupyter environment, please rerun this cell to show the HTML representation or trust the notebook. <br />On GitHub, the HTML representation is unable to render, please try loading this page with nbviewer.org.</b></div><div class=\"sk-container\" hidden><div class=\"sk-item\"><div class=\"sk-estimator sk-toggleable\"><input class=\"sk-toggleable__control sk-hidden--visually\" id=\"sk-estimator-id-2\" type=\"checkbox\" checked><label for=\"sk-estimator-id-2\" class=\"sk-toggleable__label sk-toggleable__label-arrow\">SelectKBest</label><div class=\"sk-toggleable__content\"><pre>SelectKBest(k=&#x27;all&#x27;, score_func=&lt;function f_regression at 0x00000251FC8AF4C0&gt;)</pre></div></div></div></div></div>"
      ],
      "text/plain": [
       "SelectKBest(k='all', score_func=<function f_regression at 0x00000251FC8AF4C0>)"
      ]
     },
     "execution_count": 29,
     "metadata": {},
     "output_type": "execute_result"
    }
   ],
   "source": [
    "# Apply SelectKBest\n",
    "selector = SelectKBest(score_func=f_regression, k='all')\n",
    "selector.fit(x, y)\n",
    "\n"
   ]
  },
  {
   "cell_type": "code",
   "execution_count": 30,
   "id": "749d9f3d-6fc5-4469-b8b0-6289b8f37109",
   "metadata": {},
   "outputs": [
    {
     "name": "stdout",
     "output_type": "stream",
     "text": [
      "             Feature        Score\n",
      "0  HoursStudied/Week  8194.409160\n",
      "5       Tutoring_Yes   742.776741\n",
      "1      Attendance(%)   241.280885\n",
      "4       Region_Urban    32.933088\n",
      "3        Gender_Male    10.425933\n",
      "2   Parent Education     1.901854\n"
     ]
    }
   ],
   "source": [
    "feature_scores = pd.DataFrame({'Feature': x.columns, 'Score': selector.scores_})\n",
    "print(feature_scores.sort_values(by='Score', ascending=False))"
   ]
  },
  {
   "cell_type": "code",
   "execution_count": 31,
   "id": "210fac4e-9eee-43b2-a953-09c369960767",
   "metadata": {},
   "outputs": [],
   "source": [
    "# Step 4: Train/Test Split\n",
    "x_train, x_test, y_train, y_test = train_test_split(x, y, test_size=0.2, random_state=42)"
   ]
  },
  {
   "cell_type": "code",
   "execution_count": 32,
   "id": "9f55cc95-3f17-452f-a978-554e1ed85222",
   "metadata": {},
   "outputs": [
    {
     "data": {
      "text/html": [
       "<style>#sk-container-id-3 {color: black;}#sk-container-id-3 pre{padding: 0;}#sk-container-id-3 div.sk-toggleable {background-color: white;}#sk-container-id-3 label.sk-toggleable__label {cursor: pointer;display: block;width: 100%;margin-bottom: 0;padding: 0.3em;box-sizing: border-box;text-align: center;}#sk-container-id-3 label.sk-toggleable__label-arrow:before {content: \"▸\";float: left;margin-right: 0.25em;color: #696969;}#sk-container-id-3 label.sk-toggleable__label-arrow:hover:before {color: black;}#sk-container-id-3 div.sk-estimator:hover label.sk-toggleable__label-arrow:before {color: black;}#sk-container-id-3 div.sk-toggleable__content {max-height: 0;max-width: 0;overflow: hidden;text-align: left;background-color: #f0f8ff;}#sk-container-id-3 div.sk-toggleable__content pre {margin: 0.2em;color: black;border-radius: 0.25em;background-color: #f0f8ff;}#sk-container-id-3 input.sk-toggleable__control:checked~div.sk-toggleable__content {max-height: 200px;max-width: 100%;overflow: auto;}#sk-container-id-3 input.sk-toggleable__control:checked~label.sk-toggleable__label-arrow:before {content: \"▾\";}#sk-container-id-3 div.sk-estimator input.sk-toggleable__control:checked~label.sk-toggleable__label {background-color: #d4ebff;}#sk-container-id-3 div.sk-label input.sk-toggleable__control:checked~label.sk-toggleable__label {background-color: #d4ebff;}#sk-container-id-3 input.sk-hidden--visually {border: 0;clip: rect(1px 1px 1px 1px);clip: rect(1px, 1px, 1px, 1px);height: 1px;margin: -1px;overflow: hidden;padding: 0;position: absolute;width: 1px;}#sk-container-id-3 div.sk-estimator {font-family: monospace;background-color: #f0f8ff;border: 1px dotted black;border-radius: 0.25em;box-sizing: border-box;margin-bottom: 0.5em;}#sk-container-id-3 div.sk-estimator:hover {background-color: #d4ebff;}#sk-container-id-3 div.sk-parallel-item::after {content: \"\";width: 100%;border-bottom: 1px solid gray;flex-grow: 1;}#sk-container-id-3 div.sk-label:hover label.sk-toggleable__label {background-color: #d4ebff;}#sk-container-id-3 div.sk-serial::before {content: \"\";position: absolute;border-left: 1px solid gray;box-sizing: border-box;top: 0;bottom: 0;left: 50%;z-index: 0;}#sk-container-id-3 div.sk-serial {display: flex;flex-direction: column;align-items: center;background-color: white;padding-right: 0.2em;padding-left: 0.2em;position: relative;}#sk-container-id-3 div.sk-item {position: relative;z-index: 1;}#sk-container-id-3 div.sk-parallel {display: flex;align-items: stretch;justify-content: center;background-color: white;position: relative;}#sk-container-id-3 div.sk-item::before, #sk-container-id-3 div.sk-parallel-item::before {content: \"\";position: absolute;border-left: 1px solid gray;box-sizing: border-box;top: 0;bottom: 0;left: 50%;z-index: -1;}#sk-container-id-3 div.sk-parallel-item {display: flex;flex-direction: column;z-index: 1;position: relative;background-color: white;}#sk-container-id-3 div.sk-parallel-item:first-child::after {align-self: flex-end;width: 50%;}#sk-container-id-3 div.sk-parallel-item:last-child::after {align-self: flex-start;width: 50%;}#sk-container-id-3 div.sk-parallel-item:only-child::after {width: 0;}#sk-container-id-3 div.sk-dashed-wrapped {border: 1px dashed gray;margin: 0 0.4em 0.5em 0.4em;box-sizing: border-box;padding-bottom: 0.4em;background-color: white;}#sk-container-id-3 div.sk-label label {font-family: monospace;font-weight: bold;display: inline-block;line-height: 1.2em;}#sk-container-id-3 div.sk-label-container {text-align: center;}#sk-container-id-3 div.sk-container {/* jupyter's `normalize.less` sets `[hidden] { display: none; }` but bootstrap.min.css set `[hidden] { display: none !important; }` so we also need the `!important` here to be able to override the default hidden behavior on the sphinx rendered scikit-learn.org. See: https://github.com/scikit-learn/scikit-learn/issues/21755 */display: inline-block !important;position: relative;}#sk-container-id-3 div.sk-text-repr-fallback {display: none;}</style><div id=\"sk-container-id-3\" class=\"sk-top-container\"><div class=\"sk-text-repr-fallback\"><pre>LinearRegression()</pre><b>In a Jupyter environment, please rerun this cell to show the HTML representation or trust the notebook. <br />On GitHub, the HTML representation is unable to render, please try loading this page with nbviewer.org.</b></div><div class=\"sk-container\" hidden><div class=\"sk-item\"><div class=\"sk-estimator sk-toggleable\"><input class=\"sk-toggleable__control sk-hidden--visually\" id=\"sk-estimator-id-3\" type=\"checkbox\" checked><label for=\"sk-estimator-id-3\" class=\"sk-toggleable__label sk-toggleable__label-arrow\">LinearRegression</label><div class=\"sk-toggleable__content\"><pre>LinearRegression()</pre></div></div></div></div></div>"
      ],
      "text/plain": [
       "LinearRegression()"
      ]
     },
     "execution_count": 32,
     "metadata": {},
     "output_type": "execute_result"
    }
   ],
   "source": [
    "# Step 5: Train Models\n",
    "lr = LinearRegression()\n",
    "lr.fit(x_train, y_train)"
   ]
  },
  {
   "cell_type": "code",
   "execution_count": 33,
   "id": "21fd3e02-1553-45d1-97ea-60ad12ef51e1",
   "metadata": {},
   "outputs": [
    {
     "data": {
      "text/html": [
       "<style>#sk-container-id-4 {color: black;}#sk-container-id-4 pre{padding: 0;}#sk-container-id-4 div.sk-toggleable {background-color: white;}#sk-container-id-4 label.sk-toggleable__label {cursor: pointer;display: block;width: 100%;margin-bottom: 0;padding: 0.3em;box-sizing: border-box;text-align: center;}#sk-container-id-4 label.sk-toggleable__label-arrow:before {content: \"▸\";float: left;margin-right: 0.25em;color: #696969;}#sk-container-id-4 label.sk-toggleable__label-arrow:hover:before {color: black;}#sk-container-id-4 div.sk-estimator:hover label.sk-toggleable__label-arrow:before {color: black;}#sk-container-id-4 div.sk-toggleable__content {max-height: 0;max-width: 0;overflow: hidden;text-align: left;background-color: #f0f8ff;}#sk-container-id-4 div.sk-toggleable__content pre {margin: 0.2em;color: black;border-radius: 0.25em;background-color: #f0f8ff;}#sk-container-id-4 input.sk-toggleable__control:checked~div.sk-toggleable__content {max-height: 200px;max-width: 100%;overflow: auto;}#sk-container-id-4 input.sk-toggleable__control:checked~label.sk-toggleable__label-arrow:before {content: \"▾\";}#sk-container-id-4 div.sk-estimator input.sk-toggleable__control:checked~label.sk-toggleable__label {background-color: #d4ebff;}#sk-container-id-4 div.sk-label input.sk-toggleable__control:checked~label.sk-toggleable__label {background-color: #d4ebff;}#sk-container-id-4 input.sk-hidden--visually {border: 0;clip: rect(1px 1px 1px 1px);clip: rect(1px, 1px, 1px, 1px);height: 1px;margin: -1px;overflow: hidden;padding: 0;position: absolute;width: 1px;}#sk-container-id-4 div.sk-estimator {font-family: monospace;background-color: #f0f8ff;border: 1px dotted black;border-radius: 0.25em;box-sizing: border-box;margin-bottom: 0.5em;}#sk-container-id-4 div.sk-estimator:hover {background-color: #d4ebff;}#sk-container-id-4 div.sk-parallel-item::after {content: \"\";width: 100%;border-bottom: 1px solid gray;flex-grow: 1;}#sk-container-id-4 div.sk-label:hover label.sk-toggleable__label {background-color: #d4ebff;}#sk-container-id-4 div.sk-serial::before {content: \"\";position: absolute;border-left: 1px solid gray;box-sizing: border-box;top: 0;bottom: 0;left: 50%;z-index: 0;}#sk-container-id-4 div.sk-serial {display: flex;flex-direction: column;align-items: center;background-color: white;padding-right: 0.2em;padding-left: 0.2em;position: relative;}#sk-container-id-4 div.sk-item {position: relative;z-index: 1;}#sk-container-id-4 div.sk-parallel {display: flex;align-items: stretch;justify-content: center;background-color: white;position: relative;}#sk-container-id-4 div.sk-item::before, #sk-container-id-4 div.sk-parallel-item::before {content: \"\";position: absolute;border-left: 1px solid gray;box-sizing: border-box;top: 0;bottom: 0;left: 50%;z-index: -1;}#sk-container-id-4 div.sk-parallel-item {display: flex;flex-direction: column;z-index: 1;position: relative;background-color: white;}#sk-container-id-4 div.sk-parallel-item:first-child::after {align-self: flex-end;width: 50%;}#sk-container-id-4 div.sk-parallel-item:last-child::after {align-self: flex-start;width: 50%;}#sk-container-id-4 div.sk-parallel-item:only-child::after {width: 0;}#sk-container-id-4 div.sk-dashed-wrapped {border: 1px dashed gray;margin: 0 0.4em 0.5em 0.4em;box-sizing: border-box;padding-bottom: 0.4em;background-color: white;}#sk-container-id-4 div.sk-label label {font-family: monospace;font-weight: bold;display: inline-block;line-height: 1.2em;}#sk-container-id-4 div.sk-label-container {text-align: center;}#sk-container-id-4 div.sk-container {/* jupyter's `normalize.less` sets `[hidden] { display: none; }` but bootstrap.min.css set `[hidden] { display: none !important; }` so we also need the `!important` here to be able to override the default hidden behavior on the sphinx rendered scikit-learn.org. See: https://github.com/scikit-learn/scikit-learn/issues/21755 */display: inline-block !important;position: relative;}#sk-container-id-4 div.sk-text-repr-fallback {display: none;}</style><div id=\"sk-container-id-4\" class=\"sk-top-container\"><div class=\"sk-text-repr-fallback\"><pre>DecisionTreeRegressor(random_state=42)</pre><b>In a Jupyter environment, please rerun this cell to show the HTML representation or trust the notebook. <br />On GitHub, the HTML representation is unable to render, please try loading this page with nbviewer.org.</b></div><div class=\"sk-container\" hidden><div class=\"sk-item\"><div class=\"sk-estimator sk-toggleable\"><input class=\"sk-toggleable__control sk-hidden--visually\" id=\"sk-estimator-id-4\" type=\"checkbox\" checked><label for=\"sk-estimator-id-4\" class=\"sk-toggleable__label sk-toggleable__label-arrow\">DecisionTreeRegressor</label><div class=\"sk-toggleable__content\"><pre>DecisionTreeRegressor(random_state=42)</pre></div></div></div></div></div>"
      ],
      "text/plain": [
       "DecisionTreeRegressor(random_state=42)"
      ]
     },
     "execution_count": 33,
     "metadata": {},
     "output_type": "execute_result"
    }
   ],
   "source": [
    "# Train Decision Tree Regressor\n",
    "dt = DecisionTreeRegressor(random_state=42)\n",
    "dt.fit(x_train, y_train)"
   ]
  },
  {
   "cell_type": "code",
   "execution_count": 34,
   "id": "ea4b4ff1-fbbd-4a82-afe0-d72fbda2faf1",
   "metadata": {},
   "outputs": [],
   "source": [
    "def evaluate_model(name, model, x_train, x_test, y_train, y_test):\n",
    "    \n",
    "    y_train_pred = model.predict(x_train)\n",
    "    y_test_pred = model.predict(x_test)\n",
    "\n",
    "    print(\"Train R2 Score:\", r2_score(y_train, y_train_pred))\n",
    "    print(\"Test R2 Score:\", r2_score(y_test, y_test_pred))\n",
    "    \n",
    "    print(\"Test MAE:\", mean_absolute_error(y_test, y_test_pred))\n",
    "    print(\"Test RMSE:\", np.sqrt(mean_squared_error(y_test, y_test_pred)))\n"
   ]
  },
  {
   "cell_type": "code",
   "execution_count": 36,
   "id": "53b74644-673b-49c9-96a4-25777d20b693",
   "metadata": {},
   "outputs": [
    {
     "name": "stdout",
     "output_type": "stream",
     "text": [
      "Train R2 Score: 0.899277634553574\n",
      "Test R2 Score: 0.9088827306951802\n",
      "Test MAE: 4.1474562751445445\n",
      "Test RMSE: 5.222466761773294\n",
      "Train R2 Score: 0.9997619993335368\n",
      "Test R2 Score: 0.8208193809958488\n",
      "Test MAE: 5.6503749999999995\n",
      "Test RMSE: 7.323536543228278\n"
     ]
    }
   ],
   "source": [
    "evaluate_model(\"Linear Regression\", lr, x_train, x_test, y_train, y_test)\n",
    "evaluate_model(\"Decision Tree\", dt, x_train, x_test, y_train, y_test)\n"
   ]
  },
  {
   "cell_type": "code",
   "execution_count": 37,
   "id": "48399084-245a-4593-bde9-e9a2e99d18c0",
   "metadata": {},
   "outputs": [
    {
     "name": "stdout",
     "output_type": "stream",
     "text": [
      "Linear Regression CV R²: 0.900892104879213\n",
      "Decision Tree CV R²: 0.7974711864750142\n"
     ]
    }
   ],
   "source": [
    "cv = KFold(n_splits=5, shuffle=True, random_state=42)\n",
    "\n",
    "lr_scores = cross_val_score(lr, x, y, cv=cv, scoring='r2')\n",
    "dt_scores = cross_val_score(dt, x, y, cv=cv, scoring='r2')\n",
    "\n",
    "print(\"Linear Regression CV R²:\", np.mean(lr_scores))\n",
    "print(\"Decision Tree CV R²:\", np.mean(dt_scores))\n"
   ]
  },
  {
   "cell_type": "code",
   "execution_count": 38,
   "id": "6440798f-66cb-4f39-b259-1c029b8f3e28",
   "metadata": {},
   "outputs": [
    {
     "name": "stdout",
     "output_type": "stream",
     "text": [
      "Best Parameters: {'max_depth': 5, 'min_samples_split': 2}\n",
      "Train R2 Score: 0.8728496009531378\n",
      "Test R2 Score: 0.8636628895285596\n",
      "Test MAE: 4.999265555476731\n",
      "Test RMSE: 6.388256997239511\n"
     ]
    }
   ],
   "source": [
    "params = {\n",
    "    'max_depth': [3, 5, 10, None],\n",
    "    'min_samples_split': [2, 5, 10]\n",
    "}\n",
    "\n",
    "grid = GridSearchCV(DecisionTreeRegressor(random_state=42), param_grid=params, cv=5, scoring='r2')\n",
    "grid.fit(x_train, y_train)\n",
    "\n",
    "print(\"Best Parameters:\", grid.best_params_)\n",
    "best_dt = grid.best_estimator_\n",
    "\n",
    "# Evaluate the tuned model\n",
    "evaluate_model(\"Tuned Decision Tree\", best_dt, x_train, x_test, y_train, y_test)\n"
   ]
  },
  {
   "cell_type": "code",
   "execution_count": 39,
   "id": "8e0e9033-4725-40d3-b899-0be89e38e7f4",
   "metadata": {},
   "outputs": [
    {
     "data": {
      "text/plain": [
       "array([67.53056769, 60.34193548, 91.20454545, 93.32713178, 64.83125   ,\n",
       "       67.53056769, 86.32131148, 73.34027778, 54.26160338, 73.13760684,\n",
       "       58.1462963 , 73.91741294, 67.53056769, 54.26160338, 54.26160338,\n",
       "       73.91741294, 41.27328244, 73.91741294, 58.1462963 , 82.47402597,\n",
       "       86.32131148, 95.79411765, 80.0245614 , 45.22643678, 73.91741294,\n",
       "       60.59384615, 67.38584071, 87.6       , 73.13760684, 67.53056769,\n",
       "       82.47402597, 89.72708333, 58.1462963 , 67.38584071, 96.11038961,\n",
       "       93.32713178, 86.09480519, 73.13760684, 41.27328244, 81.2234375 ,\n",
       "       52.57058824, 81.71360947, 58.1462963 , 67.53056769, 65.58421053,\n",
       "       81.71360947, 86.09480519, 67.53056769, 86.32131148, 73.91741294,\n",
       "       67.53056769, 81.2234375 , 67.38584071, 67.53056769, 54.26160338,\n",
       "       52.57058824, 81.71360947, 67.53056769, 81.71360947, 74.93      ,\n",
       "       80.0245614 , 67.38584071, 86.32131148, 65.58421053, 60.59384615,\n",
       "       28.77826087, 74.93      , 80.0245614 , 67.38584071, 99.336     ,\n",
       "       60.59384615, 67.53056769, 67.38584071, 82.47402597, 96.11038961,\n",
       "       64.83125   , 93.32713178, 67.38584071, 73.34027778, 95.79411765,\n",
       "       95.79411765, 86.32131148, 82.47402597, 41.27328244, 73.13760684,\n",
       "       60.59384615, 60.59384615, 82.47402597, 73.91741294, 58.1462963 ,\n",
       "       73.34027778, 67.53056769, 73.34027778, 41.27328244, 86.09480519,\n",
       "       82.47402597, 60.34193548, 74.93      , 67.38584071, 95.13333333,\n",
       "       41.27328244, 86.32131148, 45.22643678, 86.32131148, 45.22643678,\n",
       "       45.22643678, 73.13760684, 93.32713178, 73.34027778, 73.91741294,\n",
       "       89.72708333, 43.34285714, 67.38584071, 67.53056769, 60.34193548,\n",
       "       52.57058824, 45.22643678, 54.26160338, 74.93      , 60.34193548,\n",
       "       73.13760684, 99.336     , 67.53056769, 81.71360947, 54.26160338,\n",
       "       93.32713178, 82.47402597, 67.38584071, 86.09480519, 73.34027778,\n",
       "       54.26160338, 67.38584071, 93.32713178, 54.26160338, 73.13760684,\n",
       "       54.26160338, 54.26160338, 96.11038961, 41.27328244, 73.34027778,\n",
       "       73.91741294, 54.26160338, 73.91741294, 73.91741294, 65.58421053,\n",
       "       81.71360947, 60.34193548, 81.71360947, 81.71360947, 73.91741294,\n",
       "       45.22643678, 73.91741294, 52.57058824, 81.71360947, 67.53056769,\n",
       "       73.91741294, 95.79411765, 45.22643678, 43.34285714, 54.26160338,\n",
       "       74.93      , 81.2234375 , 93.32713178, 81.71360947, 81.71360947,\n",
       "       86.09480519, 86.32131148, 60.34193548, 74.93      , 54.26160338,\n",
       "       86.09480519, 45.22643678, 86.09480519, 41.27328244, 65.58421053,\n",
       "       54.26160338, 96.11038961, 67.53056769, 81.71360947, 86.32131148,\n",
       "       60.59384615, 45.22643678, 28.77826087, 67.53056769, 67.38584071,\n",
       "       60.34193548, 86.09480519, 87.6       , 81.2234375 , 41.27328244,\n",
       "       60.59384615, 67.38584071, 81.71360947, 99.336     , 45.22643678,\n",
       "       67.38584071, 60.59384615, 65.58421053, 73.91741294, 73.91741294,\n",
       "       95.79411765, 96.11038961, 73.91741294, 28.77826087, 54.26160338,\n",
       "       67.53056769, 45.22643678, 81.71360947, 81.71360947, 65.58421053,\n",
       "       45.22643678, 54.26160338, 54.26160338, 41.27328244, 52.57058824,\n",
       "       60.59384615, 81.2234375 , 81.71360947, 81.71360947, 41.27328244,\n",
       "       60.59384615, 93.32713178, 86.32131148, 60.34193548, 99.336     ,\n",
       "       50.40833333, 67.53056769, 52.57058824, 60.59384615, 80.0245614 ,\n",
       "       86.32131148, 54.26160338, 67.53056769, 81.71360947, 81.2234375 ,\n",
       "       28.77826087, 28.77826087, 74.93      , 95.79411765, 73.13760684,\n",
       "       73.13760684, 82.47402597, 67.38584071, 86.32131148, 64.83125   ,\n",
       "       73.13760684, 86.32131148, 41.27328244, 67.53056769, 67.38584071,\n",
       "       86.32131148, 60.34193548, 86.32131148, 67.53056769, 96.11038961,\n",
       "       60.59384615, 74.93      , 73.91741294, 60.34193548, 86.32131148,\n",
       "       86.32131148, 73.91741294, 86.32131148, 67.38584071, 52.57058824,\n",
       "       73.91741294, 54.26160338, 81.2234375 , 67.38584071, 41.27328244,\n",
       "       74.93      , 81.2234375 , 96.11038961, 99.336     , 67.53056769,\n",
       "       93.32713178, 52.57058824, 54.26160338, 86.32131148, 73.34027778,\n",
       "       67.38584071, 95.79411765, 86.09480519, 67.53056769, 65.58421053,\n",
       "       89.72708333, 60.59384615, 86.32131148, 81.2234375 , 95.79411765,\n",
       "       89.72708333, 73.13760684, 86.32131148, 41.27328244, 41.27328244,\n",
       "       81.2234375 , 60.59384615, 60.59384615, 67.38584071, 60.34193548,\n",
       "       93.32713178, 67.38584071, 67.53056769, 43.34285714, 73.34027778,\n",
       "       93.32713178, 93.32713178, 73.13760684, 41.27328244, 74.93      ,\n",
       "       81.2234375 , 93.32713178, 81.71360947, 67.53056769, 89.72708333,\n",
       "       54.26160338, 93.32713178, 60.34193548, 60.34193548, 93.32713178,\n",
       "       73.34027778, 81.2234375 , 81.2234375 , 73.13760684, 64.83125   ,\n",
       "       99.336     , 81.2234375 , 67.53056769, 28.77826087, 74.93      ,\n",
       "       82.47402597, 28.77826087, 58.1462963 , 41.27328244, 54.26160338,\n",
       "       93.32713178, 74.93      , 73.34027778, 73.13760684, 54.26160338,\n",
       "       81.71360947, 67.53056769, 81.71360947, 73.91741294, 67.38584071,\n",
       "       54.26160338, 86.32131148, 60.34193548, 52.57058824, 81.2234375 ,\n",
       "       73.13760684, 74.93      , 73.13760684, 73.34027778, 60.34193548,\n",
       "       87.6       , 52.57058824, 54.26160338, 86.32131148, 60.59384615,\n",
       "       81.2234375 , 67.38584071, 52.57058824, 73.34027778, 73.13760684,\n",
       "       96.11038961, 73.91741294, 65.58421053, 41.27328244, 52.57058824,\n",
       "       52.57058824, 41.27328244, 81.71360947, 86.09480519, 58.1462963 ,\n",
       "       73.91741294, 67.38584071, 96.11038961, 54.26160338, 81.71360947,\n",
       "       45.22643678, 60.59384615, 89.72708333, 67.38584071, 67.53056769,\n",
       "       96.11038961, 95.79411765, 67.38584071, 54.26160338, 73.13760684,\n",
       "       67.53056769, 45.22643678, 60.59384615, 93.32713178, 52.57058824,\n",
       "       89.72708333, 60.59384615, 67.53056769, 73.13760684, 95.79411765,\n",
       "       64.83125   , 86.32131148, 52.57058824, 96.11038961, 73.91741294,\n",
       "       99.336     , 73.34027778, 81.71360947, 60.59384615, 73.91741294,\n",
       "       86.09480519, 73.91741294, 73.91741294, 60.34193548, 67.53056769,\n",
       "       52.57058824, 67.38584071, 41.27328244, 86.32131148, 95.79411765,\n",
       "       41.27328244, 60.34193548, 73.91741294, 67.53056769, 73.91741294,\n",
       "       58.1462963 , 81.2234375 , 74.93      , 67.38584071, 41.27328244,\n",
       "       60.59384615, 81.2234375 , 87.6       , 86.09480519, 67.38584071,\n",
       "       67.53056769, 67.38584071, 67.53056769, 52.57058824, 54.26160338,\n",
       "       95.79411765, 89.72708333, 65.58421053, 54.26160338, 95.79411765,\n",
       "       99.336     , 67.38584071, 54.26160338, 96.11038961, 93.32713178,\n",
       "       54.26160338, 81.71360947, 58.1462963 , 93.32713178, 81.71360947,\n",
       "       58.1462963 , 58.1462963 , 73.13760684, 60.34193548, 67.53056769,\n",
       "       45.22643678, 41.27328244, 86.32131148, 41.27328244, 73.91741294,\n",
       "       73.91741294, 60.59384615, 95.79411765, 82.47402597, 58.1462963 ,\n",
       "       74.93      , 41.27328244, 41.27328244, 73.91741294, 86.32131148,\n",
       "       81.2234375 , 67.38584071, 86.32131148, 52.57058824, 73.91741294,\n",
       "       45.22643678, 60.34193548, 67.53056769, 73.91741294, 60.34193548,\n",
       "       67.53056769, 54.26160338, 67.53056769, 60.34193548, 54.26160338,\n",
       "       54.26160338, 54.26160338, 60.34193548, 64.83125   , 67.38584071,\n",
       "       95.79411765, 95.79411765, 73.13760684, 81.2234375 , 52.57058824,\n",
       "       60.59384615, 99.336     , 67.53056769, 54.26160338, 95.79411765,\n",
       "       74.93      , 89.72708333, 93.32713178, 91.20454545, 67.53056769,\n",
       "       67.38584071, 64.83125   , 52.57058824, 95.79411765, 96.11038961,\n",
       "       99.336     , 93.32713178, 93.32713178, 86.32131148, 41.27328244,\n",
       "       67.38584071, 73.91741294, 91.20454545, 73.91741294, 89.72708333,\n",
       "       58.1462963 , 80.0245614 , 81.2234375 , 86.32131148, 60.59384615,\n",
       "       73.13760684, 74.93      , 67.38584071, 81.71360947, 73.91741294,\n",
       "       67.53056769, 60.34193548, 95.79411765, 82.47402597, 86.32131148,\n",
       "       99.336     , 41.27328244, 93.32713178, 43.34285714, 60.34193548,\n",
       "       54.26160338, 93.32713178, 43.34285714, 67.38584071, 67.38584071,\n",
       "       73.91741294, 73.91741294, 73.13760684, 96.11038961, 52.57058824,\n",
       "       82.47402597, 45.22643678, 86.32131148, 96.11038961, 86.09480519,\n",
       "       60.34193548, 60.59384615, 28.77826087, 74.93      , 96.11038961,\n",
       "       65.58421053, 86.32131148, 54.26160338, 74.93      , 93.32713178,\n",
       "       81.71360947, 95.79411765, 89.72708333, 73.91741294, 73.91741294,\n",
       "       73.13760684, 60.34193548, 67.38584071, 67.38584071, 28.77826087,\n",
       "       41.27328244, 81.2234375 , 95.79411765, 80.0245614 , 95.13333333,\n",
       "       65.58421053, 81.2234375 , 54.26160338, 73.91741294, 95.79411765,\n",
       "       86.32131148, 96.11038961, 96.11038961, 67.38584071, 81.71360947,\n",
       "       81.2234375 , 73.91741294, 73.91741294, 60.59384615, 73.91741294,\n",
       "       74.93      , 87.6       , 86.09480519, 95.79411765, 95.79411765,\n",
       "       74.93      , 96.11038961, 93.32713178, 93.32713178, 96.11038961,\n",
       "       67.53056769, 45.22643678, 67.38584071, 67.38584071, 67.38584071,\n",
       "       86.09480519, 86.09480519, 43.34285714, 91.20454545, 60.34193548,\n",
       "       41.27328244, 86.09480519, 67.38584071, 74.93      , 45.22643678,\n",
       "       67.38584071, 67.53056769, 93.32713178, 54.26160338, 93.32713178,\n",
       "       67.38584071, 95.79411765, 67.38584071, 60.34193548, 41.27328244,\n",
       "       95.13333333, 73.34027778, 74.93      , 67.38584071, 67.53056769,\n",
       "       67.53056769, 60.34193548, 28.77826087, 60.34193548, 81.71360947,\n",
       "       60.34193548, 65.58421053, 74.93      , 99.336     , 67.38584071,\n",
       "       99.336     , 41.27328244, 65.58421053, 73.13760684, 89.72708333,\n",
       "       60.34193548, 64.83125   , 81.71360947, 73.13760684, 67.53056769,\n",
       "       41.27328244, 81.71360947, 89.72708333, 73.91741294, 67.53056769,\n",
       "       86.09480519, 54.26160338, 54.26160338, 86.32131148, 60.59384615,\n",
       "       87.6       , 81.71360947, 52.57058824, 81.2234375 , 81.2234375 ,\n",
       "       96.11038961, 54.26160338, 60.59384615, 41.27328244, 45.22643678,\n",
       "       73.13760684, 81.2234375 , 87.6       , 81.2234375 , 93.32713178,\n",
       "       89.72708333, 67.53056769, 93.32713178, 86.32131148, 52.57058824,\n",
       "       73.91741294, 67.53056769, 86.09480519, 73.91741294, 45.22643678,\n",
       "       81.71360947, 86.09480519, 82.47402597, 64.83125   , 60.59384615,\n",
       "       67.53056769, 74.93      , 93.32713178, 60.34193548, 60.59384615,\n",
       "       67.38584071, 67.53056769, 95.79411765, 74.93      , 99.336     ,\n",
       "       67.38584071, 93.32713178, 73.91741294, 86.32131148, 65.58421053,\n",
       "       67.38584071, 81.71360947, 73.91741294, 60.59384615, 81.71360947,\n",
       "       86.32131148, 96.11038961, 60.59384615, 96.11038961, 43.34285714,\n",
       "       60.34193548, 93.32713178, 54.26160338, 41.27328244, 67.38584071,\n",
       "       60.59384615, 41.27328244, 41.27328244, 74.93      , 60.34193548,\n",
       "       82.47402597, 54.26160338, 93.32713178, 41.27328244, 74.93      ,\n",
       "       67.53056769, 67.53056769, 60.34193548, 74.93      , 67.38584071,\n",
       "       73.13760684, 82.47402597, 67.38584071, 93.32713178, 60.59384615,\n",
       "       93.32713178, 60.59384615, 50.40833333, 86.32131148, 54.26160338,\n",
       "       74.93      , 60.59384615, 54.26160338, 82.47402597, 81.71360947,\n",
       "       67.53056769, 81.2234375 , 74.93      , 45.22643678, 87.6       ,\n",
       "       73.34027778, 58.1462963 , 73.91741294, 82.47402597, 60.34193548,\n",
       "       73.13760684, 52.57058824, 67.53056769, 54.26160338, 54.26160338,\n",
       "       43.34285714, 93.32713178, 99.336     , 41.27328244, 73.34027778,\n",
       "       99.336     , 67.53056769, 54.26160338, 52.57058824, 60.34193548,\n",
       "       99.336     , 60.59384615, 93.32713178, 81.2234375 , 52.57058824,\n",
       "       67.38584071, 58.1462963 , 73.13760684, 28.77826087, 67.53056769,\n",
       "       95.79411765, 54.26160338, 73.13760684, 54.26160338, 45.22643678])"
      ]
     },
     "execution_count": 39,
     "metadata": {},
     "output_type": "execute_result"
    }
   ],
   "source": [
    "y_pred = best_dt.predict(x_test)\n",
    "\n",
    "y_pred"
   ]
  },
  {
   "cell_type": "code",
   "execution_count": null,
   "id": "4ffd507a-3609-4030-8d77-3a01fd6b2cdd",
   "metadata": {},
   "outputs": [],
   "source": []
  }
 ],
 "metadata": {
  "kernelspec": {
   "display_name": "Python 3 (ipykernel)",
   "language": "python",
   "name": "python3"
  },
  "language_info": {
   "codemirror_mode": {
    "name": "ipython",
    "version": 3
   },
   "file_extension": ".py",
   "mimetype": "text/x-python",
   "name": "python",
   "nbconvert_exporter": "python",
   "pygments_lexer": "ipython3",
   "version": "3.11.9"
  }
 },
 "nbformat": 4,
 "nbformat_minor": 5
}
