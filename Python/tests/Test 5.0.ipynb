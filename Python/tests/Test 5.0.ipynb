{
 "cells": [
  {
   "cell_type": "code",
   "execution_count": null,
   "id": "b0012580-39cc-4f76-84b2-8df3c6495a63",
   "metadata": {},
   "outputs": [],
   "source": [
    "''' 1: Using this dataset, calculate the probability that **exactly 5 defective items** will be produced on a new day. Use Python to:\n",
    "\n",
    "- Generate the data  \n",
    "-  Calculate the mean and standard deviation  \n",
    "-  Compute the probability using the normal distribution (with continuity correction)\n",
    "'''"
   ]
  },
  {
   "cell_type": "code",
   "execution_count": 16,
   "id": "7134cd68-63b7-4a3c-9ad8-b0fb47eebdaa",
   "metadata": {},
   "outputs": [],
   "source": [
    "from numpy.random import randint as ri\n",
    "import pandas as pd\n",
    "from scipy.stats import norm"
   ]
  },
  {
   "cell_type": "code",
   "execution_count": 2,
   "id": "d864b07e-0923-4f0b-a0a6-efed1cb2a523",
   "metadata": {},
   "outputs": [],
   "source": [
    "defects = ri(0, 21, 1000)  #generate data\n",
    "defects = pd.Series(defects)"
   ]
  },
  {
   "cell_type": "code",
   "execution_count": 3,
   "id": "f272ca5c-b9cf-4a6a-8e82-cc4a8bd67bb6",
   "metadata": {},
   "outputs": [
    {
     "data": {
      "text/plain": [
       "0       2\n",
       "1       7\n",
       "2      11\n",
       "3       6\n",
       "4      17\n",
       "       ..\n",
       "995     0\n",
       "996     0\n",
       "997     2\n",
       "998     5\n",
       "999     4\n",
       "Length: 1000, dtype: int32"
      ]
     },
     "execution_count": 3,
     "metadata": {},
     "output_type": "execute_result"
    }
   ],
   "source": [
    "defects"
   ]
  },
  {
   "cell_type": "code",
   "execution_count": 14,
   "id": "a647b83e-2caf-457c-8efe-e5d21cc6d3fd",
   "metadata": {},
   "outputs": [],
   "source": [
    "mean = defects.mean() # mean and standard deviation\n",
    "std = defects.std()"
   ]
  },
  {
   "cell_type": "code",
   "execution_count": 11,
   "id": "63719b6f-aa9f-46fd-ad9b-0eb7ba8d1107",
   "metadata": {},
   "outputs": [
    {
     "data": {
      "text/plain": [
       "9.785"
      ]
     },
     "execution_count": 11,
     "metadata": {},
     "output_type": "execute_result"
    }
   ],
   "source": [
    "mean\n"
   ]
  },
  {
   "cell_type": "code",
   "execution_count": 12,
   "id": "3c503fbe-1d22-4507-844c-01b327b8dc75",
   "metadata": {},
   "outputs": [
    {
     "data": {
      "text/plain": [
       "6.194929551831252"
      ]
     },
     "execution_count": 12,
     "metadata": {},
     "output_type": "execute_result"
    }
   ],
   "source": [
    "std"
   ]
  },
  {
   "cell_type": "code",
   "execution_count": 18,
   "id": "edb4ebf6-4df3-4ffd-8165-9bffa190d3fe",
   "metadata": {},
   "outputs": [
    {
     "data": {
      "text/plain": [
       "0.04776733519390991"
      ]
     },
     "execution_count": 18,
     "metadata": {},
     "output_type": "execute_result"
    }
   ],
   "source": [
    "#Compute the probability using the normal distribution (with continuity correction)\n",
    "#p=5 then p(4.5<X<5.5)\n",
    "lower_bound=4.5\n",
    "upper_bound=5.5\n",
    "\n",
    "probability = norm.cdf(upper_bound, loc=mean, scale=std) - norm.cdf(lower_bound, loc=mean, scale=std)\n",
    "probability"
   ]
  },
  {
   "cell_type": "code",
   "execution_count": null,
   "id": "8517179a-497d-455e-a6a5-7b5038b1ecaa",
   "metadata": {},
   "outputs": [],
   "source": [
    "''' Problem – Testing the Claim About Delivery Time\n",
    "\n",
    "A food delivery company claims that its average delivery time is **30 minutes**. Based on historical data, the **population standard deviation** is known to be **4 minutes**.\n",
    "\n",
    "To evaluate this claim, a consumer rights group decides to test the null hypothesis that the average delivery time is **at most 30 minutes**. They observe a sample of **40 deliveries**, and the average delivery time for the sample comes out to be **31.2 minutes**.\n",
    "\n",
    "### Objective:\n",
    "\n",
    "Test the null hypothesis using the z-test.  \n",
    "- **Null Hypothesis (H₀): μ ≤ 30** (Average delivery time is 30 minutes or less)  \n",
    "- **Alternative Hypothesis (H₁): μ > 30** (Average delivery time is more than 30 minutes) '''"
   ]
  },
  {
   "cell_type": "code",
   "execution_count": 19,
   "id": "434eaa2b-8547-4836-b5af-7296214ae392",
   "metadata": {},
   "outputs": [],
   "source": [
    "import numpy as np\n",
    "from scipy.stats import norm"
   ]
  },
  {
   "cell_type": "code",
   "execution_count": 20,
   "id": "9767e694-7158-45a2-8a90-7a9cd2633ff0",
   "metadata": {},
   "outputs": [],
   "source": [
    "# Known values\n",
    "population_mean = 30        # Claimed average delivery time\n",
    "sample_mean = 31.2          # Observed sample mean\n",
    "std_dev = 4                 # Known population standard deviation\n",
    "n = 40                      # Sample size"
   ]
  },
  {
   "cell_type": "code",
   "execution_count": 32,
   "id": "f692d135-f720-4957-b007-a07741e251f6",
   "metadata": {},
   "outputs": [
    {
     "data": {
      "text/plain": [
       "0.6324555320336759"
      ]
     },
     "execution_count": 32,
     "metadata": {},
     "output_type": "execute_result"
    }
   ],
   "source": [
    "#it is a right tail test where alternate hypothesis is greater than 30**\n",
    "# finding the standard error \n",
    "std_error = std_dev / np.sqrt(n)\n",
    "std_error"
   ]
  },
  {
   "cell_type": "code",
   "execution_count": 24,
   "id": "e5ec6917-b7e6-4b3f-bfb3-8add8b591d74",
   "metadata": {},
   "outputs": [
    {
     "data": {
      "text/plain": [
       "1.8973665961010264"
      ]
     },
     "execution_count": 24,
     "metadata": {},
     "output_type": "execute_result"
    }
   ],
   "source": [
    "#finding the z score distribution \n",
    "score = (sample_mean - population_mean)/std_error \n",
    "score\n"
   ]
  },
  {
   "cell_type": "code",
   "execution_count": 26,
   "id": "893165d2-1bae-4b73-81fc-071293ebc405",
   "metadata": {},
   "outputs": [
    {
     "data": {
      "text/plain": [
       "0.9711102144382013"
      ]
     },
     "execution_count": 26,
     "metadata": {},
     "output_type": "execute_result"
    }
   ],
   "source": [
    "# finding the probability using cdf\n",
    "probability = norm.cdf(score)\n",
    "probability"
   ]
  },
  {
   "cell_type": "code",
   "execution_count": 27,
   "id": "87739b0f-3105-4c64-9707-6880934c6784",
   "metadata": {},
   "outputs": [
    {
     "data": {
      "text/plain": [
       "0.030000000000000027"
      ]
     },
     "execution_count": 27,
     "metadata": {},
     "output_type": "execute_result"
    }
   ],
   "source": [
    "# p value\n",
    "p_value = 1 - 0.97\n",
    "p_value"
   ]
  },
  {
   "cell_type": "code",
   "execution_count": 28,
   "id": "fe42e67e-4f6d-4d73-a8ef-21523076383c",
   "metadata": {},
   "outputs": [],
   "source": [
    "alpha_value = 0.05\n"
   ]
  },
  {
   "cell_type": "code",
   "execution_count": 31,
   "id": "2648d5c6-fe33-4940-95e3-06f519e71bfb",
   "metadata": {},
   "outputs": [
    {
     "name": "stdout",
     "output_type": "stream",
     "text": [
      "the average delivery time will be 30min or less than 30min\n"
     ]
    }
   ],
   "source": [
    "if p_value > alpha_value:\n",
    "    print('the average delivery time will be greater than 30 min')\n",
    "else:\n",
    "    print('the average delivery time will be 30min or less than 30min')"
   ]
  },
  {
   "cell_type": "code",
   "execution_count": null,
   "id": "4f322338-26ca-487c-9ad8-ff53449c3c39",
   "metadata": {},
   "outputs": [],
   "source": [
    "''' ## Problem – Fitness Program Impact Analysis\n",
    "\n",
    "A health and wellness company is evaluating the impact of its **6-week fitness training program**. They collect performance data (in terms of fitness scores out of 100) from participants **before and after** the program.\n",
    "\n",
    "You are provided with a dataset of **150 participants**, with the following information:\n",
    "- **Initial Score** (before the program)\n",
    "- **Final Score** (after the program)\n",
    "- **Gender** of the participant (0 = Female, 1 = Male)\n",
    "\n",
    "### Your Task:\n",
    "\n",
    "Using the dataset provided below, perform the following statistical tests:\n",
    "\n",
    "1. **One-Sample t-Test**  \n",
    "   Test whether the **average initial fitness score** is at least **65**.\n",
    "\n",
    "2. **Two-Sample Independent t-Test**  \n",
    "   Compare the **initial fitness scores of male and female participants** to check if there's a significant difference.\n",
    "\n",
    "3. **Paired Sample t-Test**  \n",
    "   Test whether the **final scores are significantly higher than the initial scores**, i.e., whether the fitness program had a measurable impact.\n",
    "\n",
    "   '''"
   ]
  },
  {
   "cell_type": "code",
   "execution_count": 33,
   "id": "11102f3f-b61f-4ba5-9560-680b73a19a4b",
   "metadata": {},
   "outputs": [
    {
     "data": {
      "text/html": [
       "<div>\n",
       "<style scoped>\n",
       "    .dataframe tbody tr th:only-of-type {\n",
       "        vertical-align: middle;\n",
       "    }\n",
       "\n",
       "    .dataframe tbody tr th {\n",
       "        vertical-align: top;\n",
       "    }\n",
       "\n",
       "    .dataframe thead th {\n",
       "        text-align: right;\n",
       "    }\n",
       "</style>\n",
       "<table border=\"1\" class=\"dataframe\">\n",
       "  <thead>\n",
       "    <tr style=\"text-align: right;\">\n",
       "      <th></th>\n",
       "      <th>Gender</th>\n",
       "      <th>Initial_Score</th>\n",
       "      <th>Final_Score</th>\n",
       "    </tr>\n",
       "  </thead>\n",
       "  <tbody>\n",
       "    <tr>\n",
       "      <th>0</th>\n",
       "      <td>0</td>\n",
       "      <td>73.167718</td>\n",
       "      <td>76.049901</td>\n",
       "    </tr>\n",
       "    <tr>\n",
       "      <th>1</th>\n",
       "      <td>0</td>\n",
       "      <td>67.883235</td>\n",
       "      <td>75.156484</td>\n",
       "    </tr>\n",
       "    <tr>\n",
       "      <th>2</th>\n",
       "      <td>1</td>\n",
       "      <td>59.935980</td>\n",
       "      <td>65.727168</td>\n",
       "    </tr>\n",
       "    <tr>\n",
       "      <th>3</th>\n",
       "      <td>1</td>\n",
       "      <td>62.409887</td>\n",
       "      <td>68.352951</td>\n",
       "    </tr>\n",
       "    <tr>\n",
       "      <th>4</th>\n",
       "      <td>1</td>\n",
       "      <td>68.476639</td>\n",
       "      <td>70.330144</td>\n",
       "    </tr>\n",
       "  </tbody>\n",
       "</table>\n",
       "</div>"
      ],
      "text/plain": [
       "   Gender  Initial_Score  Final_Score\n",
       "0       0      73.167718    76.049901\n",
       "1       0      67.883235    75.156484\n",
       "2       1      59.935980    65.727168\n",
       "3       1      62.409887    68.352951\n",
       "4       1      68.476639    70.330144"
      ]
     },
     "execution_count": 33,
     "metadata": {},
     "output_type": "execute_result"
    }
   ],
   "source": [
    "import numpy as np\n",
    "import pandas as pd\n",
    "\n",
    "# Set random seed for reproducibility\n",
    "np.random.seed(100)\n",
    "\n",
    "# Sample size\n",
    "n = 150\n",
    "\n",
    "# Gender (0 = Female, 1 = Male)\n",
    "gender = np.random.choice([0, 1], size=n)\n",
    "\n",
    "# Initial scores (mean slightly < 65 to create realistic test)\n",
    "initial_scores = np.random.normal(loc=64, scale=6, size=n)\n",
    "\n",
    "# Final scores (showing average improvement)\n",
    "final_scores = initial_scores + np.random.normal(loc=5, scale=3, size=n)\n",
    "\n",
    "# Create DataFrame\n",
    "df = pd.DataFrame({\n",
    "    'Gender': gender,\n",
    "    'Initial_Score': initial_scores,\n",
    "    'Final_Score': final_scores\n",
    "})\n",
    "\n",
    "df.head()\n"
   ]
  },
  {
   "cell_type": "code",
   "execution_count": 50,
   "id": "ca6f39d2-35f4-4624-a180-563d6a618b0c",
   "metadata": {},
   "outputs": [],
   "source": [
    "### 1. One-Sample T-Test\n",
    "### Null Hypothesis** H₀: μ ≥ 65 (Average initial score is at least 65)\n",
    "\n",
    "import scipy.stats as st\n",
    "from scipy.stats import ttest_1samp, ttest_ind, ttest_rel\n"
   ]
  },
  {
   "cell_type": "code",
   "execution_count": 47,
   "id": "3a093810-0c57-45a0-a748-a594f59cfe1f",
   "metadata": {},
   "outputs": [],
   "source": [
    "t_stat, p_value = ttest_1samp(df['Initial_Score'], 65)"
   ]
  },
  {
   "cell_type": "code",
   "execution_count": 45,
   "id": "6672be0a-9428-4b82-964f-83e52e748949",
   "metadata": {},
   "outputs": [],
   "source": [
    "# one tailed (left tailed)\n",
    "p_value_one_tailed = p_value / 2"
   ]
  },
  {
   "cell_type": "code",
   "execution_count": 48,
   "id": "a9e77745-bf79-4667-ae25-8f2d6f5334ff",
   "metadata": {},
   "outputs": [
    {
     "name": "stdout",
     "output_type": "stream",
     "text": [
      "  Reject H₀: Average initial score is significantly less than 65\n"
     ]
    }
   ],
   "source": [
    "if (t_stat < 0) and (p_value_one_tailed < 0.05):\n",
    "    print(\"  Reject H₀: Average initial score is significantly less than 65\")\n",
    "else:\n",
    "    print(\"  Fail to reject H₀: Not enough evidence that average score is less than 65\")"
   ]
  },
  {
   "cell_type": "code",
   "execution_count": 51,
   "id": "df7817c8-4bde-402b-885d-5c63c7818e02",
   "metadata": {},
   "outputs": [
    {
     "name": "stdout",
     "output_type": "stream",
     "text": [
      "  Fail to reject H₀: No significant difference between male and female scores\n"
     ]
    }
   ],
   "source": [
    "### 2. two sample T-Test\n",
    "### Null Hypothesis H₀: μ₁ = μ₂ (No difference in average initial scores between males and females)\n",
    "### Alternate Hypothesis H₁: μ₁ ≠ μ₂ (There is a difference in average initial scores)\n",
    "# Split data\n",
    "male_scores = df[df['Gender'] == 1]['Initial_Score']\n",
    "female_scores = df[df['Gender'] == 0]['Initial_Score']\n",
    "\n",
    "# Two-sample independent t-test\n",
    "t_stat, p_value = ttest_ind(male_scores, female_scores, equal_var=False)\n",
    "\n",
    "\n",
    "if p_value < 0.05:\n",
    "    print(\"  Reject H₀: Significant difference between male and female initial scores\")\n",
    "else:\n",
    "    print(\"  Fail to reject H₀: No significant difference between male and female scores\")\n"
   ]
  },
  {
   "cell_type": "code",
   "execution_count": 52,
   "id": "4d65edbd-d611-4f37-992a-7b126451acc0",
   "metadata": {},
   "outputs": [
    {
     "name": "stdout",
     "output_type": "stream",
     "text": [
      "Reject H₀: Final scores are significantly higher — the program had an impact\n"
     ]
    }
   ],
   "source": [
    "### Paired Sample t-Test:\n",
    "### **Null Hypothesis** H₀: μ_diff = 0 (No change in scores before and after the program)\n",
    "### **Alternate Hypothesis** H₁: μ_diff < 0 (Final scores are higher than initial scores)\n",
    "# Paired t-test (Initial vs Final)\n",
    "t_stat, p_value = ttest_rel(df['Initial_Score'], df['Final_Score'])\n",
    "\n",
    "# One-tailed test: testing if Final > Initial (i.e., Initial - Final < 0)\n",
    "p_value_one_tailed = p_value / 2\n",
    "\n",
    "if (t_stat < 0) and (p_value_one_tailed < 0.05):\n",
    "    print(\"Reject H₀: Final scores are significantly higher — the program had an impact\")\n",
    "else:\n",
    "    print(\"Fail to reject H₀: No significant improvement observed\")\n"
   ]
  },
  {
   "cell_type": "code",
   "execution_count": null,
   "id": "f4b06ba8-bc13-4870-b2cb-83ebbbaa2af5",
   "metadata": {},
   "outputs": [],
   "source": [
    "''' ##  Problem – ANOVA Analysis of Customer Satisfaction Across Store Branches\n",
    "\n",
    "A retail company wants to analyze whether the **average customer satisfaction scores** vary significantly across its three store branches: **Branch A, Branch B, and Branch C**.\n",
    "\n",
    "You are provided with data containing:\n",
    "- **Customer_ID**\n",
    "- **Branch** (Categorical Variable)\n",
    "- **Satisfaction_Score** (Continuous Variable on a scale from 0 to 500)\n",
    "\n",
    "---\n",
    "\n",
    "###  Objective:\n",
    "Use **One-Way ANOVA** to test the following hypotheses:\n",
    "\n",
    "- **H₀ (Null Hypothesis)**: The average satisfaction scores across all three branches are **equal**.\n",
    "- **H₁ (Alternative Hypothesis)**: At least one branch has a **different average** satisfaction score.\n",
    "''' "
   ]
  },
  {
   "cell_type": "code",
   "execution_count": 62,
   "id": "e4adba0f-4ff9-411f-ad80-07fe4c06b28e",
   "metadata": {},
   "outputs": [
    {
     "data": {
      "text/html": [
       "<div>\n",
       "<style scoped>\n",
       "    .dataframe tbody tr th:only-of-type {\n",
       "        vertical-align: middle;\n",
       "    }\n",
       "\n",
       "    .dataframe tbody tr th {\n",
       "        vertical-align: top;\n",
       "    }\n",
       "\n",
       "    .dataframe thead th {\n",
       "        text-align: right;\n",
       "    }\n",
       "</style>\n",
       "<table border=\"1\" class=\"dataframe\">\n",
       "  <thead>\n",
       "    <tr style=\"text-align: right;\">\n",
       "      <th></th>\n",
       "      <th>Customer_ID</th>\n",
       "      <th>Branch</th>\n",
       "      <th>Satisfaction_Score</th>\n",
       "    </tr>\n",
       "  </thead>\n",
       "  <tbody>\n",
       "    <tr>\n",
       "      <th>0</th>\n",
       "      <td>1</td>\n",
       "      <td>A</td>\n",
       "      <td>434.901425</td>\n",
       "    </tr>\n",
       "    <tr>\n",
       "      <th>1</th>\n",
       "      <td>2</td>\n",
       "      <td>A</td>\n",
       "      <td>415.852071</td>\n",
       "    </tr>\n",
       "    <tr>\n",
       "      <th>2</th>\n",
       "      <td>3</td>\n",
       "      <td>A</td>\n",
       "      <td>439.430656</td>\n",
       "    </tr>\n",
       "    <tr>\n",
       "      <th>3</th>\n",
       "      <td>4</td>\n",
       "      <td>A</td>\n",
       "      <td>465.690896</td>\n",
       "    </tr>\n",
       "    <tr>\n",
       "      <th>4</th>\n",
       "      <td>5</td>\n",
       "      <td>A</td>\n",
       "      <td>412.975399</td>\n",
       "    </tr>\n",
       "  </tbody>\n",
       "</table>\n",
       "</div>"
      ],
      "text/plain": [
       "   Customer_ID Branch  Satisfaction_Score\n",
       "0            1      A          434.901425\n",
       "1            2      A          415.852071\n",
       "2            3      A          439.430656\n",
       "3            4      A          465.690896\n",
       "4            5      A          412.975399"
      ]
     },
     "execution_count": 62,
     "metadata": {},
     "output_type": "execute_result"
    }
   ],
   "source": [
    "import numpy as np\n",
    "import pandas as pd\n",
    "import statsmodels.formula.api as sm\n",
    "import statsmodels.stats.anova as anova\n",
    "import statsmodels.formula.api as smf\n",
    "# Set seed for reproducibility\n",
    "np.random.seed(42)\n",
    "\n",
    "# Sample size per branch\n",
    "n = 70\n",
    "\n",
    "# Create satisfaction scores for three branches\n",
    "branch_a = np.random.normal(loc=420, scale=30, size=n)\n",
    "branch_b = np.random.normal(loc=400, scale=35, size=n)\n",
    "branch_c = np.random.normal(loc=430, scale=25, size=n)\n",
    "\n",
    "# Combine into a DataFrame\n",
    "data = pd.DataFrame({\n",
    "    'Customer_ID': range(1, n*3 + 1),\n",
    "    'Branch': ['A'] * n + ['B'] * n + ['C'] * n,\n",
    "    'Satisfaction_Score': np.concatenate([branch_a, branch_b, branch_c])\n",
    "})\n",
    "\n",
    "data.head()"
   ]
  },
  {
   "cell_type": "code",
   "execution_count": 60,
   "id": "4336d3ef-f3a4-45ff-a35c-e081470c99a3",
   "metadata": {},
   "outputs": [],
   "source": [
    "# Fit the OLS model\n",
    "model = smf.ols('Satisfaction_Score ~ Branch', data=data).fit()\n"
   ]
  },
  {
   "cell_type": "code",
   "execution_count": 63,
   "id": "3c4832b8-49ed-4918-a814-d991bbc10221",
   "metadata": {},
   "outputs": [
    {
     "name": "stdout",
     "output_type": "stream",
     "text": [
      "             df         sum_sq       mean_sq          F        PR(>F)\n",
      "Branch      2.0   42018.567984  21009.283992  24.799904  2.212591e-10\n",
      "Residual  207.0  175360.431682    847.151844        NaN           NaN\n"
     ]
    }
   ],
   "source": [
    "# Type 1 ANOVA table\n",
    "anova_table = anova.anova_lm(model, typ=1)\n",
    "print(anova_table)\n"
   ]
  },
  {
   "cell_type": "code",
   "execution_count": null,
   "id": "174a6f9d-31c2-42ab-8666-c3597f8234bb",
   "metadata": {},
   "outputs": [],
   "source": [
    "''' ## Problem – Evaluate Forecast Accuracy Using the Chi-Square Goodness of Fit Test\n",
    "\n",
    "The city’s public transportation authority uses a forecasting model to estimate the number of metro passengers for each day of the week. These forecasts help manage train schedules, staffing, and platform operations.\n",
    "\n",
    "Recently, actual passenger counts were collected and compared to the forecasted values to evaluate how well the model performs.\n",
    "\n",
    "---\n",
    "\n",
    "### Question\n",
    "\n",
    "You are provided with the forecasted and observed number of passengers (in thousands) for each day of a week:\n",
    "\n",
    "- **Forecasted Values (Expected):**  \n",
    "  `[95, 110, 100, 130, 160, 210, 230]`\n",
    "\n",
    "- **Observed Values (Actual):**  \n",
    "  `[90, 105, 98, 135, 165, 205, 225]`\n",
    "\n",
    "Using a **Chi-Square Goodness of Fit Test**, determine whether the forecast model provides an accurate estimate of daily passenger traffic.\n",
    "\n",
    "---\n",
    "\n",
    "### Hypotheses\n",
    "\n",
    "- **Null Hypothesis (H₀):** There is no significant difference between the forecasted and observed values (i.e., the model is accurate).\n",
    "- **Alternative Hypothesis (H₁):** There is a significant difference between the forecasted and observed values (i.e., the model is inaccurate).\n",
    "''''"
   ]
  },
  {
   "cell_type": "code",
   "execution_count": 64,
   "id": "032441a0-6c33-4cfe-9907-0061a712bcb1",
   "metadata": {},
   "outputs": [],
   "source": [
    "import numpy as np\n",
    "from scipy.stats import chi2\n",
    "\n",
    "# Data\n",
    "expected = np.array([95, 110, 100, 130, 160, 210, 230])\n",
    "observed = np.array([90, 105, 98, 135, 165, 205, 225])\n"
   ]
  },
  {
   "cell_type": "code",
   "execution_count": 65,
   "id": "089e66f2-ea18-4083-9047-156668358ec7",
   "metadata": {},
   "outputs": [
    {
     "data": {
      "text/plain": [
       "1.1067315855387938"
      ]
     },
     "execution_count": 65,
     "metadata": {},
     "output_type": "execute_result"
    }
   ],
   "source": [
    "chi_square_stat = np.sum((observed - expected) ** 2 / expected)\n",
    "chi_square_stat"
   ]
  },
  {
   "cell_type": "code",
   "execution_count": 67,
   "id": "f24e317f-5dc5-4043-b19e-8d65b36f405f",
   "metadata": {},
   "outputs": [
    {
     "data": {
      "text/plain": [
       "6"
      ]
     },
     "execution_count": 67,
     "metadata": {},
     "output_type": "execute_result"
    }
   ],
   "source": [
    "##degree of freedom\n",
    "df = len(expected) - 1\n",
    "df"
   ]
  },
  {
   "cell_type": "code",
   "execution_count": 69,
   "id": "83200fad-e5f6-4127-b1d0-1d8584e4cf19",
   "metadata": {},
   "outputs": [],
   "source": [
    "## critical value \n",
    "alpha = 0.10\n"
   ]
  },
  {
   "cell_type": "code",
   "execution_count": 71,
   "id": "7cebd5c8-111e-4245-8b35-e653752610f3",
   "metadata": {},
   "outputs": [
    {
     "data": {
      "text/plain": [
       "10.644640675668422"
      ]
     },
     "execution_count": 71,
     "metadata": {},
     "output_type": "execute_result"
    }
   ],
   "source": [
    "critical_value = chi2.ppf(1 - alpha, df)\n",
    "critical_value"
   ]
  },
  {
   "cell_type": "code",
   "execution_count": 72,
   "id": "d90d1f66-f662-4d5b-bcce-bf7fe6518e07",
   "metadata": {},
   "outputs": [
    {
     "name": "stdout",
     "output_type": "stream",
     "text": [
      "Fail to reject the null hypothesis: The forecasting model is reasonably accurate.\n"
     ]
    }
   ],
   "source": [
    "if chi_square_stat > critical_value:\n",
    "    print(\"Reject the null hypothesis: The forecasting model is inaccurate.\")\n",
    "else:\n",
    "    print(\"Fail to reject the null hypothesis: The forecasting model is reasonably accurate.\")"
   ]
  },
  {
   "cell_type": "code",
   "execution_count": null,
   "id": "3ab3f6c3-1e9e-488e-b86a-d6bb3a5bc4ed",
   "metadata": {},
   "outputs": [],
   "source": [
    "''' ## Problem – Manual Covariance Calculation Between Study Hours and Exam Scores\n",
    "\n",
    "A school counselor wants to understand how strongly the number of hours a student studies is related to their exam score.\n",
    "\n",
    "She collected the following data:\n",
    "\n",
    "| Student | Hours_Studied | Exam_Score |\n",
    "|---------|---------------|------------|\n",
    "| A       | 2             | 65         |\n",
    "| B       | 4             | 70         |\n",
    "| C       | 6             | 75         |\n",
    "| D       | 8             | 85         |\n",
    "| E       | 10            | 95         |\n",
    "\n",
    "---\n",
    "\n",
    "###  Objective\n",
    "\n",
    "Manually compute the **covariance** between `Hours_Studied` and `Exam_Score` **without using built-in functions** like `.cov()` or NumPy methods.\n",
    "'''"
   ]
  },
  {
   "cell_type": "code",
   "execution_count": 73,
   "id": "44d135b7-f2d6-49d9-80f2-e861d993f0fa",
   "metadata": {},
   "outputs": [
    {
     "data": {
      "text/plain": [
       "37.5"
      ]
     },
     "execution_count": 73,
     "metadata": {},
     "output_type": "execute_result"
    }
   ],
   "source": [
    "hours = [2, 4, 6, 8, 10]\n",
    "scores = [65, 70, 75, 85, 95]\n",
    "n = len(hours)\n",
    "\n",
    "# Step 1: Calculate means\n",
    "mean_hours = sum(hours) / n\n",
    "mean_scores = sum(scores) / n\n",
    "\n",
    "# Step 2: Compute covariance manually\n",
    "cov = 0\n",
    "for i in range(n):\n",
    "    cov += (hours[i] - mean_hours) * (scores[i] - mean_scores)\n",
    "\n",
    "covariance = cov / (n - 1)\n",
    "covariance"
   ]
  },
  {
   "cell_type": "code",
   "execution_count": null,
   "id": "47655d82-28cc-4482-ba5f-e001e2c2f2da",
   "metadata": {},
   "outputs": [],
   "source": [
    "''' ##  Problem – Manual Correlation Calculation Between Exercise Hours and Stress Level\n",
    "\n",
    "A health researcher is analyzing the relationship between how many hours a person exercises per week and their reported stress level (on a scale of 1–100, where higher is more stress).\n",
    "\n",
    "She collects data from 5 participants:\n",
    "\n",
    "| Person | Exercise_Hours | Stress_Level |\n",
    "|--------|----------------|--------------|\n",
    "| A      | 1              | 85           |\n",
    "| B      | 3              | 75           |\n",
    "| C      | 5              | 60           |\n",
    "| D      | 7              | 55           |\n",
    "| E      | 9              | 40           |\n",
    "\n",
    "---\n",
    "\n",
    "###  Objective\n",
    "\n",
    "Manually compute the **Pearson correlation coefficient** between `Exercise_Hours` and `Stress_Level` without using built-in correlation functions.\n",
    "'''"
   ]
  },
  {
   "cell_type": "code",
   "execution_count": 74,
   "id": "b95274fd-3d7d-4131-b66b-5d07fade250c",
   "metadata": {},
   "outputs": [],
   "source": [
    "# Data\n",
    "exercise = [1, 3, 5, 7, 9]\n",
    "stress = [85, 75, 60, 55, 40]\n",
    "n = len(exercise)"
   ]
  },
  {
   "cell_type": "code",
   "execution_count": 75,
   "id": "04e6ee52-ab9c-44cd-9189-61a8b30939b6",
   "metadata": {},
   "outputs": [],
   "source": [
    "# Step 1: Calculate means\n",
    "mean_exercise = sum(exercise) / n\n",
    "mean_stress = sum(stress) / n"
   ]
  },
  {
   "cell_type": "code",
   "execution_count": 76,
   "id": "e06ad213-4205-42dd-b669-25d71c36a6aa",
   "metadata": {},
   "outputs": [],
   "source": [
    "# Step 2: Calculate numerator and denominators\n",
    "numerator = 0\n",
    "denominator_x = 0\n",
    "denominator_y = 0\n",
    "\n",
    "for i in range(n):\n",
    "    x_diff = exercise[i] - mean_exercise\n",
    "    y_diff = stress[i] - mean_stress\n",
    "    numerator += x_diff * y_diff\n",
    "    denominator_x += x_diff ** 2\n",
    "    denominator_y += y_diff ** 2\n",
    "\n",
    "# Step 3: Correlation\n",
    "correlation = numerator / (denominator_x**0.5 * denominator_y**0.5)"
   ]
  },
  {
   "cell_type": "code",
   "execution_count": 77,
   "id": "6a5812a2-7e60-4c3b-8edb-5a5597b6ae9e",
   "metadata": {},
   "outputs": [
    {
     "data": {
      "text/plain": [
       "-0.9918365981341756"
      ]
     },
     "execution_count": 77,
     "metadata": {},
     "output_type": "execute_result"
    }
   ],
   "source": [
    "correlation"
   ]
  },
  {
   "cell_type": "code",
   "execution_count": null,
   "id": "1902edf9-f464-497c-8fa4-ece698054782",
   "metadata": {},
   "outputs": [],
   "source": []
  }
 ],
 "metadata": {
  "kernelspec": {
   "display_name": "Python 3 (ipykernel)",
   "language": "python",
   "name": "python3"
  },
  "language_info": {
   "codemirror_mode": {
    "name": "ipython",
    "version": 3
   },
   "file_extension": ".py",
   "mimetype": "text/x-python",
   "name": "python",
   "nbconvert_exporter": "python",
   "pygments_lexer": "ipython3",
   "version": "3.11.9"
  }
 },
 "nbformat": 4,
 "nbformat_minor": 5
}
