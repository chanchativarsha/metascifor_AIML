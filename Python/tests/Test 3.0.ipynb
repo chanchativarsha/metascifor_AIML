{
 "cells": [
  {
   "cell_type": "markdown",
   "id": "bdb2ee5e",
   "metadata": {},
   "source": [
    "## Test 3.0\n"
   ]
  },
  {
   "cell_type": "code",
   "execution_count": null,
   "id": "9ea78eeb",
   "metadata": {},
   "outputs": [],
   "source": []
  },
  {
   "cell_type": "raw",
   "id": "f91e1f0a",
   "metadata": {},
   "source": [
    "Write a Python program to check whether a number is even or odd using if-else."
   ]
  },
  {
   "cell_type": "code",
   "execution_count": 1,
   "id": "256980f3",
   "metadata": {},
   "outputs": [
    {
     "name": "stdin",
     "output_type": "stream",
     "text": [
      "Enter a number:  333\n"
     ]
    },
    {
     "name": "stdout",
     "output_type": "stream",
     "text": [
      "the number is odd!\n"
     ]
    }
   ],
   "source": [
    "num = int(input(\"Enter a number: \"))\n",
    "if num % 2 == 0:\n",
    "    print(\"the number is even!\")\n",
    "else:\n",
    "    print(\"the number is odd!\")"
   ]
  },
  {
   "cell_type": "raw",
   "id": "a0e3a554",
   "metadata": {},
   "source": [
    "Write a for loop that prints numbers from 10 to 1 in reverse"
   ]
  },
  {
   "cell_type": "code",
   "execution_count": 2,
   "id": "e9ad4e5d",
   "metadata": {},
   "outputs": [
    {
     "name": "stdout",
     "output_type": "stream",
     "text": [
      "10\n",
      "9\n",
      "8\n",
      "7\n",
      "6\n",
      "5\n",
      "4\n",
      "3\n",
      "2\n",
      "1\n"
     ]
    }
   ],
   "source": [
    "for i in range(10,0,-1):\n",
    "    print(i)"
   ]
  },
  {
   "cell_type": "raw",
   "id": "589596de",
   "metadata": {},
   "source": [
    "Write a while loop that keeps asking the user to input a number until they enter 0."
   ]
  },
  {
   "cell_type": "code",
   "execution_count": 4,
   "id": "b0279e4c",
   "metadata": {},
   "outputs": [
    {
     "name": "stdin",
     "output_type": "stream",
     "text": [
      "enter a number (0 to stop):  1\n",
      "enter a number (0 to stop):  4\n",
      "enter a number (0 to stop):  8\n",
      "enter a number (0 to stop):  0\n"
     ]
    }
   ],
   "source": [
    "num = int(input(\"enter a number (0 to stop): \"))\n",
    "while num !=0:\n",
    "    num = int(input(\"enter a number (0 to stop): \"))"
   ]
  },
  {
   "cell_type": "raw",
   "id": "e17f026e",
   "metadata": {},
   "source": [
    "Write a function that accepts two numbers and returns their sum."
   ]
  },
  {
   "cell_type": "code",
   "execution_count": 6,
   "id": "49132598",
   "metadata": {},
   "outputs": [],
   "source": [
    "def add_numbers(a,b):\n",
    "    return a+b"
   ]
  },
  {
   "cell_type": "code",
   "execution_count": null,
   "id": "cae99b95",
   "metadata": {},
   "outputs": [],
   "source": [
    "What will be the output of this code: print(list(map(lambda x: x*x, [1, 2, 3])))?"
   ]
  },
  {
   "cell_type": "code",
   "execution_count": null,
   "id": "20c6ce60",
   "metadata": {},
   "outputs": [],
   "source": [
    "[1,4,9]"
   ]
  },
  {
   "cell_type": "raw",
   "id": "033b1be4",
   "metadata": {},
   "source": [
    "Use the filter() function to extract only even numbers from a list."
   ]
  },
  {
   "cell_type": "code",
   "execution_count": 7,
   "id": "8716b707",
   "metadata": {},
   "outputs": [
    {
     "name": "stdout",
     "output_type": "stream",
     "text": [
      "[2, 4, 6]\n"
     ]
    }
   ],
   "source": [
    "even_numbers = list(filter(lambda x: x % 2 == 0, [1, 2, 3, 4, 5, 6]))\n",
    "print(even_numbers)"
   ]
  },
  {
   "cell_type": "markdown",
   "id": "f2270173",
   "metadata": {},
   "source": [
    "Explain the purpose of the else block in a try-except-else construct."
   ]
  },
  {
   "cell_type": "code",
   "execution_count": null,
   "id": "c83d36e9",
   "metadata": {},
   "outputs": [],
   "source": [
    "\"try block\" it may raise an exception.\n",
    "\"except block\" if an exception occurs in the try block, this block is executed.\n",
    "\"else block\" this block runs only if the try block completes the successfully, which means no exception is raised."
   ]
  },
  {
   "cell_type": "raw",
   "id": "d72612b0",
   "metadata": {},
   "source": [
    "Write a try-except block to handle division by zero."
   ]
  },
  {
   "cell_type": "code",
   "execution_count": 8,
   "id": "887af7c3",
   "metadata": {},
   "outputs": [
    {
     "name": "stdout",
     "output_type": "stream",
     "text": [
      "Error: Cannot divide by zero.\n"
     ]
    }
   ],
   "source": [
    "try:\n",
    "    numerator = 10\n",
    "    denominator = 0\n",
    "    result = numerator / denominator\n",
    "    print(\"Result:\", result)\n",
    "except ZeroDivisionError:\n",
    "    print(\"Error: Cannot divide by zero.\")"
   ]
  },
  {
   "cell_type": "raw",
   "id": "f13a480f",
   "metadata": {},
   "source": [
    "What is the output of this lambda function? print((lambda x, y: x+y)(5, 3))"
   ]
  },
  {
   "cell_type": "code",
   "execution_count": null,
   "id": "93c08075",
   "metadata": {},
   "outputs": [],
   "source": [
    "8"
   ]
  },
  {
   "cell_type": "raw",
   "id": "bdddf4c4",
   "metadata": {},
   "source": [
    "Define a class named Dog with properties name and breed. Add a method bark()."
   ]
  },
  {
   "cell_type": "code",
   "execution_count": 10,
   "id": "1ebda62c",
   "metadata": {},
   "outputs": [],
   "source": [
    "class Dog:\n",
    "    def __init__(self, name, breed):\n",
    "        self.name = name\n",
    "        self.breed = breed\n",
    "    def bark(self):\n",
    "        print(f\"{self.name} says: Woof!\")"
   ]
  },
  {
   "cell_type": "raw",
   "id": "9223ccfa",
   "metadata": {},
   "source": [
    "Create two objects of the Dog class and call their methods."
   ]
  },
  {
   "cell_type": "code",
   "execution_count": 11,
   "id": "7f66b4ed",
   "metadata": {},
   "outputs": [
    {
     "name": "stdout",
     "output_type": "stream",
     "text": [
      "Max says: Woof!\n",
      "Bella says: Woof!\n"
     ]
    }
   ],
   "source": [
    "class Dog:\n",
    "    def __init__(self, name, breed):\n",
    "        self.name = name\n",
    "        self.breed = breed\n",
    "    def bark(self):\n",
    "        print(f\"{self.name} says: Woof!\")\n",
    "dog1 = Dog(\"Max\", \"Labrador\")\n",
    "dog2 = Dog(\"Bella\", \"Beagle\")\n",
    "dog1.bark()\n",
    "dog2.bark()\n"
   ]
  },
  {
   "cell_type": "raw",
   "id": "46358e90",
   "metadata": {},
   "source": [
    "What is the difference between class variables and instance variables?"
   ]
  },
  {
   "cell_type": "code",
   "execution_count": null,
   "id": "ef9ce8a8",
   "metadata": {},
   "outputs": [],
   "source": [
    "instance variables are defined inside the __init__ method using self and these instance variables are unique to each object(instance) of the class.\n",
    "class variables are defined direclty inside the class, outside any method and shared by all instances of the class."
   ]
  },
  {
   "cell_type": "raw",
   "id": "c3238a89",
   "metadata": {},
   "source": [
    "What will this print: print(\"apple\" if 5 > 3 else \"banana\")?"
   ]
  },
  {
   "cell_type": "code",
   "execution_count": null,
   "id": "2e5cfd9a",
   "metadata": {},
   "outputs": [],
   "source": [
    "apple"
   ]
  },
  {
   "cell_type": "raw",
   "id": "a520dafc",
   "metadata": {},
   "source": [
    "Write a function that accepts a list and returns the list of squares using list comprehension."
   ]
  },
  {
   "cell_type": "code",
   "execution_count": 13,
   "id": "0a6bc8c5",
   "metadata": {},
   "outputs": [],
   "source": [
    "def square_numbers(numbers):\n",
    "    return [x ** 2 for x in numbers]\n"
   ]
  },
  {
   "cell_type": "raw",
   "id": "56654a24",
   "metadata": {},
   "source": [
    "Explain what map() and filter() return when executed."
   ]
  },
  {
   "cell_type": "code",
   "execution_count": null,
   "id": "04642561",
   "metadata": {},
   "outputs": [],
   "source": [
    "1: The map() function applies a given function to all items in an input iterable and returns a new map object, which is an iterator that yields the results of applying the function.\n",
    "2: The filter() function filters out elements from an iterable based on a condition defined by a function. it returns only the elements for which the funstion returns true."
   ]
  },
  {
   "cell_type": "code",
   "execution_count": null,
   "id": "5c3ec24b",
   "metadata": {},
   "outputs": [],
   "source": []
  },
  {
   "cell_type": "markdown",
   "id": "d1b7d7c8",
   "metadata": {},
   "source": [
    "### Numpy"
   ]
  },
  {
   "cell_type": "raw",
   "id": "d18477a9",
   "metadata": {},
   "source": [
    "Create a 3x3 matrix using np.random.randint(0, 10, (3, 3))."
   ]
  },
  {
   "cell_type": "code",
   "execution_count": 14,
   "id": "a0324c7e",
   "metadata": {},
   "outputs": [
    {
     "name": "stdout",
     "output_type": "stream",
     "text": [
      "[[3 5 7]\n",
      " [6 2 6]\n",
      " [9 6 6]]\n"
     ]
    }
   ],
   "source": [
    "import numpy as np\n",
    "matrix = np.random.randint(0, 10, (3, 3))\n",
    "print(matrix)"
   ]
  },
  {
   "cell_type": "raw",
   "id": "68d9a258",
   "metadata": {},
   "source": [
    "Slice the above matrix to extract the first two rows."
   ]
  },
  {
   "cell_type": "code",
   "execution_count": 15,
   "id": "08081bab",
   "metadata": {},
   "outputs": [
    {
     "name": "stdout",
     "output_type": "stream",
     "text": [
      "[[0 7 7]\n",
      " [4 6 8]]\n"
     ]
    }
   ],
   "source": [
    "import numpy as np\n",
    "matrix = np.random.randint(0, 10, (3, 3))\n",
    "sliced_matrix = matrix[:2, :]\n",
    "print(sliced_matrix)\n"
   ]
  },
  {
   "cell_type": "markdown",
   "id": "0030743a",
   "metadata": {},
   "source": [
    "Combine two 3x3 matrices using np.concatenate along axis 0 and axis 1."
   ]
  },
  {
   "cell_type": "code",
   "execution_count": 16,
   "id": "9bbfecf6",
   "metadata": {},
   "outputs": [
    {
     "name": "stdout",
     "output_type": "stream",
     "text": [
      "Matrix 1:\n",
      " [[8 9 6]\n",
      " [4 6 9]\n",
      " [3 4 6]]\n",
      "Matrix 2:\n",
      " [[8 1 2]\n",
      " [5 9 5]\n",
      " [6 9 4]]\n",
      "\n",
      "Combined along axis 0 (vertically):\n",
      " [[8 9 6]\n",
      " [4 6 9]\n",
      " [3 4 6]\n",
      " [8 1 2]\n",
      " [5 9 5]\n",
      " [6 9 4]]\n",
      "\n",
      "Combined along axis 1 (horizontally):\n",
      " [[8 9 6 8 1 2]\n",
      " [4 6 9 5 9 5]\n",
      " [3 4 6 6 9 4]]\n"
     ]
    }
   ],
   "source": [
    "import numpy as np\n",
    "matrix1 = np.random.randint(0, 10, (3, 3))\n",
    "matrix2 = np.random.randint(0, 10, (3, 3))\n",
    "combined_axis_0 = np.concatenate((matrix1, matrix2), axis=0)\n",
    "combined_axis_1 = np.concatenate((matrix1, matrix2), axis=1)\n",
    "print(\"Matrix 1:\\n\", matrix1)\n",
    "print(\"Matrix 2:\\n\", matrix2)\n",
    "print(\"\\nCombined along axis 0 (vertically):\\n\", combined_axis_0)\n",
    "print(\"\\nCombined along axis 1 (horizontally):\\n\", combined_axis_1)\n"
   ]
  },
  {
   "cell_type": "raw",
   "id": "2db85140",
   "metadata": {},
   "source": [
    "Perform element-wise addition, subtraction, and multiplication of two matrices."
   ]
  },
  {
   "cell_type": "code",
   "execution_count": 17,
   "id": "6f3b90e9",
   "metadata": {},
   "outputs": [
    {
     "name": "stdout",
     "output_type": "stream",
     "text": [
      "Matrix 1:\n",
      " [[4 8]\n",
      " [0 4]]\n",
      "Matrix 2:\n",
      " [[8 8]\n",
      " [6 5]]\n",
      "Dot Product:\n",
      " [[80 72]\n",
      " [24 20]]\n"
     ]
    }
   ],
   "source": [
    "import numpy as np\n",
    "\n",
    "matrix1 = np.random.randint(0, 10, (2, 2))\n",
    "matrix2 = np.random.randint(0, 10, (2, 2))\n",
    "dot_product = np.dot(matrix1, matrix2)\n",
    "print(\"Matrix 1:\\n\", matrix1)\n",
    "print(\"Matrix 2:\\n\", matrix2)\n",
    "print(\"Dot Product:\\n\", dot_product)\n"
   ]
  },
  {
   "cell_type": "raw",
   "id": "5acf9813",
   "metadata": {},
   "source": [
    "Demonstrate broadcasting by adding a 1D array to a 2D array."
   ]
  },
  {
   "cell_type": "code",
   "execution_count": 19,
   "id": "97985e99",
   "metadata": {},
   "outputs": [
    {
     "name": "stdout",
     "output_type": "stream",
     "text": [
      "2D Array:\n",
      " [[8 3 5]\n",
      " [2 8 1]\n",
      " [4 3 5]]\n",
      "1D Array:\n",
      " [1 2 3]\n",
      "Result of Broadcasting:\n",
      " [[ 9  5  8]\n",
      " [ 3 10  4]\n",
      " [ 5  5  8]]\n"
     ]
    }
   ],
   "source": [
    "import numpy as np\n",
    "\n",
    "array_2D = np.random.randint(1, 10, (3, 3))\n",
    "array_1D = np.array([1, 2, 3])\n",
    "result = array_2D + array_1D\n",
    "print(\"2D Array:\\n\", array_2D)\n",
    "print(\"1D Array:\\n\", array_1D)\n",
    "print(\"Result of Broadcasting:\\n\", result)\n"
   ]
  },
  {
   "cell_type": "raw",
   "id": "d4a90b42",
   "metadata": {},
   "source": [
    "Use np.clip to limit values in a matrix to a minimum of 2 and maximum of 8."
   ]
  },
  {
   "cell_type": "code",
   "execution_count": 20,
   "id": "6d56ccb1",
   "metadata": {},
   "outputs": [
    {
     "name": "stdout",
     "output_type": "stream",
     "text": [
      "Original Matrix:\n",
      "[[ 1  5  9]\n",
      " [ 3  8 12]\n",
      " [ 0  7  6]]\n",
      "\n",
      "Clipped Matrix (values between 2 and 8):\n",
      "[[2 5 8]\n",
      " [3 8 8]\n",
      " [2 7 6]]\n"
     ]
    }
   ],
   "source": [
    "import numpy as np\n",
    "\n",
    "matrix = np.array([[1, 5, 9],\n",
    "                   [3, 8, 12],\n",
    "                   [0, 7, 6]])\n",
    "clipped_matrix = np.clip(matrix, 2, 8)\n",
    "\n",
    "print(\"Original Matrix:\")\n",
    "print(matrix)\n",
    "print(\"\\nClipped Matrix (values between 2 and 8):\")\n",
    "print(clipped_matrix)\n"
   ]
  },
  {
   "cell_type": "raw",
   "id": "4a1ae5f5",
   "metadata": {},
   "source": [
    "Use np.ceil on an array of floating-point numbers [1.2, 2.5, 3.8]."
   ]
  },
  {
   "cell_type": "code",
   "execution_count": 21,
   "id": "e94a509e",
   "metadata": {},
   "outputs": [
    {
     "name": "stdout",
     "output_type": "stream",
     "text": [
      "Original Array: [1.2 2.5 3.8]\n",
      "Ceiling Array: [2. 3. 4.]\n"
     ]
    }
   ],
   "source": [
    "import numpy as np\n",
    "\n",
    "arr = np.array([1.2, 2.5, 3.8])\n",
    "ceil_arr = np.ceil(arr)\n",
    "print(\"Original Array:\", arr)\n",
    "print(\"Ceiling Array:\", ceil_arr)"
   ]
  },
  {
   "cell_type": "raw",
   "id": "ec39504d",
   "metadata": {},
   "source": [
    "Use np.where to replace all elements greater than 5 with 100 in a given array."
   ]
  },
  {
   "cell_type": "code",
   "execution_count": 22,
   "id": "61df0ab6",
   "metadata": {},
   "outputs": [
    {
     "name": "stdout",
     "output_type": "stream",
     "text": [
      "Original Array: [2 6 3 8 1 5 7]\n",
      "Modified Array: [  2 100   3 100   1   5 100]\n"
     ]
    }
   ],
   "source": [
    "import numpy as np\n",
    "\n",
    "arr = np.array([2, 6, 3, 8, 1, 5, 7])\n",
    "modified_arr = np.where(arr > 5, 100, arr)\n",
    "\n",
    "print(\"Original Array:\", arr)\n",
    "print(\"Modified Array:\", modified_arr)\n"
   ]
  },
  {
   "cell_type": "raw",
   "id": "1d797f53",
   "metadata": {},
   "source": [
    "Create two 2x2 matrices and compute their dot product."
   ]
  },
  {
   "cell_type": "code",
   "execution_count": 23,
   "id": "987a6a84",
   "metadata": {},
   "outputs": [
    {
     "name": "stdout",
     "output_type": "stream",
     "text": [
      "Matrix A:\n",
      "[[1 2]\n",
      " [3 4]]\n",
      "\n",
      "Matrix B:\n",
      "[[5 6]\n",
      " [7 8]]\n",
      "\n",
      "Dot Product of A and B:\n",
      "[[19 22]\n",
      " [43 50]]\n"
     ]
    }
   ],
   "source": [
    "import numpy as np\n",
    "A = np.array([[1, 2],\n",
    "              [3, 4]])\n",
    "\n",
    "B = np.array([[5, 6],\n",
    "              [7, 8]])\n",
    "dot_product = np.dot(A, B)\n",
    "\n",
    "print(\"Matrix A:\")\n",
    "print(A)\n",
    "\n",
    "print(\"\\nMatrix B:\")\n",
    "print(B)\n",
    "\n",
    "print(\"\\nDot Product of A and B:\")\n",
    "print(dot_product)\n"
   ]
  },
  {
   "cell_type": "raw",
   "id": "8b1747c5",
   "metadata": {},
   "source": [
    "What is the difference between np.array([1, 2, 3]) and np.array([[1, 2, 3]])?"
   ]
  },
  {
   "cell_type": "code",
   "execution_count": null,
   "id": "101e2e98",
   "metadata": {},
   "outputs": [],
   "source": [
    "The difference between np.array([1, 2, 3]) and np.array([[1, 2, 3]]) is in the shape of the arrays they create. the np.array([1,2,3]) this create a 1-dimentional array where as np.array([1,2,3]) this creates a 2-dimensional array where there is 1 row and 3 columns."
   ]
  },
  {
   "cell_type": "raw",
   "id": "f99a5cea",
   "metadata": {},
   "source": []
  },
  {
   "cell_type": "code",
   "execution_count": null,
   "id": "b1389a7c",
   "metadata": {},
   "outputs": [],
   "source": []
  }
 ],
 "metadata": {
  "kernelspec": {
   "display_name": "Python 3 (ipykernel)",
   "language": "python",
   "name": "python3"
  },
  "language_info": {
   "codemirror_mode": {
    "name": "ipython",
    "version": 3
   },
   "file_extension": ".py",
   "mimetype": "text/x-python",
   "name": "python",
   "nbconvert_exporter": "python",
   "pygments_lexer": "ipython3",
   "version": "3.11.9"
  }
 },
 "nbformat": 4,
 "nbformat_minor": 5
}
