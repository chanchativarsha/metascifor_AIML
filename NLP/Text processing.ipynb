{
 "cells": [
  {
   "cell_type": "code",
   "execution_count": 2,
   "id": "a75ad89d-29ea-464a-8464-c532c073bc02",
   "metadata": {},
   "outputs": [],
   "source": [
    "#TEXT PREPROCESSING \n",
    "#importing thr necessary libraries\n",
    "import nltk\n",
    "import string\n",
    "import re"
   ]
  },
  {
   "cell_type": "code",
   "execution_count": 4,
   "id": "60756cd5-2089-4dd3-baf6-5a5f0cabba85",
   "metadata": {},
   "outputs": [
    {
     "data": {
      "text/plain": [
       "'weather is too cloudy.'"
      ]
     },
     "execution_count": 4,
     "metadata": {},
     "output_type": "execute_result"
    }
   ],
   "source": [
    "#Text Lowercase\n",
    "\n",
    "def lowercase_text(text):\n",
    "    return text.lower()\n",
    "input_str = \"WEATHER IS TOO CLOUDY.\"\n",
    "lowercase_text(input_str)"
   ]
  },
  {
   "cell_type": "code",
   "execution_count": 5,
   "id": "65cbeb8b-714b-4374-b95b-563c06b2d0cc",
   "metadata": {},
   "outputs": [
    {
     "data": {
      "text/plain": [
       "'i have  candies'"
      ]
     },
     "execution_count": 5,
     "metadata": {},
     "output_type": "execute_result"
    }
   ],
   "source": [
    "#REMOVE NUMBERS\n",
    "def remove_num(text):\n",
    "    result = re.sub(r'\\d+', '', text)\n",
    "    return result\n",
    "\n",
    "input_s = \"i have 10 candies\"\n",
    "remove_num(input_s)"
   ]
  },
  {
   "cell_type": "code",
   "execution_count": 8,
   "id": "fd9b46b8-c403-4ceb-8b85-a1b0116cec8c",
   "metadata": {},
   "outputs": [
    {
     "data": {
      "text/plain": [
       "'Hey Are you excited After a week we will be in Shimla'"
      ]
     },
     "execution_count": 8,
     "metadata": {},
     "output_type": "execute_result"
    }
   ],
   "source": [
    "#REMOVE PUNCTUATION\n",
    "def rem_punct(text):\n",
    "    translator = str.maketrans('', '', string.punctuation)\n",
    "    return text.translate(translator)\n",
    "\n",
    "input_str = \"Hey, Are you excited??, After a week, we will be in Shimla!!!\"\n",
    "rem_punct(input_str)"
   ]
  },
  {
   "cell_type": "code",
   "execution_count": 9,
   "id": "fca16eb4-a90e-4f7f-86eb-172d3b05ffb7",
   "metadata": {},
   "outputs": [
    {
     "data": {
      "text/plain": [
       "'!\"#$%&\\'()*+,-./:;<=>?@[\\\\]^_`{|}~'"
      ]
     },
     "execution_count": 9,
     "metadata": {},
     "output_type": "execute_result"
    }
   ],
   "source": [
    "string.punctuation"
   ]
  },
  {
   "cell_type": "code",
   "execution_count": 10,
   "id": "07932c57-eb48-46d1-90e2-a2f48d0362b5",
   "metadata": {},
   "outputs": [
    {
     "name": "stderr",
     "output_type": "stream",
     "text": [
      "[nltk_data] Downloading package stopwords to\n",
      "[nltk_data]     C:\\Users\\cmgou\\AppData\\Roaming\\nltk_data...\n",
      "[nltk_data]   Unzipping corpora\\stopwords.zip.\n",
      "[nltk_data] Downloading package punkt to\n",
      "[nltk_data]     C:\\Users\\cmgou\\AppData\\Roaming\\nltk_data...\n",
      "[nltk_data]   Package punkt is already up-to-date!\n"
     ]
    },
    {
     "data": {
      "text/plain": [
       "True"
      ]
     },
     "execution_count": 10,
     "metadata": {},
     "output_type": "execute_result"
    }
   ],
   "source": [
    "#REMOVE DEFAULT STOPWORDS\n",
    "from nltk.corpus import stopwords\n",
    "from nltk.tokenize import word_tokenize\n",
    "\n",
    "nltk.download('stopwords')\n",
    "nltk.download('punkt')"
   ]
  },
  {
   "cell_type": "code",
   "execution_count": 12,
   "id": "3ad69427-5776-4849-ac8c-0f4dcd8ba702",
   "metadata": {},
   "outputs": [
    {
     "name": "stdout",
     "output_type": "stream",
     "text": [
      "['Data', 'new', 'oil', 'A.I', 'last', 'invention']\n"
     ]
    }
   ],
   "source": [
    "from nltk.corpus import stopwords\n",
    "from nltk.tokenize import word_tokenize\n",
    "import string\n",
    "\n",
    "def rem_stopwords(text):\n",
    "    stop_words = set(stopwords.words(\"english\"))\n",
    "    word_tokens = word_tokenize(text)\n",
    "    \n",
    "    # Remove punctuation first\n",
    "    filtered_text = [word for word in word_tokens if word not in string.punctuation]\n",
    "    # Remove stopwords\n",
    "    filtered_text = [word for word in filtered_text if word.lower() not in stop_words]\n",
    "    \n",
    "    return filtered_text\n",
    "\n",
    "ex_text = \"Data is the new oil. A.I is the last invention\"\n",
    "print(rem_stopwords(ex_text))\n"
   ]
  },
  {
   "cell_type": "code",
   "execution_count": 13,
   "id": "88542602-b11b-4897-b9f2-b6a5dea84810",
   "metadata": {},
   "outputs": [],
   "source": [
    "#STEMMING\n",
    "#importing nltk's porter stemmer\n",
    "from nltk.stem.porter import PorterStemmer\n",
    "from nltk.tokenize import word_tokenize\n",
    "stem1 = PorterStemmer()\n",
    "\n",
    "#stem words in the list of tokenised words\n",
    "def s_words(text):\n",
    "    word_tokens = word_tokenize(text)\n",
    "    stems = [stem1.stem(word) for word in word_tokens]\n",
    "    return stems"
   ]
  },
  {
   "cell_type": "code",
   "execution_count": 14,
   "id": "aa3ba8a3-1ce3-4ab4-a3ce-a23ed0ef3ea6",
   "metadata": {},
   "outputs": [
    {
     "data": {
      "text/plain": [
       "['data',\n",
       " 'is',\n",
       " 'the',\n",
       " 'new',\n",
       " 'revolut',\n",
       " 'in',\n",
       " 'the',\n",
       " 'world',\n",
       " ',',\n",
       " 'in',\n",
       " 'a',\n",
       " 'day',\n",
       " 'one',\n",
       " 'individu',\n",
       " 'would',\n",
       " 'gener',\n",
       " 'terabyt',\n",
       " 'of',\n",
       " 'data']"
      ]
     },
     "execution_count": 14,
     "metadata": {},
     "output_type": "execute_result"
    }
   ],
   "source": [
    "#stem words in the list of tokenised words\n",
    "def s_words(text):\n",
    "    word_toekns = word_tokenize(text)\n",
    "    stems = [stem1.stem(word) for word in word_toekns]\n",
    "    return stems\n",
    "\n",
    "text = 'Data is the new revolution in the world, in a day one individual would generate terabytes of data'\n",
    "s_words(text)"
   ]
  },
  {
   "cell_type": "code",
   "execution_count": 18,
   "id": "22551a06-e5fb-40af-ab38-75a328cffd5f",
   "metadata": {},
   "outputs": [
    {
     "name": "stderr",
     "output_type": "stream",
     "text": [
      "[nltk_data] Downloading package wordnet to\n",
      "[nltk_data]     C:\\Users\\cmgou\\AppData\\Roaming\\nltk_data...\n",
      "[nltk_data]   Package wordnet is already up-to-date!\n"
     ]
    }
   ],
   "source": [
    "#LEMMATIZATION\n",
    "from nltk.stem import wordnet\n",
    "from nltk.tokenize import word_tokenize\n",
    "lemma = wordnet.WordNetLemmatizer()\n",
    "nltk.download('wordnet')\n",
    "#lemmatizing strings\n",
    "\n",
    "def lemmatize_word(text):\n",
    "    word_tokens = word_tokenize(text)\n",
    "    #provide context i.e. POS\n",
    "    lemmas = [lemma.lemmatize(word, pos ='v') for word in word_tokens]\n",
    "    return lemmas"
   ]
  },
  {
   "cell_type": "code",
   "execution_count": 19,
   "id": "bd68329d-3613-415c-9480-7e3fe15b97b6",
   "metadata": {},
   "outputs": [
    {
     "data": {
      "text/plain": [
       "['data',\n",
       " 'be',\n",
       " 'the',\n",
       " 'new',\n",
       " 'revolution',\n",
       " 'in',\n",
       " 'the',\n",
       " 'world',\n",
       " ',',\n",
       " 'in',\n",
       " 'a',\n",
       " 'day',\n",
       " 'one',\n",
       " 'individual',\n",
       " 'would',\n",
       " 'generate',\n",
       " 'terabytes',\n",
       " 'of',\n",
       " 'data']"
      ]
     },
     "execution_count": 19,
     "metadata": {},
     "output_type": "execute_result"
    }
   ],
   "source": [
    "def lemmatize_Word(text):\n",
    "    word_tokens = word_tokenize(text)\n",
    "    #provide context i.e. POS\n",
    "    lemmas = [lemma.lemmatize(word, pos ='v') for word in word_tokens]\n",
    "    return lemmas\n",
    "\n",
    "text = 'data is the new revolution in the world, in a day one individual would generate terabytes of data'\n",
    "lemmatize_word(text)"
   ]
  },
  {
   "cell_type": "code",
   "execution_count": 23,
   "id": "83dc2251-b0c0-4c40-b2a6-2741c6c09234",
   "metadata": {},
   "outputs": [
    {
     "name": "stderr",
     "output_type": "stream",
     "text": [
      "[nltk_data] Downloading package averaged_perceptron_tagger to\n",
      "[nltk_data]     C:\\Users\\cmgou\\AppData\\Roaming\\nltk_data...\n",
      "[nltk_data]   Unzipping taggers\\averaged_perceptron_tagger.zip.\n"
     ]
    },
    {
     "data": {
      "text/plain": [
       "[('Are', 'NNP'),\n",
       " ('you', 'PRP'),\n",
       " ('afraid', 'IN'),\n",
       " ('of', 'IN'),\n",
       " ('something', 'NN'),\n",
       " ('?', '.')]"
      ]
     },
     "execution_count": 23,
     "metadata": {},
     "output_type": "execute_result"
    }
   ],
   "source": [
    "#PARTS OF SPEECH (POS) TAGGING\n",
    "\n",
    "#importing tokenize library\n",
    "from nltk.tokenize import word_tokenize\n",
    "from nltk import pos_tag\n",
    "nltk.download('averaged_perceptron_tagger')\n",
    "\n",
    "#convert text into word_tokens with their tags\n",
    "def pos_tagg(text):\n",
    "    word_tokens = word_tokenize(text)\n",
    "    return pos_tag(word_tokens)\n",
    "\n",
    "pos_tagg('Are you afraid of something?')"
   ]
  },
  {
   "cell_type": "code",
   "execution_count": 25,
   "id": "17e361c3-dc5a-4344-abe4-6eafb3e67f42",
   "metadata": {},
   "outputs": [
    {
     "name": "stderr",
     "output_type": "stream",
     "text": [
      "[nltk_data] Downloading package tagsets to\n",
      "[nltk_data]     C:\\Users\\cmgou\\AppData\\Roaming\\nltk_data...\n"
     ]
    },
    {
     "name": "stdout",
     "output_type": "stream",
     "text": [
      "PRP: pronoun, personal\n",
      "    hers herself him himself hisself it itself me myself one oneself ours\n",
      "    ourselves ownself self she thee theirs them themselves they thou thy us\n"
     ]
    },
    {
     "name": "stderr",
     "output_type": "stream",
     "text": [
      "[nltk_data]   Unzipping help\\tagsets.zip.\n"
     ]
    }
   ],
   "source": [
    "#downloading the tagset\n",
    "nltk.download('tagsets')\n",
    "\n",
    "# extract information about the tag\n",
    "nltk.help.upenn_tagset('PRP')"
   ]
  },
  {
   "cell_type": "code",
   "execution_count": 34,
   "id": "c8472575-6b3f-4b24-8f8d-7150f9738ea3",
   "metadata": {},
   "outputs": [
    {
     "name": "stdout",
     "output_type": "stream",
     "text": [
      "(S\n",
      "  the/DT\n",
      "  little/JJ\n",
      "  red/JJ\n",
      "  (NP parrot/NN)\n",
      "  is/VBZ\n",
      "  flying/VBG\n",
      "  in/IN\n",
      "  (NP the/DT sky/NN))\n",
      "(NP parrot/NN)\n",
      "(NP the/DT sky/NN)\n"
     ]
    }
   ],
   "source": [
    "#CHUNCKING\n",
    "#importing libraries\n",
    "\n",
    "from nltk.tokenize import word_tokenize\n",
    "from nltk import pos_tag\n",
    "\n",
    "#here we define chunking function with text and regular\n",
    "#expressions representing grammar as parameter I\n",
    "\n",
    "def chunking (text, grammar):\n",
    "    word_tokens = word_tokenize (text)\n",
    "    #label words with pos\n",
    "    word_pos = pos_tag(word_tokens)\n",
    "    #create chunk parser using grammar\n",
    "    chunkParser = nltk.RegexpParser(grammar)\n",
    "    # test it on the list of word tokens with tagged pos\n",
    "    tree = chunkParser.parse(word_pos)\n",
    "    for subtree in tree.subtrees():\n",
    "        print(subtree)\n",
    "        #tree.draw()\n",
    "sentence = 'the little red parrot is flying in the sky'\n",
    "grammar = \"NP: {<DT>?<]]>*<NN>}\"\n",
    "chunking(sentence, grammar)\n",
    "\n"
   ]
  },
  {
   "cell_type": "code",
   "execution_count": 36,
   "id": "72c512ce-71e8-4db1-8259-4ad5a19160da",
   "metadata": {},
   "outputs": [
    {
     "name": "stdout",
     "output_type": "stream",
     "text": [
      "(S\n",
      "  (PERSON Brain/NNP)\n",
      "  (PERSON Lara/NNP)\n",
      "  scored/VBD\n",
      "  the/DT\n",
      "  highest/JJS\n",
      "  400/CD\n",
      "  runs/NNS\n",
      "  in/IN\n",
      "  a/DT\n",
      "  test/NN\n",
      "  match/NN\n",
      "  which/WDT\n",
      "  played/VBD\n",
      "  in/IN\n",
      "  between/IN\n",
      "  (ORGANIZATION WI/NNP)\n",
      "  and/CC\n",
      "  (GPE England/NNP)\n",
      "  ./.)\n"
     ]
    },
    {
     "name": "stderr",
     "output_type": "stream",
     "text": [
      "[nltk_data] Downloading package maxent_ne_chunker to\n",
      "[nltk_data]     C:\\Users\\cmgou\\AppData\\Roaming\\nltk_data...\n",
      "[nltk_data]   Package maxent_ne_chunker is already up-to-date!\n",
      "[nltk_data] Downloading package words to\n",
      "[nltk_data]     C:\\Users\\cmgou\\AppData\\Roaming\\nltk_data...\n",
      "[nltk_data]   Package words is already up-to-date!\n"
     ]
    }
   ],
   "source": [
    "#NAME ENTITY RECOGNITION\n",
    "\n",
    "# Importing tokenization and chunk\n",
    "from nltk.tokenize import word_tokenize\n",
    "from nltk import pos_tag, ne_chunk\n",
    "import nltk\n",
    "\n",
    "# Downloading required NLTK resources\n",
    "nltk.download('maxent_ne_chunker')\n",
    "nltk.download('words')\n",
    "\n",
    "\n",
    "def ner(text):\n",
    "    # Tokenize the text\n",
    "    word_tokens = word_tokenize(text)\n",
    "    \n",
    "    # POS tagging of words\n",
    "    word_pos = pos_tag(word_tokens)\n",
    "    \n",
    "    # Tree of word entities\n",
    "    print(ne_chunk(word_pos))\n",
    "\n",
    "# Example text\n",
    "text = 'Brain Lara scored the highest 400 runs in a test match which played in between WI and England.'\n",
    "ner(text)\n"
   ]
  },
  {
   "cell_type": "code",
   "execution_count": 40,
   "id": "f7e5838a-08e5-4074-8e4e-92e398a3807a",
   "metadata": {},
   "outputs": [
    {
     "name": "stdout",
     "output_type": "stream",
     "text": [
      "[]\n"
     ]
    }
   ],
   "source": [
    "#REGEX \n",
    "\n",
    "import re\n",
    "sent = \"dataset, Data is a new fuel\"\n",
    "r2 = re.findall(r\"^\\W+\",sent)\n",
    "print(r2)"
   ]
  },
  {
   "cell_type": "code",
   "execution_count": 41,
   "id": "84234d2f-a808-486d-8d8a-29f19db7d71c",
   "metadata": {},
   "outputs": [
    {
     "name": "stdout",
     "output_type": "stream",
     "text": [
      "['We', 'splitted', 'this', 'sentence']\n"
     ]
    }
   ],
   "source": [
    "#examples of \\s expression in re.split function\n",
    "\n",
    "import re\n",
    "print((re.split(r'\\s','We splitted this sentence')))"
   ]
  },
  {
   "cell_type": "code",
   "execution_count": 42,
   "id": "29320fb0-46e6-46b1-8e54-3b64a32d1152",
   "metadata": {},
   "outputs": [
    {
     "name": "stdout",
     "output_type": "stream",
     "text": [
      "['We ', 'plitted thi', ' ', 'entence']\n"
     ]
    }
   ],
   "source": [
    "import re\n",
    "\n",
    "print((re.split(r's','We splitted this sentence')))"
   ]
  },
  {
   "cell_type": "code",
   "execution_count": 45,
   "id": "e912614f-ffb1-4538-96f8-24f4ae815a34",
   "metadata": {},
   "outputs": [
    {
     "name": "stdout",
     "output_type": "stream",
     "text": [
      "('icecream', 'images')\n"
     ]
    }
   ],
   "source": [
    "#USE REGEX METHODS\n",
    "#re.match()\n",
    "#re.search()\n",
    "#re.findall()\n",
    "\n",
    "import re\n",
    "\n",
    "lists = ['icecream images', 'i immitated', 'inner peace']\n",
    "\n",
    "for i in lists:\n",
    "    q = re.match(r\"(i\\w+)\\W(i\\w+)\", i)  # Match two words starting with 'i'\n",
    "    if q:  \n",
    "        print(q.groups())\n"
   ]
  },
  {
   "cell_type": "code",
   "execution_count": 46,
   "id": "c9ea339d-6490-474b-b544-dfe0788ea9c9",
   "metadata": {},
   "outputs": [
    {
     "name": "stdout",
     "output_type": "stream",
     "text": [
      "You're looking for 'playing' in 'Raju is playing outside.' Found match!\n",
      "You're looking for 'dataset' in 'Raju is playing outside.' no match found!\n"
     ]
    }
   ],
   "source": [
    "#re.search\n",
    "\n",
    "import re\n",
    "\n",
    "pattern = [\"playing\", \"dataset\"]\n",
    "text = \"Raju is playing outside.\"\n",
    "\n",
    "for p in pattern:\n",
    "    print(\"You're looking for '%s' in '%s'\" % (p, text), end=' ')\n",
    "    \n",
    "    if re.search(p, text):\n",
    "        print('Found match!')\n",
    "    else:\n",
    "        print('no match found!')\n"
   ]
  },
  {
   "cell_type": "code",
   "execution_count": 47,
   "id": "4f501b58-3466-4367-b88c-d5363ceaa5a3",
   "metadata": {},
   "outputs": [
    {
     "name": "stdout",
     "output_type": "stream",
     "text": [
      "Abc@gmail.com\n",
      "XYX@gmail.com\n",
      "lmn@gmail.com\n",
      "efg@gmail.com\n"
     ]
    }
   ],
   "source": [
    "#re.findall\n",
    "import re\n",
    "\n",
    "kgf = \"Abc@gmail.com, XYX@gmail.com, lmn@gmail.com, efg@gmail.com\"\n",
    "\n",
    "emails = re.findall(r'[\\w\\.-]+@[\\w\\.-]+', kgf)\n",
    "\n",
    "for e in emails:\n",
    "    print(e)\n",
    "\n"
   ]
  },
  {
   "cell_type": "code",
   "execution_count": 49,
   "id": "482f35ca-494b-4fac-ae6f-a230df2de52f",
   "metadata": {},
   "outputs": [
    {
     "name": "stdout",
     "output_type": "stream",
     "text": [
      "Requirement already satisfied: nltk in c:\\users\\cmgou\\appdata\\roaming\\python\\python311\\site-packages (3.8.1)\n",
      "Collecting nltk\n",
      "  Downloading nltk-3.9.1-py3-none-any.whl.metadata (2.9 kB)\n",
      "Requirement already satisfied: click in c:\\users\\cmgou\\appdata\\roaming\\python\\python311\\site-packages (from nltk) (8.1.3)\n",
      "Requirement already satisfied: joblib in c:\\users\\cmgou\\appdata\\roaming\\python\\python311\\site-packages (from nltk) (1.3.2)\n",
      "Requirement already satisfied: regex>=2021.8.3 in c:\\users\\cmgou\\appdata\\roaming\\python\\python311\\site-packages (from nltk) (2023.12.25)\n",
      "Requirement already satisfied: tqdm in c:\\users\\cmgou\\appdata\\roaming\\python\\python311\\site-packages (from nltk) (4.66.1)\n",
      "Requirement already satisfied: colorama in c:\\users\\cmgou\\appdata\\roaming\\python\\python311\\site-packages (from click->nltk) (0.4.6)\n",
      "Downloading nltk-3.9.1-py3-none-any.whl (1.5 MB)\n",
      "   ---------------------------------------- 0.0/1.5 MB ? eta -:--:--\n",
      "   ---------------------------------------- 0.0/1.5 MB ? eta -:--:--\n",
      "   ---------------------------------------- 0.0/1.5 MB ? eta -:--:--\n",
      "   ---------------------------------------- 0.0/1.5 MB ? eta -:--:--\n",
      "   ------ --------------------------------- 0.3/1.5 MB ? eta -:--:--\n",
      "   ------ --------------------------------- 0.3/1.5 MB ? eta -:--:--\n",
      "   ------ --------------------------------- 0.3/1.5 MB ? eta -:--:--\n",
      "   ------ --------------------------------- 0.3/1.5 MB ? eta -:--:--\n",
      "   ------------- -------------------------- 0.5/1.5 MB 328.9 kB/s eta 0:00:03\n",
      "   ------------- -------------------------- 0.5/1.5 MB 328.9 kB/s eta 0:00:03\n",
      "   -------------------- ------------------- 0.8/1.5 MB 409.3 kB/s eta 0:00:02\n",
      "   -------------------- ------------------- 0.8/1.5 MB 409.3 kB/s eta 0:00:02\n",
      "   -------------------- ------------------- 0.8/1.5 MB 409.3 kB/s eta 0:00:02\n",
      "   --------------------------- ------------ 1.0/1.5 MB 402.7 kB/s eta 0:00:02\n",
      "   --------------------------- ------------ 1.0/1.5 MB 402.7 kB/s eta 0:00:02\n",
      "   ---------------------------------- ----- 1.3/1.5 MB 444.5 kB/s eta 0:00:01\n",
      "   ---------------------------------------- 1.5/1.5 MB 497.3 kB/s eta 0:00:00\n",
      "Installing collected packages: nltk\n",
      "  Attempting uninstall: nltk\n",
      "    Found existing installation: nltk 3.8.1\n",
      "    Uninstalling nltk-3.8.1:\n",
      "      Successfully uninstalled nltk-3.8.1\n",
      "Successfully installed nltk-3.9.1\n"
     ]
    },
    {
     "name": "stderr",
     "output_type": "stream",
     "text": [
      "DEPRECATION: Loading egg at c:\\program files\\python311\\lib\\site-packages\\vboxapi-1.0-py3.11.egg is deprecated. pip 25.1 will enforce this behaviour change. A possible replacement is to use pip for package installation. Discussion can be found at https://github.com/pypa/pip/issues/12330\n",
      "\n",
      "[notice] A new release of pip is available: 25.0.1 -> 25.1.1\n",
      "[notice] To update, run: python.exe -m pip install --upgrade pip\n"
     ]
    }
   ],
   "source": [
    "#TEXT NORMALIZATION\n",
    "#TOKENIZERS\n",
    "!pip install --user -U nltk"
   ]
  },
  {
   "cell_type": "code",
   "execution_count": 50,
   "id": "7643034e-dc56-4d61-a610-1140a8341d92",
   "metadata": {},
   "outputs": [],
   "source": [
    "from nltk.tokenize.regexp import WhitespaceTokenizer\n",
    "m = \"' There is no need to panic. We need to work together, take small yet important measure to ensure self:protect.' \""
   ]
  },
  {
   "cell_type": "code",
   "execution_count": 51,
   "id": "96b1f137-1f36-4760-a59e-2eb95fad1bcd",
   "metadata": {},
   "outputs": [
    {
     "data": {
      "text/plain": [
       "['Founded',\n",
       " 'in',\n",
       " '2002',\n",
       " ',',\n",
       " 'SpaceX',\n",
       " \"'s\",\n",
       " 'mission',\n",
       " 'is',\n",
       " 'to',\n",
       " 'enable',\n",
       " 'humans',\n",
       " 'to',\n",
       " 'become',\n",
       " 'a',\n",
       " 'spacefaring',\n",
       " 'civilization']"
      ]
     },
     "execution_count": 51,
     "metadata": {},
     "output_type": "execute_result"
    }
   ],
   "source": [
    "from nltk.tokenize import word_tokenize\n",
    "\n",
    "text = \"\"\"Founded in 2002, SpaceX's mission is to enable humans to become a spacefaring civilization\"\"\"\n",
    "word_tokenize(text)"
   ]
  },
  {
   "cell_type": "code",
   "execution_count": 52,
   "id": "fca3d5eb-0c56-4aaf-bab2-2ba63fe346b3",
   "metadata": {},
   "outputs": [
    {
     "name": "stdout",
     "output_type": "stream",
     "text": [
      "20\n"
     ]
    }
   ],
   "source": [
    "tokens = WhitespaceTokenizer().tokenize(m)\n",
    "print(len(tokens))"
   ]
  },
  {
   "cell_type": "code",
   "execution_count": 53,
   "id": "25189930-74b4-4c3e-944f-4cd9e905389b",
   "metadata": {},
   "outputs": [
    {
     "data": {
      "text/plain": [
       "[\"'\",\n",
       " 'There',\n",
       " 'is',\n",
       " 'no',\n",
       " 'need',\n",
       " 'to',\n",
       " 'panic.',\n",
       " 'We',\n",
       " 'need',\n",
       " 'to',\n",
       " 'work',\n",
       " 'together,',\n",
       " 'take',\n",
       " 'small',\n",
       " 'yet',\n",
       " 'important',\n",
       " 'measure',\n",
       " 'to',\n",
       " 'ensure',\n",
       " \"self:protect.'\"]"
      ]
     },
     "execution_count": 53,
     "metadata": {},
     "output_type": "execute_result"
    }
   ],
   "source": [
    "tokens"
   ]
  },
  {
   "cell_type": "code",
   "execution_count": 54,
   "id": "923a1e84-53bf-49c6-a74c-ea64f8f8ea81",
   "metadata": {},
   "outputs": [
    {
     "name": "stdout",
     "output_type": "stream",
     "text": [
      "20\n"
     ]
    }
   ],
   "source": [
    "my_vocab = set(tokens)\n",
    "print(len(tokens))"
   ]
  },
  {
   "cell_type": "code",
   "execution_count": 55,
   "id": "32afec49-475a-4413-bd82-dc088249e454",
   "metadata": {},
   "outputs": [
    {
     "data": {
      "text/plain": [
       "{\"'\",\n",
       " 'There',\n",
       " 'We',\n",
       " 'ensure',\n",
       " 'important',\n",
       " 'is',\n",
       " 'measure',\n",
       " 'need',\n",
       " 'no',\n",
       " 'panic.',\n",
       " \"self:protect.'\",\n",
       " 'small',\n",
       " 'take',\n",
       " 'to',\n",
       " 'together,',\n",
       " 'work',\n",
       " 'yet'}"
      ]
     },
     "execution_count": 55,
     "metadata": {},
     "output_type": "execute_result"
    }
   ],
   "source": [
    "my_vocab"
   ]
  },
  {
   "cell_type": "code",
   "execution_count": 56,
   "id": "40d351ac-aab3-4aa3-a3ce-3c88f2d13db5",
   "metadata": {},
   "outputs": [],
   "source": [
    "my_st = \"'there is no need to panic. We need to work together, take small yet important measure to ensure.'\""
   ]
  },
  {
   "cell_type": "code",
   "execution_count": 58,
   "id": "1f01b0ed-81cb-421e-ba4a-8f532147c27c",
   "metadata": {},
   "outputs": [],
   "source": [
    "from nltk.tokenize.regexp import WordPunctTokenizer"
   ]
  },
  {
   "cell_type": "code",
   "execution_count": 59,
   "id": "22386ecd-2a24-4b2f-adc3-ba0643f90960",
   "metadata": {},
   "outputs": [
    {
     "name": "stdout",
     "output_type": "stream",
     "text": [
      "22\n"
     ]
    }
   ],
   "source": [
    "m_t = WordPunctTokenizer().tokenize(my_st)\n",
    "print(len(m_t))"
   ]
  },
  {
   "cell_type": "code",
   "execution_count": 60,
   "id": "6937fbe3-5327-455c-b51a-2ae61fa3b089",
   "metadata": {},
   "outputs": [
    {
     "data": {
      "text/plain": [
       "[\"'\",\n",
       " 'there',\n",
       " 'is',\n",
       " 'no',\n",
       " 'need',\n",
       " 'to',\n",
       " 'panic',\n",
       " '.',\n",
       " 'We',\n",
       " 'need',\n",
       " 'to',\n",
       " 'work',\n",
       " 'together',\n",
       " ',',\n",
       " 'take',\n",
       " 'small',\n",
       " 'yet',\n",
       " 'important',\n",
       " 'measure',\n",
       " 'to',\n",
       " 'ensure',\n",
       " \".'\"]"
      ]
     },
     "execution_count": 60,
     "metadata": {},
     "output_type": "execute_result"
    }
   ],
   "source": [
    "m_t"
   ]
  },
  {
   "cell_type": "code",
   "execution_count": 61,
   "id": "79a707f6-d3b9-469e-a168-8127a84cde88",
   "metadata": {},
   "outputs": [
    {
     "name": "stdout",
     "output_type": "stream",
     "text": [
      "19\n"
     ]
    }
   ],
   "source": [
    "my_vocab = set(m_t)\n",
    "print(len(my_vocab))"
   ]
  },
  {
   "cell_type": "code",
   "execution_count": 62,
   "id": "1b3ca450-e319-4bc2-9cfc-7cb1213d44d4",
   "metadata": {},
   "outputs": [
    {
     "data": {
      "text/plain": [
       "{\"'\",\n",
       " ',',\n",
       " '.',\n",
       " \".'\",\n",
       " 'We',\n",
       " 'ensure',\n",
       " 'important',\n",
       " 'is',\n",
       " 'measure',\n",
       " 'need',\n",
       " 'no',\n",
       " 'panic',\n",
       " 'small',\n",
       " 'take',\n",
       " 'there',\n",
       " 'to',\n",
       " 'together',\n",
       " 'work',\n",
       " 'yet'}"
      ]
     },
     "execution_count": 62,
     "metadata": {},
     "output_type": "execute_result"
    }
   ],
   "source": [
    "my_vocab"
   ]
  },
  {
   "cell_type": "code",
   "execution_count": 67,
   "id": "cd79a736-6a51-4da2-b718-4bbbba855a2d",
   "metadata": {},
   "outputs": [
    {
     "data": {
      "text/plain": [
       "[\"Founded in 2002, SpaceX's mission is to enable humans to become a spacefaring civilization.\",\n",
       " 'in 2008, liquid fuel launch vehicle to orbit the earth']"
      ]
     },
     "execution_count": 67,
     "metadata": {},
     "output_type": "execute_result"
    }
   ],
   "source": [
    "from nltk.tokenize import sent_tokenize\n",
    "\n",
    "#sentence tokenization\n",
    "text = \"\"\"Founded in 2002, SpaceX's mission is to enable humans to become a spacefaring civilization. in 2008, liquid fuel launch vehicle to orbit the earth\"\"\"\n",
    "sent_tokenize(text)"
   ]
  },
  {
   "cell_type": "code",
   "execution_count": 71,
   "id": "e5049579-c397-4e4e-b196-c8ad838fc779",
   "metadata": {},
   "outputs": [
    {
     "name": "stdout",
     "output_type": "stream",
     "text": [
      "\n",
      "\n",
      "\n",
      "\n",
      "<FreqDist with 18 samples and 21 outcomes>\n"
     ]
    },
    {
     "name": "stderr",
     "output_type": "stream",
     "text": [
      "[nltk_data] Downloading package gutenberg to\n",
      "[nltk_data]     C:\\Users\\cmgou\\AppData\\Roaming\\nltk_data...\n",
      "[nltk_data]   Package gutenberg is already up-to-date!\n"
     ]
    }
   ],
   "source": [
    "#FREQUENCY DISTRIBUTION\n",
    "\n",
    "import nltk\n",
    "nltk.download('gutenberg')\n",
    "print(\"\\n\\n\\n\")\n",
    "text1 = \"'there is no need to panic. we need to work together, take small yet important measure to ensure'\"\n",
    "freqDist = nltk.FreqDist(word_tokenize(text1))\n",
    "print(freqDist)"
   ]
  },
  {
   "cell_type": "code",
   "execution_count": 72,
   "id": "edea6208-385a-4a6a-a55d-6ebf6f6475a2",
   "metadata": {},
   "outputs": [
    {
     "name": "stdout",
     "output_type": "stream",
     "text": [
      "0\n"
     ]
    }
   ],
   "source": [
    "print(freqDist[\"person\"])"
   ]
  },
  {
   "cell_type": "code",
   "execution_count": 74,
   "id": "9bf947a0-47c9-4149-956a-bc05c9946b7d",
   "metadata": {},
   "outputs": [
    {
     "name": "stdout",
     "output_type": "stream",
     "text": [
      "1\n"
     ]
    }
   ],
   "source": [
    "print(freqDist[\"is\"])"
   ]
  },
  {
   "cell_type": "code",
   "execution_count": 75,
   "id": "4e0d4c33-2a70-48d3-b778-76f65405ea19",
   "metadata": {},
   "outputs": [
    {
     "name": "stdout",
     "output_type": "stream",
     "text": [
      "<class 'dict_keys'>\n"
     ]
    }
   ],
   "source": [
    "words = freqDist.keys()\n",
    "print(type(words))"
   ]
  },
  {
   "cell_type": "code",
   "execution_count": 76,
   "id": "922b31a4-9e78-4922-a9c7-3549f25dd515",
   "metadata": {},
   "outputs": [
    {
     "name": "stdout",
     "output_type": "stream",
     "text": [
      "18\n"
     ]
    }
   ],
   "source": [
    "print(len(words))"
   ]
  },
  {
   "cell_type": "code",
   "execution_count": 77,
   "id": "3027bc51-b567-4809-9d6b-b6e64cce3d58",
   "metadata": {},
   "outputs": [
    {
     "data": {
      "image/png": "[encoded data removed]",
      "text/plain": [
       "<Figure size 640x480 with 1 Axes>"
      ]
     },
     "metadata": {},
     "output_type": "display_data"
    },
    {
     "data": {
      "text/plain": [
       "<Axes: xlabel='Samples', ylabel='Counts'>"
      ]
     },
     "execution_count": 77,
     "metadata": {},
     "output_type": "execute_result"
    }
   ],
   "source": [
    "freqDist.plot(15)"
   ]
  },
  {
   "cell_type": "code",
   "execution_count": null,
   "id": "9d1d1b07-1d7b-48fc-a4f0-916be663b437",
   "metadata": {},
   "outputs": [],
   "source": []
  }
 ],
 "metadata": {
  "kernelspec": {
   "display_name": "Python 3 (ipykernel)",
   "language": "python",
   "name": "python3"
  },
  "language_info": {
   "codemirror_mode": {
    "name": "ipython",
    "version": 3
   },
   "file_extension": ".py",
   "mimetype": "text/x-python",
   "name": "python",
   "nbconvert_exporter": "python",
   "pygments_lexer": "ipython3",
   "version": "3.11.9"
  }
 },
 "nbformat": 4,
 "nbformat_minor": 5
}
