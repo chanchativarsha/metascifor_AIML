{
 "cells": [
  {
   "cell_type": "code",
   "execution_count": null,
   "id": "3da150b5-20c6-4b19-a053-e9927aa1c0fc",
   "metadata": {},
   "outputs": [],
   "source": [
    "# 1 : Basic Python "
   ]
  },
  {
   "cell_type": "code",
   "execution_count": null,
   "id": "01b02b8c-3d61-4a21-8b95-105c5109be60",
   "metadata": {},
   "outputs": [],
   "source": [
    "#List"
   ]
  },
  {
   "cell_type": "code",
   "execution_count": 1,
   "id": "bd9dff22-cf3c-4f65-93f8-dc839ffbe0f9",
   "metadata": {},
   "outputs": [],
   "source": [
    "fruits=[]"
   ]
  },
  {
   "cell_type": "code",
   "execution_count": 2,
   "id": "dfe7a4ec-78a6-497b-986a-59551657a438",
   "metadata": {},
   "outputs": [],
   "source": [
    "fruits.append('apple')"
   ]
  },
  {
   "cell_type": "code",
   "execution_count": 3,
   "id": "95ce31a0-32b8-4c3c-aa00-6332a73a0a1e",
   "metadata": {},
   "outputs": [
    {
     "data": {
      "text/plain": [
       "['apple']"
      ]
     },
     "execution_count": 3,
     "metadata": {},
     "output_type": "execute_result"
    }
   ],
   "source": [
    "fruits"
   ]
  },
  {
   "cell_type": "code",
   "execution_count": 5,
   "id": "863ecf5c-39cc-4a7c-8e22-de6fc4acc8a5",
   "metadata": {},
   "outputs": [],
   "source": [
    "fruits.extend(['banana','cherry'])"
   ]
  },
  {
   "cell_type": "code",
   "execution_count": 6,
   "id": "945b3f6d-1514-4546-9fd8-96ef791d413d",
   "metadata": {},
   "outputs": [
    {
     "data": {
      "text/plain": [
       "['apple', 'banana', 'cherry']"
      ]
     },
     "execution_count": 6,
     "metadata": {},
     "output_type": "execute_result"
    }
   ],
   "source": [
    "fruits"
   ]
  },
  {
   "cell_type": "code",
   "execution_count": 8,
   "id": "2859f950-a42f-41a6-86e7-7013bfe0691a",
   "metadata": {},
   "outputs": [],
   "source": [
    "fruits.remove('banana')"
   ]
  },
  {
   "cell_type": "code",
   "execution_count": 9,
   "id": "b8ee5670-c8c6-4edd-8dad-e18e9d0463fc",
   "metadata": {},
   "outputs": [
    {
     "data": {
      "text/plain": [
       "['apple', 'cherry']"
      ]
     },
     "execution_count": 9,
     "metadata": {},
     "output_type": "execute_result"
    }
   ],
   "source": [
    "fruits"
   ]
  },
  {
   "cell_type": "code",
   "execution_count": 10,
   "id": "28ef741c-c553-45d2-8ba9-9756000a60ba",
   "metadata": {},
   "outputs": [
    {
     "data": {
      "text/plain": [
       "'cherry'"
      ]
     },
     "execution_count": 10,
     "metadata": {},
     "output_type": "execute_result"
    }
   ],
   "source": [
    "fruits.pop()"
   ]
  },
  {
   "cell_type": "code",
   "execution_count": 11,
   "id": "bef47f07-5817-4f5d-a5de-fd31fdf66ea3",
   "metadata": {},
   "outputs": [
    {
     "data": {
      "text/plain": [
       "['apple']"
      ]
     },
     "execution_count": 11,
     "metadata": {},
     "output_type": "execute_result"
    }
   ],
   "source": [
    "fruits"
   ]
  },
  {
   "cell_type": "code",
   "execution_count": 12,
   "id": "2cd3b33c-c2f8-49b8-a483-f1b1e5a0d5ae",
   "metadata": {},
   "outputs": [],
   "source": [
    "fruits.append('banana')"
   ]
  },
  {
   "cell_type": "code",
   "execution_count": 13,
   "id": "acd3378c-3002-4591-a22b-50963e4aeb3f",
   "metadata": {},
   "outputs": [
    {
     "data": {
      "text/plain": [
       "['apple', 'banana']"
      ]
     },
     "execution_count": 13,
     "metadata": {},
     "output_type": "execute_result"
    }
   ],
   "source": [
    "fruits"
   ]
  },
  {
   "cell_type": "code",
   "execution_count": 14,
   "id": "09d9773d-5dd0-4046-be0b-bec2c83c6f19",
   "metadata": {},
   "outputs": [],
   "source": [
    "fruits.reverse()"
   ]
  },
  {
   "cell_type": "code",
   "execution_count": 15,
   "id": "e44f4844-46f3-4ff0-8aa6-68a3158d044b",
   "metadata": {},
   "outputs": [
    {
     "data": {
      "text/plain": [
       "['banana', 'apple']"
      ]
     },
     "execution_count": 15,
     "metadata": {},
     "output_type": "execute_result"
    }
   ],
   "source": [
    "fruits"
   ]
  },
  {
   "cell_type": "code",
   "execution_count": 17,
   "id": "0ed150da-1d2c-48f6-a615-63afbfe75c4d",
   "metadata": {},
   "outputs": [],
   "source": [
    "fruits.insert(1,'mango')"
   ]
  },
  {
   "cell_type": "code",
   "execution_count": 18,
   "id": "7754fcfd-a1f1-488d-a4f1-37ced9a33361",
   "metadata": {},
   "outputs": [
    {
     "data": {
      "text/plain": [
       "['banana', 'mango', 'apple']"
      ]
     },
     "execution_count": 18,
     "metadata": {},
     "output_type": "execute_result"
    }
   ],
   "source": [
    "fruits"
   ]
  },
  {
   "cell_type": "code",
   "execution_count": 20,
   "id": "97421f4d-90ae-47fd-8e53-50539f167b5a",
   "metadata": {},
   "outputs": [],
   "source": [
    "fruits.extend(['cherry','grapes'])"
   ]
  },
  {
   "cell_type": "code",
   "execution_count": 21,
   "id": "074b37c7-5a2a-4503-a73d-68ff46c501be",
   "metadata": {},
   "outputs": [
    {
     "data": {
      "text/plain": [
       "['banana', 'mango', 'apple', 'cherry', 'grapes']"
      ]
     },
     "execution_count": 21,
     "metadata": {},
     "output_type": "execute_result"
    }
   ],
   "source": [
    "fruits"
   ]
  },
  {
   "cell_type": "code",
   "execution_count": 22,
   "id": "b1fd93a9-67b5-4059-bb32-94d260d80705",
   "metadata": {},
   "outputs": [
    {
     "name": "stdout",
     "output_type": "stream",
     "text": [
      "['apple', 'cherry']\n"
     ]
    }
   ],
   "source": [
    "print(fruits[2:4])"
   ]
  },
  {
   "cell_type": "code",
   "execution_count": 60,
   "id": "37b01bfe-c402-4601-9d79-925b66a735ae",
   "metadata": {},
   "outputs": [],
   "source": [
    "numb=[1,2,3,4,5]"
   ]
  },
  {
   "cell_type": "code",
   "execution_count": 61,
   "id": "e683869d-71f5-4cf2-8bf6-62381e587294",
   "metadata": {},
   "outputs": [
    {
     "data": {
      "text/plain": [
       "[1, 2, 3, 4, 5]"
      ]
     },
     "execution_count": 61,
     "metadata": {},
     "output_type": "execute_result"
    }
   ],
   "source": [
    "numb"
   ]
  },
  {
   "cell_type": "code",
   "execution_count": 62,
   "id": "7ae2b729-4fbe-4a2b-a1c7-4f955eee3693",
   "metadata": {},
   "outputs": [
    {
     "name": "stdout",
     "output_type": "stream",
     "text": [
      "1\n",
      "5\n"
     ]
    }
   ],
   "source": [
    "print(numb[0])\n",
    "print(numb[-1])"
   ]
  },
  {
   "cell_type": "code",
   "execution_count": 63,
   "id": "a8909a54-43fc-4260-94f2-90ac6f94eaf3",
   "metadata": {},
   "outputs": [],
   "source": [
    "numb[2]=10"
   ]
  },
  {
   "cell_type": "code",
   "execution_count": 64,
   "id": "bea122c0-30d6-4146-84cc-a2c7d0d30121",
   "metadata": {},
   "outputs": [
    {
     "data": {
      "text/plain": [
       "[1, 2, 10, 4, 5]"
      ]
     },
     "execution_count": 64,
     "metadata": {},
     "output_type": "execute_result"
    }
   ],
   "source": [
    "numb"
   ]
  },
  {
   "cell_type": "code",
   "execution_count": 33,
   "id": "290d3288-3eab-4fa6-aac5-b465bbffd49c",
   "metadata": {},
   "outputs": [
    {
     "data": {
      "text/plain": [
       "['banana', 'mango', 'apple', 'cherry', 'grapes']"
      ]
     },
     "execution_count": 33,
     "metadata": {},
     "output_type": "execute_result"
    }
   ],
   "source": [
    "fruits"
   ]
  },
  {
   "cell_type": "code",
   "execution_count": 32,
   "id": "b39690d2-94c9-4cf3-a300-f17415c4a21b",
   "metadata": {},
   "outputs": [
    {
     "name": "stdout",
     "output_type": "stream",
     "text": [
      "grape is not in the list\n"
     ]
    }
   ],
   "source": [
    "if \"grape\" in fruits:\n",
    "    print(\"grape in the list\")\n",
    "else:\n",
    "    print(\"grape is not in the list\")"
   ]
  },
  {
   "cell_type": "code",
   "execution_count": 34,
   "id": "439bd882-f27f-42bd-a017-296a3790e6a5",
   "metadata": {},
   "outputs": [
    {
     "name": "stdout",
     "output_type": "stream",
     "text": [
      "items in the list\n",
      "banana\n",
      "mango\n",
      "apple\n",
      "cherry\n",
      "grapes\n"
     ]
    }
   ],
   "source": [
    "print(\"items in the list\")\n",
    "for item in fruits:\n",
    "    print(item)"
   ]
  },
  {
   "cell_type": "code",
   "execution_count": 36,
   "id": "60bb00a0-fdc0-4889-adbf-433404b0781e",
   "metadata": {},
   "outputs": [
    {
     "data": {
      "text/plain": [
       "5"
      ]
     },
     "execution_count": 36,
     "metadata": {},
     "output_type": "execute_result"
    }
   ],
   "source": [
    "len(fruits)"
   ]
  },
  {
   "cell_type": "code",
   "execution_count": null,
   "id": "47e75852-c5e3-4341-94ce-44cbe19f07b2",
   "metadata": {},
   "outputs": [],
   "source": [
    "#Tuple"
   ]
  },
  {
   "cell_type": "code",
   "execution_count": 5,
   "id": "c1b75d02-151a-4235-b6f1-db6748877ef6",
   "metadata": {},
   "outputs": [],
   "source": [
    "numbers=(1,2,3,4,5)"
   ]
  },
  {
   "cell_type": "code",
   "execution_count": 38,
   "id": "4e3a5a19-6efd-4aa8-8ea0-8c4829cce737",
   "metadata": {},
   "outputs": [
    {
     "data": {
      "text/plain": [
       "1"
      ]
     },
     "execution_count": 38,
     "metadata": {},
     "output_type": "execute_result"
    }
   ],
   "source": [
    "numbers.count(2)"
   ]
  },
  {
   "cell_type": "code",
   "execution_count": 39,
   "id": "375f5c69-6b0a-41ab-940b-91f60ed2dea8",
   "metadata": {},
   "outputs": [
    {
     "data": {
      "text/plain": [
       "3"
      ]
     },
     "execution_count": 39,
     "metadata": {},
     "output_type": "execute_result"
    }
   ],
   "source": [
    "numbers.index(4)"
   ]
  },
  {
   "cell_type": "code",
   "execution_count": 6,
   "id": "f616db6e-f74b-4825-849b-f3a7833a3636",
   "metadata": {},
   "outputs": [
    {
     "name": "stdout",
     "output_type": "stream",
     "text": [
      "Updated tuple after appending: (1, 2, 3, 4, 5, 5)\n"
     ]
    }
   ],
   "source": [
    "numbers_list = list(numbers)\n",
    "numbers_list.append(5)  \n",
    "numbers = tuple(numbers_list)\n",
    "print(\"Updated tuple after appending:\", numbers)"
   ]
  },
  {
   "cell_type": "code",
   "execution_count": 3,
   "id": "47d1bca1-7094-45e3-bb94-94f7ae691ee9",
   "metadata": {},
   "outputs": [],
   "source": [
    "colors = (\"red\", \"green\", \"blue\")"
   ]
  },
  {
   "cell_type": "code",
   "execution_count": 8,
   "id": "82415a84-e458-474e-ab9e-2c388d65a6e2",
   "metadata": {},
   "outputs": [
    {
     "ename": "SyntaxError",
     "evalue": "cannot assign to function call here. Maybe you meant '==' instead of '='? (1007465816.py, line 1)",
     "output_type": "error",
     "traceback": [
      "\u001b[1;36m  Cell \u001b[1;32mIn[8], line 1\u001b[1;36m\u001b[0m\n\u001b[1;33m    colors(\"red\")=\"blue\"\u001b[0m\n\u001b[1;37m    ^\u001b[0m\n\u001b[1;31mSyntaxError\u001b[0m\u001b[1;31m:\u001b[0m cannot assign to function call here. Maybe you meant '==' instead of '='?\n"
     ]
    }
   ],
   "source": [
    "colors(\"red\")=\"blue\""
   ]
  },
  {
   "cell_type": "code",
   "execution_count": 4,
   "id": "a77ed517-a91c-465f-8b16-6640d1d800ec",
   "metadata": {},
   "outputs": [
    {
     "name": "stdout",
     "output_type": "stream",
     "text": [
      "Updated colors tuple: ('red', 'green', 'blue', 'yellow')\n"
     ]
    }
   ],
   "source": [
    "colors_list = list(colors)\n",
    "colors_list.append(\"yellow\")\n",
    "colors = tuple(colors_list)\n",
    "print(\"Updated colors tuple:\", colors)"
   ]
  },
  {
   "cell_type": "code",
   "execution_count": null,
   "id": "8b18d565-0e88-408d-9ce2-24fa09257c7f",
   "metadata": {},
   "outputs": [],
   "source": [
    "#Set"
   ]
  },
  {
   "cell_type": "code",
   "execution_count": 59,
   "id": "01bef135-bde1-4782-9a40-0e6911220792",
   "metadata": {},
   "outputs": [],
   "source": [
    "my_set = set()"
   ]
  },
  {
   "cell_type": "code",
   "execution_count": 66,
   "id": "960ac744-af07-4506-a677-c4bb5345697f",
   "metadata": {},
   "outputs": [
    {
     "name": "stdout",
     "output_type": "stream",
     "text": [
      "my_set after adding items: {'apple', 'banana'}\n"
     ]
    }
   ],
   "source": [
    "my_set.add(\"apple\")\n",
    "my_set.add(\"banana\")\n",
    "print(\"my_set after adding items:\", my_set)"
   ]
  },
  {
   "cell_type": "code",
   "execution_count": 67,
   "id": "3e8dec34-a4e1-46bd-8633-749110f48193",
   "metadata": {},
   "outputs": [],
   "source": [
    "my_set.add(\"apple\")"
   ]
  },
  {
   "cell_type": "code",
   "execution_count": 68,
   "id": "562bd5c9-2a73-4c3b-99a3-d9cae788b76d",
   "metadata": {},
   "outputs": [
    {
     "data": {
      "text/plain": [
       "{'apple', 'banana'}"
      ]
     },
     "execution_count": 68,
     "metadata": {},
     "output_type": "execute_result"
    }
   ],
   "source": [
    "my_set"
   ]
  },
  {
   "cell_type": "code",
   "execution_count": 70,
   "id": "70c3e405-35af-487b-982c-6a3f4567c6ae",
   "metadata": {},
   "outputs": [],
   "source": [
    "set1 = {1,2,3}\n",
    "set2 = {3,4,5}"
   ]
  },
  {
   "cell_type": "code",
   "execution_count": 71,
   "id": "764e3a64-d248-4cdc-8040-c89538e934b3",
   "metadata": {},
   "outputs": [
    {
     "name": "stdout",
     "output_type": "stream",
     "text": [
      "Union: {1, 2, 3, 4, 5}\n",
      "Intersection: {3}\n"
     ]
    }
   ],
   "source": [
    "union_set = set1.union(set2)\n",
    "intersection_set = set1.intersection(set2)\n",
    "print(\"Union:\", union_set)\n",
    "print(\"Intersection:\", intersection_set)"
   ]
  },
  {
   "cell_type": "code",
   "execution_count": 72,
   "id": "1ba671b4-41c1-4313-aa56-5e06b9489de5",
   "metadata": {},
   "outputs": [
    {
     "name": "stdout",
     "output_type": "stream",
     "text": [
      "After discarding 'banana': {'apple'}\n"
     ]
    }
   ],
   "source": [
    "my_set.discard(\"banana\")\n",
    "print(\"After discarding 'banana':\", my_set)"
   ]
  },
  {
   "cell_type": "code",
   "execution_count": 73,
   "id": "eb1d9e54-e61c-46fd-8a21-51bd524cae8a",
   "metadata": {},
   "outputs": [
    {
     "name": "stdout",
     "output_type": "stream",
     "text": [
      "Elements in my_set:\n",
      "apple\n"
     ]
    }
   ],
   "source": [
    "print(\"Elements in my_set:\")\n",
    "for item in my_set:\n",
    "    print(item)"
   ]
  },
  {
   "cell_type": "code",
   "execution_count": null,
   "id": "0944a84a-7848-47a8-94ec-e054bd6313c6",
   "metadata": {},
   "outputs": [],
   "source": [
    "#Dictionary"
   ]
  },
  {
   "cell_type": "code",
   "execution_count": 74,
   "id": "efa33725-501c-4bc5-ae20-c709ef36b4f6",
   "metadata": {},
   "outputs": [],
   "source": [
    "person = {\"name\": \"Ali\"}"
   ]
  },
  {
   "cell_type": "code",
   "execution_count": 75,
   "id": "16249d8c-25f6-4205-aecb-70466f51479d",
   "metadata": {},
   "outputs": [
    {
     "name": "stdout",
     "output_type": "stream",
     "text": [
      "After adding age: {'name': 'Ali', 'age': 25}\n"
     ]
    }
   ],
   "source": [
    "person[\"age\"] = 25\n",
    "print(\"After adding age:\", person)"
   ]
  },
  {
   "cell_type": "code",
   "execution_count": 76,
   "id": "c8dabe5f-dd31-45e8-9f45-298e692b3036",
   "metadata": {},
   "outputs": [
    {
     "name": "stdout",
     "output_type": "stream",
     "text": [
      "After updating name: {'name': 'Ahmed', 'age': 25}\n"
     ]
    }
   ],
   "source": [
    "person[\"name\"] = \"Ahmed\"\n",
    "print(\"After updating name:\", person)"
   ]
  },
  {
   "cell_type": "code",
   "execution_count": 77,
   "id": "829c5602-4957-4e91-a87a-23a6b2982ab7",
   "metadata": {},
   "outputs": [
    {
     "name": "stdout",
     "output_type": "stream",
     "text": [
      "Student Dictionary: {'name': 'Sara', 'grade': 'A', 'age': 17}\n"
     ]
    }
   ],
   "source": [
    "student = {\"name\": \"Sara\", \"grade\": \"A\", \"age\": 17}\n",
    "print(\"Student Dictionary:\", student)"
   ]
  },
  {
   "cell_type": "code",
   "execution_count": 78,
   "id": "ee226a2e-3cea-43f0-bbaf-1055d51294ab",
   "metadata": {},
   "outputs": [
    {
     "name": "stdout",
     "output_type": "stream",
     "text": [
      "Keys: dict_keys(['name', 'grade', 'age'])\n"
     ]
    }
   ],
   "source": [
    "print(\"Keys:\", student.keys())"
   ]
  },
  {
   "cell_type": "code",
   "execution_count": 79,
   "id": "a45455e8-0914-41b4-834d-1b56e5b03c98",
   "metadata": {},
   "outputs": [
    {
     "name": "stdout",
     "output_type": "stream",
     "text": [
      "Values: dict_values(['Sara', 'A', 17])\n"
     ]
    }
   ],
   "source": [
    "print(\"Values:\", student.values())"
   ]
  },
  {
   "cell_type": "code",
   "execution_count": 80,
   "id": "93501787-7def-4f3a-ac90-d83105082a95",
   "metadata": {},
   "outputs": [
    {
     "name": "stdout",
     "output_type": "stream",
     "text": [
      "'grade' key exists in student dictionary.\n"
     ]
    }
   ],
   "source": [
    "if \"grade\" in student:\n",
    "    print(\"'grade' key exists in student dictionary.\")"
   ]
  },
  {
   "cell_type": "code",
   "execution_count": 81,
   "id": "b92ba7c6-b6f9-4883-a7bb-d7867cbf5219",
   "metadata": {},
   "outputs": [
    {
     "name": "stdout",
     "output_type": "stream",
     "text": [
      "Student info:\n",
      "name : Sara\n",
      "grade : A\n",
      "age : 17\n"
     ]
    }
   ],
   "source": [
    "print(\"Student info:\")\n",
    "for key, value in student.items():\n",
    "    print(key, \":\", value)"
   ]
  },
  {
   "cell_type": "code",
   "execution_count": null,
   "id": "d597ba16-5d38-4c92-9078-26e3bb5f69cf",
   "metadata": {},
   "outputs": [],
   "source": []
  },
  {
   "cell_type": "code",
   "execution_count": null,
   "id": "579492c6-f7e6-4dfd-aaf4-461380676b9d",
   "metadata": {},
   "outputs": [],
   "source": [
    "#Elif"
   ]
  },
  {
   "cell_type": "code",
   "execution_count": 84,
   "id": "572e3c00-8e05-4d58-a970-babc96d170b7",
   "metadata": {},
   "outputs": [],
   "source": [
    "number = [6, 7, 10, 22, 23]"
   ]
  },
  {
   "cell_type": "code",
   "execution_count": 86,
   "id": "9779f5ba-d0bc-41ce-b55e-0980a60185ee",
   "metadata": {},
   "outputs": [
    {
     "name": "stdout",
     "output_type": "stream",
     "text": [
      "Found 10\n"
     ]
    }
   ],
   "source": [
    "if 10 in number:\n",
    "    print(\"Found 10\")\n",
    "else:\n",
    "    print(\"10 not found\")"
   ]
  },
  {
   "cell_type": "code",
   "execution_count": 87,
   "id": "4f552904-5d7e-4923-a420-c5c148993484",
   "metadata": {},
   "outputs": [
    {
     "name": "stdout",
     "output_type": "stream",
     "text": [
      "Small number\n"
     ]
    }
   ],
   "source": [
    "if any(num > 20 for num in numbers):\n",
    "    print(\"Large number\")\n",
    "else:\n",
    "    print(\"Small number\")"
   ]
  },
  {
   "cell_type": "code",
   "execution_count": null,
   "id": "e4959653-093c-419a-a838-bf484b4cb2b3",
   "metadata": {},
   "outputs": [],
   "source": []
  },
  {
   "cell_type": "code",
   "execution_count": null,
   "id": "61226516-b368-46d7-aaf9-7d41e7228b8c",
   "metadata": {},
   "outputs": [],
   "source": [
    "#Simple Expression"
   ]
  },
  {
   "cell_type": "code",
   "execution_count": 88,
   "id": "87c08b0f-aeb4-4639-a2c8-e20561ec03d9",
   "metadata": {},
   "outputs": [
    {
     "name": "stdout",
     "output_type": "stream",
     "text": [
      "a + b = 15\n",
      "a * b = 50\n",
      "b - a = 5\n",
      "b / a = 2.0\n"
     ]
    }
   ],
   "source": [
    "a = 5\n",
    "b = 10\n",
    "\n",
    "print(\"a + b =\", a + b)\n",
    "print(\"a * b =\", a * b)\n",
    "print(\"b - a =\", b - a)\n",
    "print(\"b / a =\", b / a)"
   ]
  },
  {
   "cell_type": "code",
   "execution_count": 89,
   "id": "a24a0d49-0838-4c95-bbfe-d7b65b5ddf39",
   "metadata": {},
   "outputs": [
    {
     "name": "stdout",
     "output_type": "stream",
     "text": [
      "Result of (a + b) * 2 = 30\n"
     ]
    }
   ],
   "source": [
    "result = (a + b) * 2\n",
    "print(\"Result of (a + b) * 2 =\", result)"
   ]
  },
  {
   "cell_type": "code",
   "execution_count": 90,
   "id": "4ebebbd8-859b-4269-97f9-aff4f51cba84",
   "metadata": {},
   "outputs": [
    {
     "name": "stdin",
     "output_type": "stream",
     "text": [
      "Enter your age:  23\n"
     ]
    },
    {
     "name": "stdout",
     "output_type": "stream",
     "text": [
      "You are an adult\n"
     ]
    }
   ],
   "source": [
    "age = int(input(\"Enter your age: \"))\n",
    "\n",
    "if age >= 18:\n",
    "    print(\"You are an adult\")\n",
    "else:\n",
    "    print(\"You are a minor\")"
   ]
  },
  {
   "cell_type": "code",
   "execution_count": null,
   "id": "822076e2-7fbe-4390-a55d-a6109870dad2",
   "metadata": {},
   "outputs": [],
   "source": []
  },
  {
   "cell_type": "code",
   "execution_count": null,
   "id": "cd5578b1-1143-4b5e-8e3a-738e11512b80",
   "metadata": {},
   "outputs": [],
   "source": [
    "#More Expression Questions"
   ]
  },
  {
   "cell_type": "code",
   "execution_count": 91,
   "id": "b2afc837-ef87-421f-969b-05568256c16d",
   "metadata": {},
   "outputs": [
    {
     "name": "stdout",
     "output_type": "stream",
     "text": [
      "Area of the rectangle: 50\n"
     ]
    }
   ],
   "source": [
    "width = 5\n",
    "height = 10\n",
    "area = width * height\n",
    "print(\"Area of the rectangle:\", area)"
   ]
  },
  {
   "cell_type": "code",
   "execution_count": 96,
   "id": "6643342a-11e1-43c0-a1df-8c8e774e9c70",
   "metadata": {},
   "outputs": [
    {
     "name": "stdout",
     "output_type": "stream",
     "text": [
      "Temperature in Fahrenheit: 71.6\n"
     ]
    }
   ],
   "source": [
    "C = 22\n",
    "F = (C * 9/5) + 32\n",
    "print(\"Temperature in Fahrenheit:\", F)"
   ]
  },
  {
   "cell_type": "code",
   "execution_count": 95,
   "id": "9fda6e60-33f3-4c5f-8c97-ca0aa3f871e2",
   "metadata": {},
   "outputs": [
    {
     "name": "stdout",
     "output_type": "stream",
     "text": [
      "Simple Interest: 120.0\n"
     ]
    }
   ],
   "source": [
    "P = 1000  \n",
    "R = 6    \n",
    "T = 2     \n",
    "SI = (P * R * T) / 100\n",
    "print(\"Simple Interest:\", SI)"
   ]
  },
  {
   "cell_type": "code",
   "execution_count": null,
   "id": "871e50c4-f2de-4b23-a04f-7b808e47e9b9",
   "metadata": {},
   "outputs": [],
   "source": []
  },
  {
   "cell_type": "code",
   "execution_count": null,
   "id": "5b0b28c7-cbae-48a0-b6fb-09c397a41725",
   "metadata": {},
   "outputs": [],
   "source": [
    "#Range Function"
   ]
  },
  {
   "cell_type": "code",
   "execution_count": 97,
   "id": "28baad68-5089-4dfe-88da-ae440be5d6ee",
   "metadata": {},
   "outputs": [
    {
     "name": "stdout",
     "output_type": "stream",
     "text": [
      "0\n",
      "1\n",
      "2\n",
      "3\n",
      "4\n"
     ]
    }
   ],
   "source": [
    "for i in range(5):\n",
    "    print(i)"
   ]
  },
  {
   "cell_type": "code",
   "execution_count": 98,
   "id": "6edb8526-0503-4bdf-a8eb-f55a7ea3e5e0",
   "metadata": {},
   "outputs": [
    {
     "name": "stdout",
     "output_type": "stream",
     "text": [
      "1\n",
      "2\n",
      "3\n",
      "4\n",
      "5\n"
     ]
    }
   ],
   "source": [
    "for i in range(1, 6):\n",
    "    print(i)\n"
   ]
  },
  {
   "cell_type": "code",
   "execution_count": 99,
   "id": "9426977e-c51c-45c5-8caf-6b04f0025f45",
   "metadata": {},
   "outputs": [
    {
     "name": "stdout",
     "output_type": "stream",
     "text": [
      "Hello\n",
      "Hello\n",
      "Hello\n",
      "Hello\n",
      "Hello\n"
     ]
    }
   ],
   "source": [
    "for i in range(5):\n",
    "    print(\"Hello\")"
   ]
  },
  {
   "cell_type": "code",
   "execution_count": 100,
   "id": "2e182510-02c9-446b-be19-50ebc4e97be1",
   "metadata": {},
   "outputs": [
    {
     "name": "stdout",
     "output_type": "stream",
     "text": [
      "2\n",
      "4\n",
      "6\n",
      "8\n",
      "10\n"
     ]
    }
   ],
   "source": [
    "for i in range(2, 11, 2):\n",
    "    print(i)"
   ]
  },
  {
   "cell_type": "code",
   "execution_count": 101,
   "id": "88eefd24-f537-4139-b9bb-f43fa3b77873",
   "metadata": {},
   "outputs": [
    {
     "name": "stdout",
     "output_type": "stream",
     "text": [
      "10\n",
      "9\n",
      "8\n",
      "7\n",
      "6\n",
      "5\n",
      "4\n",
      "3\n",
      "2\n",
      "1\n"
     ]
    }
   ],
   "source": [
    "for i in range(10, 0, -1):\n",
    "    print(i)"
   ]
  },
  {
   "cell_type": "code",
   "execution_count": 7,
   "id": "2e2d2f0c-d56a-4566-869c-d5bf50050859",
   "metadata": {},
   "outputs": [
    {
     "name": "stdout",
     "output_type": "stream",
     "text": [
      "[3, 4, 5, 6, 7]\n"
     ]
    }
   ],
   "source": [
    "number_list = list(range(3, 8))\n",
    "print(number_list)\n"
   ]
  },
  {
   "cell_type": "code",
   "execution_count": 103,
   "id": "7cfd652e-7e17-423b-9cff-5f5a6745ecc9",
   "metadata": {},
   "outputs": [
    {
     "name": "stdout",
     "output_type": "stream",
     "text": [
      "Square of 1: 1\n",
      "Square of 2: 4\n",
      "Square of 3: 9\n",
      "Square of 4: 16\n",
      "Square of 5: 25\n"
     ]
    }
   ],
   "source": [
    "for i in range(1, 6):\n",
    "    print(f\"Square of {i}: {i ** 2}\")"
   ]
  },
  {
   "cell_type": "code",
   "execution_count": null,
   "id": "33d4d11f-6991-4d19-9a17-8ed565c4a768",
   "metadata": {},
   "outputs": [],
   "source": []
  }
 ],
 "metadata": {
  "kernelspec": {
   "display_name": "Python 3 (ipykernel)",
   "language": "python",
   "name": "python3"
  },
  "language_info": {
   "codemirror_mode": {
    "name": "ipython",
    "version": 3
   },
   "file_extension": ".py",
   "mimetype": "text/x-python",
   "name": "python",
   "nbconvert_exporter": "python",
   "pygments_lexer": "ipython3",
   "version": "3.11.9"
  }
 },
 "nbformat": 4,
 "nbformat_minor": 5
}
